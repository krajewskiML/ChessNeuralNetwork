{
 "cells": [
  {
   "cell_type": "code",
   "execution_count": 1,
   "metadata": {
    "collapsed": true
   },
   "outputs": [],
   "source": [
    "import tensorflow as tf\n",
    "from tensorflow import keras\n",
    "from tensorflow.keras import layers\n",
    "import numpy as np\n",
    "from keras import metrics\n",
    "from keras import backend as K\n",
    "import matplotlib.pyplot as plt"
   ]
  },
  {
   "cell_type": "markdown",
   "source": [
    "Load and normalize data"
   ],
   "metadata": {
    "collapsed": false
   }
  },
  {
   "cell_type": "code",
   "execution_count": 2,
   "outputs": [],
   "source": [
    "transformed_data = np.fromfile(\"inputs_transformed.npy\").reshape((-1, 12, 8, 8))\n",
    "labels = np.fromfile(\"labels.npy\")"
   ],
   "metadata": {
    "collapsed": false
   }
  },
  {
   "cell_type": "code",
   "execution_count": 3,
   "outputs": [
    {
     "data": {
      "text/plain": "(-10000.0, 10000.0)"
     },
     "execution_count": 3,
     "metadata": {},
     "output_type": "execute_result"
    }
   ],
   "source": [
    "labels.min(), labels.max()"
   ],
   "metadata": {
    "collapsed": false
   }
  },
  {
   "cell_type": "markdown",
   "source": [
    "Scale labels to range <-1, 1> so we can use tanh loss"
   ],
   "metadata": {
    "collapsed": false
   }
  },
  {
   "cell_type": "code",
   "execution_count": 4,
   "outputs": [],
   "source": [
    "transformed_labels = ((labels - labels.min()) / (labels.max() - labels.min())) * 2 - 1"
   ],
   "metadata": {
    "collapsed": false
   }
  },
  {
   "cell_type": "code",
   "execution_count": 5,
   "outputs": [
    {
     "data": {
      "text/plain": "(-1.0, 1.0)"
     },
     "execution_count": 5,
     "metadata": {},
     "output_type": "execute_result"
    }
   ],
   "source": [
    "transformed_labels.min(), transformed_labels.max()"
   ],
   "metadata": {
    "collapsed": false
   }
  },
  {
   "cell_type": "markdown",
   "source": [
    "split the data"
   ],
   "metadata": {
    "collapsed": false
   }
  },
  {
   "cell_type": "code",
   "execution_count": 6,
   "outputs": [],
   "source": [
    "from sklearn.model_selection import train_test_split\n",
    "X_train, X_val, y_train, y_val = train_test_split(transformed_data, transformed_labels, test_size=0.2, random_state=42)"
   ],
   "metadata": {
    "collapsed": false
   }
  },
  {
   "cell_type": "markdown",
   "source": [
    "Define basic shallow model which we will use as a baseline"
   ],
   "metadata": {
    "collapsed": false
   }
  },
  {
   "cell_type": "code",
   "execution_count": 8,
   "outputs": [
    {
     "name": "stdout",
     "output_type": "stream",
     "text": [
      "Model: \"sequential\"\n",
      "_________________________________________________________________\n",
      " Layer (type)                Output Shape              Param #   \n",
      "=================================================================\n",
      " flatten (Flatten)           (None, 768)               0         \n",
      "                                                                 \n",
      " dense (Dense)               (None, 1)                 769       \n",
      "                                                                 \n",
      "=================================================================\n",
      "Total params: 769\n",
      "Trainable params: 769\n",
      "Non-trainable params: 0\n",
      "_________________________________________________________________\n"
     ]
    }
   ],
   "source": [
    "base_model = keras.Sequential(\n",
    "    [\n",
    "        keras.Input(shape=(12, 8, 8)),\n",
    "        layers.Flatten(),\n",
    "        layers.Dense(1, activation=\"tanh\")\n",
    "    ]\n",
    ")\n",
    "base_model.summary()"
   ],
   "metadata": {
    "collapsed": false
   }
  },
  {
   "cell_type": "markdown",
   "source": [
    "Compile the model"
   ],
   "metadata": {
    "collapsed": false
   }
  },
  {
   "cell_type": "code",
   "execution_count": 11,
   "outputs": [],
   "source": [
    "base_model.compile(\n",
    "    loss=\"mse\",\n",
    "    optimizer=\"adam\",\n",
    "    metrics=[\"mse\", \"mae\"],\n",
    ")"
   ],
   "metadata": {
    "collapsed": false
   }
  },
  {
   "cell_type": "markdown",
   "source": [
    "Train the model"
   ],
   "metadata": {
    "collapsed": false
   }
  },
  {
   "cell_type": "code",
   "execution_count": 16,
   "outputs": [
    {
     "name": "stdout",
     "output_type": "stream",
     "text": [
      "Epoch 1/10\n",
      "3201/3201 [==============================] - 15s 5ms/step - loss: 0.0207 - mse: 0.0207 - mae: 0.0402 - val_loss: 0.0204 - val_mse: 0.0204 - val_mae: 0.0399\n",
      "Epoch 2/10\n",
      "3201/3201 [==============================] - 13s 4ms/step - loss: 0.0207 - mse: 0.0207 - mae: 0.0412 - val_loss: 0.0204 - val_mse: 0.0204 - val_mae: 0.0401\n",
      "Epoch 3/10\n",
      "3201/3201 [==============================] - 13s 4ms/step - loss: 0.0207 - mse: 0.0207 - mae: 0.0413 - val_loss: 0.0206 - val_mse: 0.0206 - val_mae: 0.0421\n",
      "Epoch 4/10\n",
      "3201/3201 [==============================] - 13s 4ms/step - loss: 0.0207 - mse: 0.0207 - mae: 0.0414 - val_loss: 0.0205 - val_mse: 0.0205 - val_mae: 0.0415\n",
      "Epoch 5/10\n",
      "3201/3201 [==============================] - 13s 4ms/step - loss: 0.0207 - mse: 0.0207 - mae: 0.0414 - val_loss: 0.0205 - val_mse: 0.0205 - val_mae: 0.0406\n",
      "Epoch 6/10\n",
      "3201/3201 [==============================] - 13s 4ms/step - loss: 0.0207 - mse: 0.0207 - mae: 0.0413 - val_loss: 0.0205 - val_mse: 0.0205 - val_mae: 0.0418\n",
      "Epoch 7/10\n",
      "3201/3201 [==============================] - 13s 4ms/step - loss: 0.0207 - mse: 0.0207 - mae: 0.0414 - val_loss: 0.0205 - val_mse: 0.0205 - val_mae: 0.0406\n",
      "Epoch 8/10\n",
      "3201/3201 [==============================] - 13s 4ms/step - loss: 0.0207 - mse: 0.0207 - mae: 0.0414 - val_loss: 0.0205 - val_mse: 0.0205 - val_mae: 0.0412\n",
      "Epoch 9/10\n",
      "3201/3201 [==============================] - 13s 4ms/step - loss: 0.0207 - mse: 0.0207 - mae: 0.0414 - val_loss: 0.0204 - val_mse: 0.0204 - val_mae: 0.0406\n",
      "Epoch 10/10\n",
      "3201/3201 [==============================] - 13s 4ms/step - loss: 0.0207 - mse: 0.0207 - mae: 0.0414 - val_loss: 0.0205 - val_mse: 0.0205 - val_mae: 0.0410\n"
     ]
    }
   ],
   "source": [
    "base_model_history = base_model.fit(X_train, y_train, batch_size=256, epochs=10, validation_data=(X_val, y_val))"
   ],
   "metadata": {
    "collapsed": false
   }
  },
  {
   "cell_type": "code",
   "execution_count": 15,
   "outputs": [],
   "source": [
    "K.clear_session()"
   ],
   "metadata": {
    "collapsed": false
   }
  },
  {
   "cell_type": "code",
   "execution_count": 18,
   "outputs": [
    {
     "name": "stdout",
     "output_type": "stream",
     "text": [
      "Model: \"sequential_1\"\n",
      "_________________________________________________________________\n",
      " Layer (type)                Output Shape              Param #   \n",
      "=================================================================\n",
      " flatten_1 (Flatten)         (None, 768)               0         \n",
      "                                                                 \n",
      " dense_3 (Dense)             (None, 96)                73824     \n",
      "                                                                 \n",
      " dense_4 (Dense)             (None, 12)                1164      \n",
      "                                                                 \n",
      " dense_5 (Dense)             (None, 1)                 13        \n",
      "                                                                 \n",
      "=================================================================\n",
      "Total params: 75,001\n",
      "Trainable params: 75,001\n",
      "Non-trainable params: 0\n",
      "_________________________________________________________________\n"
     ]
    }
   ],
   "source": [
    "model_narrowing = keras.Sequential(\n",
    "    [\n",
    "        keras.Input(shape=(12, 8, 8)),\n",
    "        layers.Flatten(),\n",
    "        layers.Dense(12*8, activation=\"relu\"),\n",
    "        layers.Dense(12, activation=\"relu\"),\n",
    "        layers.Dense(1, activation=\"tanh\")\n",
    "    ]\n",
    ")\n",
    "model_narrowing.summary()"
   ],
   "metadata": {
    "collapsed": false
   }
  },
  {
   "cell_type": "code",
   "execution_count": 19,
   "outputs": [],
   "source": [
    "model_narrowing.compile(\n",
    "    loss=\"mse\",\n",
    "    optimizer=\"adam\",\n",
    "    metrics=[\"mse\", \"mae\"],\n",
    ")"
   ],
   "metadata": {
    "collapsed": false
   }
  },
  {
   "cell_type": "code",
   "execution_count": 20,
   "outputs": [
    {
     "name": "stdout",
     "output_type": "stream",
     "text": [
      "Epoch 1/10\n",
      "3201/3201 [==============================] - 17s 5ms/step - loss: 0.0209 - mse: 0.0209 - mae: 0.0443 - val_loss: 0.0203 - val_mse: 0.0203 - val_mae: 0.0413\n",
      "Epoch 2/10\n",
      "3201/3201 [==============================] - 16s 5ms/step - loss: 0.0199 - mse: 0.0199 - mae: 0.0411 - val_loss: 0.0198 - val_mse: 0.0198 - val_mae: 0.0400\n",
      "Epoch 3/10\n",
      "3201/3201 [==============================] - 16s 5ms/step - loss: 0.0189 - mse: 0.0189 - mae: 0.0402 - val_loss: 0.0196 - val_mse: 0.0196 - val_mae: 0.0402\n",
      "Epoch 4/10\n",
      "3201/3201 [==============================] - 16s 5ms/step - loss: 0.0176 - mse: 0.0176 - mae: 0.0394 - val_loss: 0.0197 - val_mse: 0.0197 - val_mae: 0.0402\n",
      "Epoch 5/10\n",
      "3201/3201 [==============================] - 16s 5ms/step - loss: 0.0165 - mse: 0.0165 - mae: 0.0384 - val_loss: 0.0199 - val_mse: 0.0199 - val_mae: 0.0402\n",
      "Epoch 6/10\n",
      "3201/3201 [==============================] - 16s 5ms/step - loss: 0.0156 - mse: 0.0156 - mae: 0.0373 - val_loss: 0.0199 - val_mse: 0.0199 - val_mae: 0.0400\n",
      "Epoch 7/10\n",
      "3201/3201 [==============================] - 16s 5ms/step - loss: 0.0150 - mse: 0.0150 - mae: 0.0364 - val_loss: 0.0203 - val_mse: 0.0203 - val_mae: 0.0412\n",
      "Epoch 8/10\n",
      "3201/3201 [==============================] - 16s 5ms/step - loss: 0.0145 - mse: 0.0145 - mae: 0.0358 - val_loss: 0.0205 - val_mse: 0.0205 - val_mae: 0.0408\n",
      "Epoch 9/10\n",
      "3201/3201 [==============================] - 16s 5ms/step - loss: 0.0140 - mse: 0.0140 - mae: 0.0352 - val_loss: 0.0209 - val_mse: 0.0209 - val_mae: 0.0413\n",
      "Epoch 10/10\n",
      "3201/3201 [==============================] - 16s 5ms/step - loss: 0.0137 - mse: 0.0137 - mae: 0.0348 - val_loss: 0.0209 - val_mse: 0.0209 - val_mae: 0.0413\n"
     ]
    },
    {
     "data": {
      "text/plain": "<keras.callbacks.History at 0x29f94f7e3d0>"
     },
     "execution_count": 20,
     "metadata": {},
     "output_type": "execute_result"
    }
   ],
   "source": [
    "model_narrowing.fit(X_train, y_train, batch_size=256, epochs=10, validation_data=(X_val, y_val))"
   ],
   "metadata": {
    "collapsed": false
   }
  },
  {
   "cell_type": "code",
   "execution_count": 7,
   "outputs": [
    {
     "name": "stdout",
     "output_type": "stream",
     "text": [
      "Model: \"sequential\"\n",
      "_________________________________________________________________\n",
      " Layer (type)                Output Shape              Param #   \n",
      "=================================================================\n",
      " flatten (Flatten)           (None, 768)               0         \n",
      "                                                                 \n",
      " batch_normalization (BatchN  (None, 768)              3072      \n",
      " ormalization)                                                   \n",
      "                                                                 \n",
      " dense (Dense)               (None, 768)               590592    \n",
      "                                                                 \n",
      " batch_normalization_1 (Batc  (None, 768)              3072      \n",
      " hNormalization)                                                 \n",
      "                                                                 \n",
      " dense_1 (Dense)             (None, 96)                73824     \n",
      "                                                                 \n",
      " batch_normalization_2 (Batc  (None, 96)               384       \n",
      " hNormalization)                                                 \n",
      "                                                                 \n",
      " dense_2 (Dense)             (None, 12)                1164      \n",
      "                                                                 \n",
      " batch_normalization_3 (Batc  (None, 12)               48        \n",
      " hNormalization)                                                 \n",
      "                                                                 \n",
      " dense_3 (Dense)             (None, 1)                 13        \n",
      "                                                                 \n",
      "=================================================================\n",
      "Total params: 672,169\n",
      "Trainable params: 668,881\n",
      "Non-trainable params: 3,288\n",
      "_________________________________________________________________\n"
     ]
    }
   ],
   "source": [
    "K.clear_session()\n",
    "model_extended = keras.Sequential(\n",
    "    [\n",
    "        keras.Input(shape=(12, 8, 8)),\n",
    "        layers.Flatten(),\n",
    "        layers.BatchNormalization(),\n",
    "        layers.Dense(12*8*8, activation=\"relu\"),\n",
    "        layers.BatchNormalization(),\n",
    "        layers.Dense(12*8, activation=\"relu\"),\n",
    "        layers.BatchNormalization(),\n",
    "        layers.Dense(12, activation=\"relu\"),\n",
    "        layers.BatchNormalization(),\n",
    "        layers.Dense(1, activation=\"tanh\")\n",
    "    ]\n",
    ")\n",
    "model_extended.summary()"
   ],
   "metadata": {
    "collapsed": false
   }
  },
  {
   "cell_type": "code",
   "execution_count": 8,
   "outputs": [],
   "source": [
    "model_extended.compile(\n",
    "    loss=\"mse\",\n",
    "    optimizer=\"adam\",\n",
    "    metrics=[\"mse\", \"mae\"],\n",
    ")"
   ],
   "metadata": {
    "collapsed": false
   }
  },
  {
   "cell_type": "code",
   "execution_count": 9,
   "outputs": [
    {
     "name": "stdout",
     "output_type": "stream",
     "text": [
      "Epoch 1/20\n",
      "6402/6402 [==============================] - 79s 12ms/step - loss: 0.0251 - mse: 0.0251 - mae: 0.0551 - val_loss: 0.0211 - val_mse: 0.0211 - val_mae: 0.0469\n",
      "Epoch 2/20\n",
      "6402/6402 [==============================] - 73s 11ms/step - loss: 0.0207 - mse: 0.0207 - mae: 0.0446 - val_loss: 0.0221 - val_mse: 0.0221 - val_mae: 0.0500\n",
      "Epoch 3/20\n",
      "6402/6402 [==============================] - 76s 12ms/step - loss: 0.0201 - mse: 0.0201 - mae: 0.0443 - val_loss: 0.0237 - val_mse: 0.0237 - val_mae: 0.0530\n",
      "Epoch 4/20\n",
      "6402/6402 [==============================] - 75s 12ms/step - loss: 0.0187 - mse: 0.0187 - mae: 0.0460 - val_loss: 0.0339 - val_mse: 0.0339 - val_mae: 0.0743\n",
      "Epoch 5/20\n",
      "6402/6402 [==============================] - 76s 12ms/step - loss: 0.0167 - mse: 0.0167 - mae: 0.0464 - val_loss: 0.0433 - val_mse: 0.0433 - val_mae: 0.0849\n",
      "Epoch 6/20\n",
      "6402/6402 [==============================] - 76s 12ms/step - loss: 0.0147 - mse: 0.0147 - mae: 0.0448 - val_loss: 0.0492 - val_mse: 0.0492 - val_mae: 0.0934\n",
      "Epoch 7/20\n",
      "6402/6402 [==============================] - 73s 11ms/step - loss: 0.0129 - mse: 0.0129 - mae: 0.0426 - val_loss: 0.0577 - val_mse: 0.0577 - val_mae: 0.1020\n",
      "Epoch 8/20\n",
      "6402/6402 [==============================] - 75s 12ms/step - loss: 0.0115 - mse: 0.0115 - mae: 0.0407 - val_loss: 0.0505 - val_mse: 0.0505 - val_mae: 0.0921\n",
      "Epoch 9/20\n",
      "6402/6402 [==============================] - 76s 12ms/step - loss: 0.0104 - mse: 0.0104 - mae: 0.0393 - val_loss: 0.0493 - val_mse: 0.0493 - val_mae: 0.0869\n",
      "Epoch 10/20\n",
      "6402/6402 [==============================] - 76s 12ms/step - loss: 0.0095 - mse: 0.0095 - mae: 0.0381 - val_loss: 0.0501 - val_mse: 0.0501 - val_mae: 0.0889\n",
      "Epoch 11/20\n",
      "6402/6402 [==============================] - 75s 12ms/step - loss: 0.0087 - mse: 0.0087 - mae: 0.0370 - val_loss: 0.0474 - val_mse: 0.0474 - val_mae: 0.0858\n",
      "Epoch 12/20\n",
      "6402/6402 [==============================] - 76s 12ms/step - loss: 0.0082 - mse: 0.0082 - mae: 0.0364 - val_loss: 0.0490 - val_mse: 0.0490 - val_mae: 0.0839\n",
      "Epoch 13/20\n",
      "6402/6402 [==============================] - 75s 12ms/step - loss: 0.0077 - mse: 0.0077 - mae: 0.0358 - val_loss: 0.0466 - val_mse: 0.0466 - val_mae: 0.0779\n",
      "Epoch 14/20\n",
      "6402/6402 [==============================] - 70s 11ms/step - loss: 0.0073 - mse: 0.0073 - mae: 0.0351 - val_loss: 0.0452 - val_mse: 0.0452 - val_mae: 0.0789\n",
      "Epoch 15/20\n",
      "6402/6402 [==============================] - 71s 11ms/step - loss: 0.0069 - mse: 0.0069 - mae: 0.0347 - val_loss: 0.0490 - val_mse: 0.0490 - val_mae: 0.0841\n",
      "Epoch 16/20\n",
      "6402/6402 [==============================] - 74s 12ms/step - loss: 0.0066 - mse: 0.0066 - mae: 0.0343 - val_loss: 0.0448 - val_mse: 0.0448 - val_mae: 0.0809\n",
      "Epoch 17/20\n",
      "6402/6402 [==============================] - 74s 12ms/step - loss: 0.0063 - mse: 0.0063 - mae: 0.0338 - val_loss: 0.0436 - val_mse: 0.0436 - val_mae: 0.0768\n",
      "Epoch 18/20\n",
      "6402/6402 [==============================] - 76s 12ms/step - loss: 0.0061 - mse: 0.0061 - mae: 0.0335 - val_loss: 0.0438 - val_mse: 0.0438 - val_mae: 0.0764\n",
      "Epoch 19/20\n",
      "6402/6402 [==============================] - 74s 12ms/step - loss: 0.0057 - mse: 0.0057 - mae: 0.0330 - val_loss: 0.0436 - val_mse: 0.0436 - val_mae: 0.0739\n",
      "Epoch 20/20\n",
      "6402/6402 [==============================] - 70s 11ms/step - loss: 0.0056 - mse: 0.0056 - mae: 0.0327 - val_loss: 0.0410 - val_mse: 0.0410 - val_mae: 0.0714\n"
     ]
    },
    {
     "data": {
      "text/plain": "<keras.callbacks.History at 0x24cbf26c760>"
     },
     "execution_count": 9,
     "metadata": {},
     "output_type": "execute_result"
    }
   ],
   "source": [
    "model_extended.fit(X_train, y_train, batch_size=128, epochs=20, validation_data=(X_val, y_val))"
   ],
   "metadata": {
    "collapsed": false
   }
  },
  {
   "cell_type": "code",
   "execution_count": 10,
   "outputs": [
    {
     "name": "stdout",
     "output_type": "stream",
     "text": [
      "Model: \"sequential\"\n",
      "_________________________________________________________________\n",
      " Layer (type)                Output Shape              Param #   \n",
      "=================================================================\n",
      " flatten (Flatten)           (None, 768)               0         \n",
      "                                                                 \n",
      " dense (Dense)               (None, 768)               590592    \n",
      "                                                                 \n",
      " dense_1 (Dense)             (None, 96)                73824     \n",
      "                                                                 \n",
      " dense_2 (Dense)             (None, 12)                1164      \n",
      "                                                                 \n",
      " dense_3 (Dense)             (None, 1)                 13        \n",
      "                                                                 \n",
      "=================================================================\n",
      "Total params: 665,593\n",
      "Trainable params: 665,593\n",
      "Non-trainable params: 0\n",
      "_________________________________________________________________\n"
     ]
    }
   ],
   "source": [
    "K.clear_session()\n",
    "model_extended_no_batch = keras.Sequential(\n",
    "    [\n",
    "        keras.Input(shape=(12, 8, 8)),\n",
    "        layers.Flatten(),\n",
    "        layers.Dense(12*8*8, activation=\"relu\"),\n",
    "        layers.Dense(12*8, activation=\"relu\"),\n",
    "        layers.Dense(12, activation=\"relu\"),\n",
    "        layers.Dense(1, activation=\"tanh\")\n",
    "    ]\n",
    ")\n",
    "model_extended_no_batch.summary()"
   ],
   "metadata": {
    "collapsed": false
   }
  },
  {
   "cell_type": "code",
   "execution_count": 11,
   "outputs": [],
   "source": [
    "model_extended_no_batch.compile(\n",
    "    loss=\"mse\",\n",
    "    optimizer=\"adam\",\n",
    "    metrics=[\"mse\", \"mae\"],\n",
    ")"
   ],
   "metadata": {
    "collapsed": false
   }
  },
  {
   "cell_type": "code",
   "execution_count": 12,
   "outputs": [
    {
     "name": "stdout",
     "output_type": "stream",
     "text": [
      "Epoch 1/20\n",
      "6402/6402 [==============================] - 35s 5ms/step - loss: 0.0207 - mse: 0.0207 - mae: 0.0423 - val_loss: 0.0202 - val_mse: 0.0202 - val_mae: 0.0397\n",
      "Epoch 2/20\n",
      "6402/6402 [==============================] - 31s 5ms/step - loss: 0.0194 - mse: 0.0194 - mae: 0.0409 - val_loss: 0.0195 - val_mse: 0.0195 - val_mae: 0.0411\n",
      "Epoch 3/20\n",
      "6402/6402 [==============================] - 31s 5ms/step - loss: 0.0165 - mse: 0.0165 - mae: 0.0411 - val_loss: 0.0196 - val_mse: 0.0196 - val_mae: 0.0433\n",
      "Epoch 4/20\n",
      "6402/6402 [==============================] - 31s 5ms/step - loss: 0.0132 - mse: 0.0132 - mae: 0.0376 - val_loss: 0.0194 - val_mse: 0.0194 - val_mae: 0.0411\n",
      "Epoch 5/20\n",
      "6402/6402 [==============================] - 30s 5ms/step - loss: 0.0106 - mse: 0.0106 - mae: 0.0331 - val_loss: 0.0202 - val_mse: 0.0202 - val_mae: 0.0417\n",
      "Epoch 6/20\n",
      "6402/6402 [==============================] - 31s 5ms/step - loss: 0.0087 - mse: 0.0087 - mae: 0.0296 - val_loss: 0.0201 - val_mse: 0.0201 - val_mae: 0.0399\n",
      "Epoch 7/20\n",
      "6402/6402 [==============================] - 31s 5ms/step - loss: 0.0075 - mse: 0.0075 - mae: 0.0273 - val_loss: 0.0216 - val_mse: 0.0216 - val_mae: 0.0414\n",
      "Epoch 8/20\n",
      "6402/6402 [==============================] - 31s 5ms/step - loss: 0.0067 - mse: 0.0067 - mae: 0.0258 - val_loss: 0.0214 - val_mse: 0.0214 - val_mae: 0.0413\n",
      "Epoch 9/20\n",
      "6402/6402 [==============================] - 31s 5ms/step - loss: 0.0060 - mse: 0.0060 - mae: 0.0243 - val_loss: 0.0206 - val_mse: 0.0206 - val_mae: 0.0384\n",
      "Epoch 10/20\n",
      "6402/6402 [==============================] - 30s 5ms/step - loss: 0.0055 - mse: 0.0055 - mae: 0.0233 - val_loss: 0.0223 - val_mse: 0.0223 - val_mae: 0.0408\n",
      "Epoch 11/20\n",
      "6402/6402 [==============================] - 31s 5ms/step - loss: 0.0051 - mse: 0.0051 - mae: 0.0226 - val_loss: 0.0215 - val_mse: 0.0215 - val_mae: 0.0390\n",
      "Epoch 12/20\n",
      "6402/6402 [==============================] - 32s 5ms/step - loss: 0.0047 - mse: 0.0047 - mae: 0.0218 - val_loss: 0.0213 - val_mse: 0.0213 - val_mae: 0.0379\n",
      "Epoch 13/20\n",
      "6402/6402 [==============================] - 31s 5ms/step - loss: 0.0044 - mse: 0.0044 - mae: 0.0211 - val_loss: 0.0214 - val_mse: 0.0214 - val_mae: 0.0388\n",
      "Epoch 14/20\n",
      "6402/6402 [==============================] - 31s 5ms/step - loss: 0.0040 - mse: 0.0040 - mae: 0.0205 - val_loss: 0.0207 - val_mse: 0.0207 - val_mae: 0.0371\n",
      "Epoch 15/20\n",
      "6402/6402 [==============================] - 31s 5ms/step - loss: 0.0038 - mse: 0.0038 - mae: 0.0202 - val_loss: 0.0211 - val_mse: 0.0211 - val_mae: 0.0374\n",
      "Epoch 16/20\n",
      "6402/6402 [==============================] - 31s 5ms/step - loss: 0.0036 - mse: 0.0036 - mae: 0.0197 - val_loss: 0.0210 - val_mse: 0.0210 - val_mae: 0.0387\n",
      "Epoch 17/20\n",
      "6402/6402 [==============================] - 31s 5ms/step - loss: 0.0034 - mse: 0.0034 - mae: 0.0192 - val_loss: 0.0212 - val_mse: 0.0212 - val_mae: 0.0376\n",
      "Epoch 18/20\n",
      "6402/6402 [==============================] - 31s 5ms/step - loss: 0.0032 - mse: 0.0032 - mae: 0.0188 - val_loss: 0.0224 - val_mse: 0.0224 - val_mae: 0.0386\n",
      "Epoch 19/20\n",
      "6402/6402 [==============================] - 30s 5ms/step - loss: 0.0031 - mse: 0.0031 - mae: 0.0185 - val_loss: 0.0210 - val_mse: 0.0210 - val_mae: 0.0369\n",
      "Epoch 20/20\n",
      "6402/6402 [==============================] - 32s 5ms/step - loss: 0.0029 - mse: 0.0029 - mae: 0.0182 - val_loss: 0.0213 - val_mse: 0.0213 - val_mae: 0.0372\n"
     ]
    }
   ],
   "source": [
    "history_extended_no_batch = model_extended_no_batch.fit(X_train, y_train, batch_size=128, epochs=20, validation_data=(X_val, y_val))"
   ],
   "metadata": {
    "collapsed": false
   }
  },
  {
   "cell_type": "markdown",
   "source": [
    "Better results so I will try to increase size"
   ],
   "metadata": {
    "collapsed": false
   }
  },
  {
   "cell_type": "code",
   "execution_count": 7,
   "outputs": [
    {
     "name": "stdout",
     "output_type": "stream",
     "text": [
      "Model: \"sequential\"\n",
      "_________________________________________________________________\n",
      " Layer (type)                Output Shape              Param #   \n",
      "=================================================================\n",
      " flatten (Flatten)           (None, 768)               0         \n",
      "                                                                 \n",
      " dense (Dense)               (None, 768)               590592    \n",
      "                                                                 \n",
      " dense_1 (Dense)             (None, 384)               295296    \n",
      "                                                                 \n",
      " dense_2 (Dense)             (None, 96)                36960     \n",
      "                                                                 \n",
      " dense_3 (Dense)             (None, 12)                1164      \n",
      "                                                                 \n",
      " dense_4 (Dense)             (None, 1)                 13        \n",
      "                                                                 \n",
      "=================================================================\n",
      "Total params: 924,025\n",
      "Trainable params: 924,025\n",
      "Non-trainable params: 0\n",
      "_________________________________________________________________\n"
     ]
    }
   ],
   "source": [
    "K.clear_session()\n",
    "model_double_extended = keras.Sequential(\n",
    "    [\n",
    "        keras.Input(shape=(12, 8, 8)),\n",
    "        layers.Flatten(),\n",
    "        layers.Dense(12*8*8, activation=\"relu\"),\n",
    "        layers.Dense(12*8*4, activation=\"relu\"),\n",
    "        layers.Dense(12*8, activation=\"relu\"),\n",
    "        layers.Dense(12, activation=\"relu\"),\n",
    "        layers.Dense(1, activation=\"tanh\")\n",
    "    ]\n",
    ")\n",
    "model_double_extended.summary()"
   ],
   "metadata": {
    "collapsed": false
   }
  },
  {
   "cell_type": "code",
   "execution_count": 8,
   "outputs": [],
   "source": [
    "model_double_extended.compile(\n",
    "    loss=\"mse\",\n",
    "    optimizer=\"adam\",\n",
    "    metrics=[\"mse\", \"mae\"],\n",
    ")"
   ],
   "metadata": {
    "collapsed": false
   }
  },
  {
   "cell_type": "code",
   "execution_count": 9,
   "outputs": [
    {
     "name": "stdout",
     "output_type": "stream",
     "text": [
      "Epoch 1/20\n",
      "6402/6402 [==============================] - 38s 6ms/step - loss: 0.0218 - mse: 0.0218 - mae: 0.0491 - val_loss: 0.0216 - val_mse: 0.0216 - val_mae: 0.0486\n",
      "Epoch 2/20\n",
      "6402/6402 [==============================] - 34s 5ms/step - loss: 0.0218 - mse: 0.0218 - mae: 0.0491 - val_loss: 0.0216 - val_mse: 0.0216 - val_mae: 0.0486\n",
      "Epoch 3/20\n",
      "6402/6402 [==============================] - 35s 5ms/step - loss: 0.0218 - mse: 0.0218 - mae: 0.0491 - val_loss: 0.0216 - val_mse: 0.0216 - val_mae: 0.0486\n",
      "Epoch 4/20\n",
      "6402/6402 [==============================] - 34s 5ms/step - loss: 0.0218 - mse: 0.0218 - mae: 0.0491 - val_loss: 0.0216 - val_mse: 0.0216 - val_mae: 0.0486\n",
      "Epoch 5/20\n",
      "6402/6402 [==============================] - 35s 5ms/step - loss: 0.0218 - mse: 0.0218 - mae: 0.0491 - val_loss: 0.0216 - val_mse: 0.0216 - val_mae: 0.0488\n",
      "Epoch 6/20\n",
      "6402/6402 [==============================] - 35s 5ms/step - loss: 0.0218 - mse: 0.0218 - mae: 0.0491 - val_loss: 0.0216 - val_mse: 0.0216 - val_mae: 0.0489\n",
      "Epoch 7/20\n",
      "6402/6402 [==============================] - 34s 5ms/step - loss: 0.0218 - mse: 0.0218 - mae: 0.0491 - val_loss: 0.0216 - val_mse: 0.0216 - val_mae: 0.0486\n",
      "Epoch 8/20\n",
      "6402/6402 [==============================] - 34s 5ms/step - loss: 0.0218 - mse: 0.0218 - mae: 0.0491 - val_loss: 0.0216 - val_mse: 0.0216 - val_mae: 0.0487\n",
      "Epoch 9/20\n",
      "3690/6402 [================>.............] - ETA: 12s - loss: 0.0218 - mse: 0.0218 - mae: 0.0492"
     ]
    },
    {
     "ename": "KeyboardInterrupt",
     "evalue": "",
     "output_type": "error",
     "traceback": [
      "\u001B[1;31m---------------------------------------------------------------------------\u001B[0m",
      "\u001B[1;31mKeyboardInterrupt\u001B[0m                         Traceback (most recent call last)",
      "Cell \u001B[1;32mIn [9], line 1\u001B[0m\n\u001B[1;32m----> 1\u001B[0m history_double_extended \u001B[38;5;241m=\u001B[39m \u001B[43mmodel_double_extended\u001B[49m\u001B[38;5;241;43m.\u001B[39;49m\u001B[43mfit\u001B[49m\u001B[43m(\u001B[49m\u001B[43mX_train\u001B[49m\u001B[43m,\u001B[49m\u001B[43m \u001B[49m\u001B[43my_train\u001B[49m\u001B[43m,\u001B[49m\u001B[43m \u001B[49m\u001B[43mbatch_size\u001B[49m\u001B[38;5;241;43m=\u001B[39;49m\u001B[38;5;241;43m128\u001B[39;49m\u001B[43m,\u001B[49m\u001B[43m \u001B[49m\u001B[43mepochs\u001B[49m\u001B[38;5;241;43m=\u001B[39;49m\u001B[38;5;241;43m20\u001B[39;49m\u001B[43m,\u001B[49m\u001B[43m \u001B[49m\u001B[43mvalidation_data\u001B[49m\u001B[38;5;241;43m=\u001B[39;49m\u001B[43m(\u001B[49m\u001B[43mX_val\u001B[49m\u001B[43m,\u001B[49m\u001B[43m \u001B[49m\u001B[43my_val\u001B[49m\u001B[43m)\u001B[49m\u001B[43m)\u001B[49m\n",
      "File \u001B[1;32m~\\anaconda3\\envs\\tf2.11\\lib\\site-packages\\keras\\utils\\traceback_utils.py:65\u001B[0m, in \u001B[0;36mfilter_traceback.<locals>.error_handler\u001B[1;34m(*args, **kwargs)\u001B[0m\n\u001B[0;32m     63\u001B[0m filtered_tb \u001B[38;5;241m=\u001B[39m \u001B[38;5;28;01mNone\u001B[39;00m\n\u001B[0;32m     64\u001B[0m \u001B[38;5;28;01mtry\u001B[39;00m:\n\u001B[1;32m---> 65\u001B[0m     \u001B[38;5;28;01mreturn\u001B[39;00m \u001B[43mfn\u001B[49m\u001B[43m(\u001B[49m\u001B[38;5;241;43m*\u001B[39;49m\u001B[43margs\u001B[49m\u001B[43m,\u001B[49m\u001B[43m \u001B[49m\u001B[38;5;241;43m*\u001B[39;49m\u001B[38;5;241;43m*\u001B[39;49m\u001B[43mkwargs\u001B[49m\u001B[43m)\u001B[49m\n\u001B[0;32m     66\u001B[0m \u001B[38;5;28;01mexcept\u001B[39;00m \u001B[38;5;167;01mException\u001B[39;00m \u001B[38;5;28;01mas\u001B[39;00m e:\n\u001B[0;32m     67\u001B[0m     filtered_tb \u001B[38;5;241m=\u001B[39m _process_traceback_frames(e\u001B[38;5;241m.\u001B[39m__traceback__)\n",
      "File \u001B[1;32m~\\anaconda3\\envs\\tf2.11\\lib\\site-packages\\keras\\engine\\training.py:1564\u001B[0m, in \u001B[0;36mModel.fit\u001B[1;34m(self, x, y, batch_size, epochs, verbose, callbacks, validation_split, validation_data, shuffle, class_weight, sample_weight, initial_epoch, steps_per_epoch, validation_steps, validation_batch_size, validation_freq, max_queue_size, workers, use_multiprocessing)\u001B[0m\n\u001B[0;32m   1556\u001B[0m \u001B[38;5;28;01mwith\u001B[39;00m tf\u001B[38;5;241m.\u001B[39mprofiler\u001B[38;5;241m.\u001B[39mexperimental\u001B[38;5;241m.\u001B[39mTrace(\n\u001B[0;32m   1557\u001B[0m     \u001B[38;5;124m\"\u001B[39m\u001B[38;5;124mtrain\u001B[39m\u001B[38;5;124m\"\u001B[39m,\n\u001B[0;32m   1558\u001B[0m     epoch_num\u001B[38;5;241m=\u001B[39mepoch,\n\u001B[1;32m   (...)\u001B[0m\n\u001B[0;32m   1561\u001B[0m     _r\u001B[38;5;241m=\u001B[39m\u001B[38;5;241m1\u001B[39m,\n\u001B[0;32m   1562\u001B[0m ):\n\u001B[0;32m   1563\u001B[0m     callbacks\u001B[38;5;241m.\u001B[39mon_train_batch_begin(step)\n\u001B[1;32m-> 1564\u001B[0m     tmp_logs \u001B[38;5;241m=\u001B[39m \u001B[38;5;28;43mself\u001B[39;49m\u001B[38;5;241;43m.\u001B[39;49m\u001B[43mtrain_function\u001B[49m\u001B[43m(\u001B[49m\u001B[43miterator\u001B[49m\u001B[43m)\u001B[49m\n\u001B[0;32m   1565\u001B[0m     \u001B[38;5;28;01mif\u001B[39;00m data_handler\u001B[38;5;241m.\u001B[39mshould_sync:\n\u001B[0;32m   1566\u001B[0m         context\u001B[38;5;241m.\u001B[39masync_wait()\n",
      "File \u001B[1;32m~\\anaconda3\\envs\\tf2.11\\lib\\site-packages\\tensorflow\\python\\util\\traceback_utils.py:150\u001B[0m, in \u001B[0;36mfilter_traceback.<locals>.error_handler\u001B[1;34m(*args, **kwargs)\u001B[0m\n\u001B[0;32m    148\u001B[0m filtered_tb \u001B[38;5;241m=\u001B[39m \u001B[38;5;28;01mNone\u001B[39;00m\n\u001B[0;32m    149\u001B[0m \u001B[38;5;28;01mtry\u001B[39;00m:\n\u001B[1;32m--> 150\u001B[0m   \u001B[38;5;28;01mreturn\u001B[39;00m \u001B[43mfn\u001B[49m\u001B[43m(\u001B[49m\u001B[38;5;241;43m*\u001B[39;49m\u001B[43margs\u001B[49m\u001B[43m,\u001B[49m\u001B[43m \u001B[49m\u001B[38;5;241;43m*\u001B[39;49m\u001B[38;5;241;43m*\u001B[39;49m\u001B[43mkwargs\u001B[49m\u001B[43m)\u001B[49m\n\u001B[0;32m    151\u001B[0m \u001B[38;5;28;01mexcept\u001B[39;00m \u001B[38;5;167;01mException\u001B[39;00m \u001B[38;5;28;01mas\u001B[39;00m e:\n\u001B[0;32m    152\u001B[0m   filtered_tb \u001B[38;5;241m=\u001B[39m _process_traceback_frames(e\u001B[38;5;241m.\u001B[39m__traceback__)\n",
      "File \u001B[1;32m~\\anaconda3\\envs\\tf2.11\\lib\\site-packages\\tensorflow\\python\\eager\\def_function.py:915\u001B[0m, in \u001B[0;36mFunction.__call__\u001B[1;34m(self, *args, **kwds)\u001B[0m\n\u001B[0;32m    912\u001B[0m compiler \u001B[38;5;241m=\u001B[39m \u001B[38;5;124m\"\u001B[39m\u001B[38;5;124mxla\u001B[39m\u001B[38;5;124m\"\u001B[39m \u001B[38;5;28;01mif\u001B[39;00m \u001B[38;5;28mself\u001B[39m\u001B[38;5;241m.\u001B[39m_jit_compile \u001B[38;5;28;01melse\u001B[39;00m \u001B[38;5;124m\"\u001B[39m\u001B[38;5;124mnonXla\u001B[39m\u001B[38;5;124m\"\u001B[39m\n\u001B[0;32m    914\u001B[0m \u001B[38;5;28;01mwith\u001B[39;00m OptionalXlaContext(\u001B[38;5;28mself\u001B[39m\u001B[38;5;241m.\u001B[39m_jit_compile):\n\u001B[1;32m--> 915\u001B[0m   result \u001B[38;5;241m=\u001B[39m \u001B[38;5;28;43mself\u001B[39;49m\u001B[38;5;241;43m.\u001B[39;49m\u001B[43m_call\u001B[49m\u001B[43m(\u001B[49m\u001B[38;5;241;43m*\u001B[39;49m\u001B[43margs\u001B[49m\u001B[43m,\u001B[49m\u001B[43m \u001B[49m\u001B[38;5;241;43m*\u001B[39;49m\u001B[38;5;241;43m*\u001B[39;49m\u001B[43mkwds\u001B[49m\u001B[43m)\u001B[49m\n\u001B[0;32m    917\u001B[0m new_tracing_count \u001B[38;5;241m=\u001B[39m \u001B[38;5;28mself\u001B[39m\u001B[38;5;241m.\u001B[39mexperimental_get_tracing_count()\n\u001B[0;32m    918\u001B[0m without_tracing \u001B[38;5;241m=\u001B[39m (tracing_count \u001B[38;5;241m==\u001B[39m new_tracing_count)\n",
      "File \u001B[1;32m~\\anaconda3\\envs\\tf2.11\\lib\\site-packages\\tensorflow\\python\\eager\\def_function.py:947\u001B[0m, in \u001B[0;36mFunction._call\u001B[1;34m(self, *args, **kwds)\u001B[0m\n\u001B[0;32m    944\u001B[0m   \u001B[38;5;28mself\u001B[39m\u001B[38;5;241m.\u001B[39m_lock\u001B[38;5;241m.\u001B[39mrelease()\n\u001B[0;32m    945\u001B[0m   \u001B[38;5;66;03m# In this case we have created variables on the first call, so we run the\u001B[39;00m\n\u001B[0;32m    946\u001B[0m   \u001B[38;5;66;03m# defunned version which is guaranteed to never create variables.\u001B[39;00m\n\u001B[1;32m--> 947\u001B[0m   \u001B[38;5;28;01mreturn\u001B[39;00m \u001B[38;5;28;43mself\u001B[39;49m\u001B[38;5;241;43m.\u001B[39;49m\u001B[43m_stateless_fn\u001B[49m\u001B[43m(\u001B[49m\u001B[38;5;241;43m*\u001B[39;49m\u001B[43margs\u001B[49m\u001B[43m,\u001B[49m\u001B[43m \u001B[49m\u001B[38;5;241;43m*\u001B[39;49m\u001B[38;5;241;43m*\u001B[39;49m\u001B[43mkwds\u001B[49m\u001B[43m)\u001B[49m  \u001B[38;5;66;03m# pylint: disable=not-callable\u001B[39;00m\n\u001B[0;32m    948\u001B[0m \u001B[38;5;28;01melif\u001B[39;00m \u001B[38;5;28mself\u001B[39m\u001B[38;5;241m.\u001B[39m_stateful_fn \u001B[38;5;129;01mis\u001B[39;00m \u001B[38;5;129;01mnot\u001B[39;00m \u001B[38;5;28;01mNone\u001B[39;00m:\n\u001B[0;32m    949\u001B[0m   \u001B[38;5;66;03m# Release the lock early so that multiple threads can perform the call\u001B[39;00m\n\u001B[0;32m    950\u001B[0m   \u001B[38;5;66;03m# in parallel.\u001B[39;00m\n\u001B[0;32m    951\u001B[0m   \u001B[38;5;28mself\u001B[39m\u001B[38;5;241m.\u001B[39m_lock\u001B[38;5;241m.\u001B[39mrelease()\n",
      "File \u001B[1;32m~\\anaconda3\\envs\\tf2.11\\lib\\site-packages\\tensorflow\\python\\eager\\function.py:2496\u001B[0m, in \u001B[0;36mFunction.__call__\u001B[1;34m(self, *args, **kwargs)\u001B[0m\n\u001B[0;32m   2493\u001B[0m \u001B[38;5;28;01mwith\u001B[39;00m \u001B[38;5;28mself\u001B[39m\u001B[38;5;241m.\u001B[39m_lock:\n\u001B[0;32m   2494\u001B[0m   (graph_function,\n\u001B[0;32m   2495\u001B[0m    filtered_flat_args) \u001B[38;5;241m=\u001B[39m \u001B[38;5;28mself\u001B[39m\u001B[38;5;241m.\u001B[39m_maybe_define_function(args, kwargs)\n\u001B[1;32m-> 2496\u001B[0m \u001B[38;5;28;01mreturn\u001B[39;00m \u001B[43mgraph_function\u001B[49m\u001B[38;5;241;43m.\u001B[39;49m\u001B[43m_call_flat\u001B[49m\u001B[43m(\u001B[49m\n\u001B[0;32m   2497\u001B[0m \u001B[43m    \u001B[49m\u001B[43mfiltered_flat_args\u001B[49m\u001B[43m,\u001B[49m\u001B[43m \u001B[49m\u001B[43mcaptured_inputs\u001B[49m\u001B[38;5;241;43m=\u001B[39;49m\u001B[43mgraph_function\u001B[49m\u001B[38;5;241;43m.\u001B[39;49m\u001B[43mcaptured_inputs\u001B[49m\u001B[43m)\u001B[49m\n",
      "File \u001B[1;32m~\\anaconda3\\envs\\tf2.11\\lib\\site-packages\\tensorflow\\python\\eager\\function.py:1862\u001B[0m, in \u001B[0;36mConcreteFunction._call_flat\u001B[1;34m(self, args, captured_inputs, cancellation_manager)\u001B[0m\n\u001B[0;32m   1858\u001B[0m possible_gradient_type \u001B[38;5;241m=\u001B[39m gradients_util\u001B[38;5;241m.\u001B[39mPossibleTapeGradientTypes(args)\n\u001B[0;32m   1859\u001B[0m \u001B[38;5;28;01mif\u001B[39;00m (possible_gradient_type \u001B[38;5;241m==\u001B[39m gradients_util\u001B[38;5;241m.\u001B[39mPOSSIBLE_GRADIENT_TYPES_NONE\n\u001B[0;32m   1860\u001B[0m     \u001B[38;5;129;01mand\u001B[39;00m executing_eagerly):\n\u001B[0;32m   1861\u001B[0m   \u001B[38;5;66;03m# No tape is watching; skip to running the function.\u001B[39;00m\n\u001B[1;32m-> 1862\u001B[0m   \u001B[38;5;28;01mreturn\u001B[39;00m \u001B[38;5;28mself\u001B[39m\u001B[38;5;241m.\u001B[39m_build_call_outputs(\u001B[38;5;28;43mself\u001B[39;49m\u001B[38;5;241;43m.\u001B[39;49m\u001B[43m_inference_function\u001B[49m\u001B[38;5;241;43m.\u001B[39;49m\u001B[43mcall\u001B[49m\u001B[43m(\u001B[49m\n\u001B[0;32m   1863\u001B[0m \u001B[43m      \u001B[49m\u001B[43mctx\u001B[49m\u001B[43m,\u001B[49m\u001B[43m \u001B[49m\u001B[43margs\u001B[49m\u001B[43m,\u001B[49m\u001B[43m \u001B[49m\u001B[43mcancellation_manager\u001B[49m\u001B[38;5;241;43m=\u001B[39;49m\u001B[43mcancellation_manager\u001B[49m\u001B[43m)\u001B[49m)\n\u001B[0;32m   1864\u001B[0m forward_backward \u001B[38;5;241m=\u001B[39m \u001B[38;5;28mself\u001B[39m\u001B[38;5;241m.\u001B[39m_select_forward_and_backward_functions(\n\u001B[0;32m   1865\u001B[0m     args,\n\u001B[0;32m   1866\u001B[0m     possible_gradient_type,\n\u001B[0;32m   1867\u001B[0m     executing_eagerly)\n\u001B[0;32m   1868\u001B[0m forward_function, args_with_tangents \u001B[38;5;241m=\u001B[39m forward_backward\u001B[38;5;241m.\u001B[39mforward()\n",
      "File \u001B[1;32m~\\anaconda3\\envs\\tf2.11\\lib\\site-packages\\tensorflow\\python\\eager\\function.py:499\u001B[0m, in \u001B[0;36m_EagerDefinedFunction.call\u001B[1;34m(self, ctx, args, cancellation_manager)\u001B[0m\n\u001B[0;32m    497\u001B[0m \u001B[38;5;28;01mwith\u001B[39;00m _InterpolateFunctionError(\u001B[38;5;28mself\u001B[39m):\n\u001B[0;32m    498\u001B[0m   \u001B[38;5;28;01mif\u001B[39;00m cancellation_manager \u001B[38;5;129;01mis\u001B[39;00m \u001B[38;5;28;01mNone\u001B[39;00m:\n\u001B[1;32m--> 499\u001B[0m     outputs \u001B[38;5;241m=\u001B[39m \u001B[43mexecute\u001B[49m\u001B[38;5;241;43m.\u001B[39;49m\u001B[43mexecute\u001B[49m\u001B[43m(\u001B[49m\n\u001B[0;32m    500\u001B[0m \u001B[43m        \u001B[49m\u001B[38;5;28;43mstr\u001B[39;49m\u001B[43m(\u001B[49m\u001B[38;5;28;43mself\u001B[39;49m\u001B[38;5;241;43m.\u001B[39;49m\u001B[43msignature\u001B[49m\u001B[38;5;241;43m.\u001B[39;49m\u001B[43mname\u001B[49m\u001B[43m)\u001B[49m\u001B[43m,\u001B[49m\n\u001B[0;32m    501\u001B[0m \u001B[43m        \u001B[49m\u001B[43mnum_outputs\u001B[49m\u001B[38;5;241;43m=\u001B[39;49m\u001B[38;5;28;43mself\u001B[39;49m\u001B[38;5;241;43m.\u001B[39;49m\u001B[43m_num_outputs\u001B[49m\u001B[43m,\u001B[49m\n\u001B[0;32m    502\u001B[0m \u001B[43m        \u001B[49m\u001B[43minputs\u001B[49m\u001B[38;5;241;43m=\u001B[39;49m\u001B[43margs\u001B[49m\u001B[43m,\u001B[49m\n\u001B[0;32m    503\u001B[0m \u001B[43m        \u001B[49m\u001B[43mattrs\u001B[49m\u001B[38;5;241;43m=\u001B[39;49m\u001B[43mattrs\u001B[49m\u001B[43m,\u001B[49m\n\u001B[0;32m    504\u001B[0m \u001B[43m        \u001B[49m\u001B[43mctx\u001B[49m\u001B[38;5;241;43m=\u001B[39;49m\u001B[43mctx\u001B[49m\u001B[43m)\u001B[49m\n\u001B[0;32m    505\u001B[0m   \u001B[38;5;28;01melse\u001B[39;00m:\n\u001B[0;32m    506\u001B[0m     outputs \u001B[38;5;241m=\u001B[39m execute\u001B[38;5;241m.\u001B[39mexecute_with_cancellation(\n\u001B[0;32m    507\u001B[0m         \u001B[38;5;28mstr\u001B[39m(\u001B[38;5;28mself\u001B[39m\u001B[38;5;241m.\u001B[39msignature\u001B[38;5;241m.\u001B[39mname),\n\u001B[0;32m    508\u001B[0m         num_outputs\u001B[38;5;241m=\u001B[39m\u001B[38;5;28mself\u001B[39m\u001B[38;5;241m.\u001B[39m_num_outputs,\n\u001B[1;32m   (...)\u001B[0m\n\u001B[0;32m    511\u001B[0m         ctx\u001B[38;5;241m=\u001B[39mctx,\n\u001B[0;32m    512\u001B[0m         cancellation_manager\u001B[38;5;241m=\u001B[39mcancellation_manager)\n",
      "File \u001B[1;32m~\\anaconda3\\envs\\tf2.11\\lib\\site-packages\\tensorflow\\python\\eager\\execute.py:54\u001B[0m, in \u001B[0;36mquick_execute\u001B[1;34m(op_name, num_outputs, inputs, attrs, ctx, name)\u001B[0m\n\u001B[0;32m     52\u001B[0m \u001B[38;5;28;01mtry\u001B[39;00m:\n\u001B[0;32m     53\u001B[0m   ctx\u001B[38;5;241m.\u001B[39mensure_initialized()\n\u001B[1;32m---> 54\u001B[0m   tensors \u001B[38;5;241m=\u001B[39m \u001B[43mpywrap_tfe\u001B[49m\u001B[38;5;241;43m.\u001B[39;49m\u001B[43mTFE_Py_Execute\u001B[49m\u001B[43m(\u001B[49m\u001B[43mctx\u001B[49m\u001B[38;5;241;43m.\u001B[39;49m\u001B[43m_handle\u001B[49m\u001B[43m,\u001B[49m\u001B[43m \u001B[49m\u001B[43mdevice_name\u001B[49m\u001B[43m,\u001B[49m\u001B[43m \u001B[49m\u001B[43mop_name\u001B[49m\u001B[43m,\u001B[49m\n\u001B[0;32m     55\u001B[0m \u001B[43m                                      \u001B[49m\u001B[43minputs\u001B[49m\u001B[43m,\u001B[49m\u001B[43m \u001B[49m\u001B[43mattrs\u001B[49m\u001B[43m,\u001B[49m\u001B[43m \u001B[49m\u001B[43mnum_outputs\u001B[49m\u001B[43m)\u001B[49m\n\u001B[0;32m     56\u001B[0m \u001B[38;5;28;01mexcept\u001B[39;00m core\u001B[38;5;241m.\u001B[39m_NotOkStatusException \u001B[38;5;28;01mas\u001B[39;00m e:\n\u001B[0;32m     57\u001B[0m   \u001B[38;5;28;01mif\u001B[39;00m name \u001B[38;5;129;01mis\u001B[39;00m \u001B[38;5;129;01mnot\u001B[39;00m \u001B[38;5;28;01mNone\u001B[39;00m:\n",
      "\u001B[1;31mKeyboardInterrupt\u001B[0m: "
     ]
    }
   ],
   "source": [
    "history_double_extended = model_double_extended.fit(X_train, y_train, batch_size=128, epochs=20, validation_data=(X_val, y_val))"
   ],
   "metadata": {
    "collapsed": false
   }
  },
  {
   "cell_type": "markdown",
   "source": [
    "Podczas wszystkich powyższych eksperymentów MAE wynosiło ~0.03 onacza to że sieć średnio w ewaluacji myliła się o 3 pionki (0.03 * 10_000 / 100) spróbujmy przeskalować trochę dane. Mianowicie zdecydowana większość ewaluacji jest w zakresie <-2000, 2000> więc wartości większe od 2000 ograniczymy do 2000 i analogicznie dla wartości mniejszych od -2000."
   ],
   "metadata": {
    "collapsed": false
   }
  },
  {
   "cell_type": "code",
   "execution_count": 4,
   "outputs": [
    {
     "data": {
      "text/plain": "(array([1.16470e+04, 4.00000e+01, 4.90000e+01, 7.50000e+01, 6.60000e+01,\n        8.60000e+01, 1.00000e+02, 1.18000e+02, 1.32000e+02, 1.83000e+02,\n        1.79000e+02, 2.05000e+02, 2.58000e+02, 2.83000e+02, 3.58000e+02,\n        3.39000e+02, 4.00000e+02, 4.31000e+02, 5.03000e+02, 5.48000e+02,\n        7.14000e+02, 7.47000e+02, 9.40000e+02, 1.02700e+03, 1.26500e+03,\n        1.34500e+03, 1.64300e+03, 1.75100e+03, 2.21800e+03, 2.56500e+03,\n        3.13100e+03, 3.73900e+03, 4.99400e+03, 7.03900e+03, 9.98900e+03,\n        1.22790e+04, 1.58540e+04, 1.72740e+04, 1.81800e+04, 1.78910e+04,\n        1.71600e+04, 1.55770e+04, 1.57240e+04, 1.62560e+04, 1.80530e+04,\n        2.08200e+04, 2.62730e+04, 3.31100e+04, 5.09220e+04, 8.80550e+04,\n        1.05488e+05, 6.69740e+04, 5.08050e+04, 3.81240e+04, 3.01470e+04,\n        2.52770e+04, 2.16490e+04, 1.85340e+04, 1.75690e+04, 1.72230e+04,\n        1.73960e+04, 1.78530e+04, 1.87350e+04, 1.83910e+04, 1.82610e+04,\n        1.67740e+04, 1.41070e+04, 1.09080e+04, 8.52800e+03, 6.18500e+03,\n        4.70700e+03, 3.77600e+03, 3.08000e+03, 2.56800e+03, 2.18600e+03,\n        1.79100e+03, 1.67900e+03, 1.47900e+03, 1.29100e+03, 1.08500e+03,\n        9.91000e+02, 8.41000e+02, 7.23000e+02, 5.68000e+02, 5.18000e+02,\n        4.91000e+02, 4.25000e+02, 4.09000e+02, 3.15000e+02, 3.31000e+02,\n        2.32000e+02, 1.87000e+02, 1.85000e+02, 1.85000e+02, 1.64000e+02,\n        1.13000e+02, 1.10000e+02, 9.20000e+01, 7.80000e+01, 1.22540e+04]),\n array([-1.  , -0.98, -0.96, -0.94, -0.92, -0.9 , -0.88, -0.86, -0.84,\n        -0.82, -0.8 , -0.78, -0.76, -0.74, -0.72, -0.7 , -0.68, -0.66,\n        -0.64, -0.62, -0.6 , -0.58, -0.56, -0.54, -0.52, -0.5 , -0.48,\n        -0.46, -0.44, -0.42, -0.4 , -0.38, -0.36, -0.34, -0.32, -0.3 ,\n        -0.28, -0.26, -0.24, -0.22, -0.2 , -0.18, -0.16, -0.14, -0.12,\n        -0.1 , -0.08, -0.06, -0.04, -0.02,  0.  ,  0.02,  0.04,  0.06,\n         0.08,  0.1 ,  0.12,  0.14,  0.16,  0.18,  0.2 ,  0.22,  0.24,\n         0.26,  0.28,  0.3 ,  0.32,  0.34,  0.36,  0.38,  0.4 ,  0.42,\n         0.44,  0.46,  0.48,  0.5 ,  0.52,  0.54,  0.56,  0.58,  0.6 ,\n         0.62,  0.64,  0.66,  0.68,  0.7 ,  0.72,  0.74,  0.76,  0.78,\n         0.8 ,  0.82,  0.84,  0.86,  0.88,  0.9 ,  0.92,  0.94,  0.96,\n         0.98,  1.  ]),\n <BarContainer object of 100 artists>)"
     },
     "execution_count": 4,
     "metadata": {},
     "output_type": "execute_result"
    },
    {
     "data": {
      "text/plain": "<Figure size 640x480 with 1 Axes>",
      "image/png": "[encoded data removed]"
     },
     "metadata": {},
     "output_type": "display_data"
    }
   ],
   "source": [
    "clipped_labels = np.clip(labels, -2000, 2000)\n",
    "transformed_clipped_labels = ((clipped_labels - clipped_labels.min()) / (clipped_labels.max() - clipped_labels.min())) * 2 - 1\n",
    "plt.hist(transformed_clipped_labels, bins=100)"
   ],
   "metadata": {
    "collapsed": false
   }
  },
  {
   "cell_type": "code",
   "execution_count": 6,
   "outputs": [],
   "source": [
    "from sklearn.model_selection import train_test_split\n",
    "X_train, X_val, y_train, y_val = train_test_split(transformed_data, transformed_clipped_labels, test_size=0.2, random_state=42)"
   ],
   "metadata": {
    "collapsed": false
   }
  },
  {
   "cell_type": "markdown",
   "source": [
    "Weźmy najlepszą architekturę i przetrenujmy na nowych danych"
   ],
   "metadata": {
    "collapsed": false
   }
  },
  {
   "cell_type": "code",
   "execution_count": 7,
   "outputs": [
    {
     "name": "stdout",
     "output_type": "stream",
     "text": [
      "Model: \"sequential\"\n",
      "_________________________________________________________________\n",
      " Layer (type)                Output Shape              Param #   \n",
      "=================================================================\n",
      " flatten (Flatten)           (None, 768)               0         \n",
      "                                                                 \n",
      " dense (Dense)               (None, 768)               590592    \n",
      "                                                                 \n",
      " dense_1 (Dense)             (None, 96)                73824     \n",
      "                                                                 \n",
      " dense_2 (Dense)             (None, 12)                1164      \n",
      "                                                                 \n",
      " dense_3 (Dense)             (None, 1)                 13        \n",
      "                                                                 \n",
      "=================================================================\n",
      "Total params: 665,593\n",
      "Trainable params: 665,593\n",
      "Non-trainable params: 0\n",
      "_________________________________________________________________\n"
     ]
    }
   ],
   "source": [
    "K.clear_session()\n",
    "model_extended_new_data = keras.Sequential(\n",
    "    [\n",
    "        keras.Input(shape=(12, 8, 8)),\n",
    "        layers.Flatten(),\n",
    "        layers.Dense(12*8*8, activation=\"relu\"),\n",
    "        layers.Dense(12*8, activation=\"relu\"),\n",
    "        layers.Dense(12, activation=\"relu\"),\n",
    "        layers.Dense(1, activation=\"tanh\")\n",
    "    ]\n",
    ")\n",
    "model_extended_new_data.summary()"
   ],
   "metadata": {
    "collapsed": false
   }
  },
  {
   "cell_type": "code",
   "execution_count": 8,
   "outputs": [],
   "source": [
    "model_extended_new_data.compile(\n",
    "    loss=\"mse\",\n",
    "    optimizer=\"adam\",\n",
    "    metrics=[\"mse\", \"mae\"],\n",
    ")"
   ],
   "metadata": {
    "collapsed": false
   }
  },
  {
   "cell_type": "code",
   "execution_count": 9,
   "outputs": [
    {
     "name": "stdout",
     "output_type": "stream",
     "text": [
      "Epoch 1/20\n",
      "6402/6402 [==============================] - 34s 5ms/step - loss: 0.0335 - mse: 0.0335 - mae: 0.0966 - val_loss: 0.0309 - val_mse: 0.0309 - val_mae: 0.0892\n",
      "Epoch 2/20\n",
      "6402/6402 [==============================] - 30s 5ms/step - loss: 0.0286 - mse: 0.0286 - mae: 0.0849 - val_loss: 0.0291 - val_mse: 0.0291 - val_mae: 0.0843\n",
      "Epoch 3/20\n",
      "6402/6402 [==============================] - 30s 5ms/step - loss: 0.0247 - mse: 0.0247 - mae: 0.0799 - val_loss: 0.0288 - val_mse: 0.0288 - val_mae: 0.0858\n",
      "Epoch 4/20\n",
      "6402/6402 [==============================] - 30s 5ms/step - loss: 0.0208 - mse: 0.0208 - mae: 0.0760 - val_loss: 0.0291 - val_mse: 0.0291 - val_mae: 0.0839\n",
      "Epoch 5/20\n",
      "6402/6402 [==============================] - 31s 5ms/step - loss: 0.0172 - mse: 0.0172 - mae: 0.0718 - val_loss: 0.0295 - val_mse: 0.0295 - val_mae: 0.0841\n",
      "Epoch 6/20\n",
      "6402/6402 [==============================] - 30s 5ms/step - loss: 0.0146 - mse: 0.0146 - mae: 0.0676 - val_loss: 0.0299 - val_mse: 0.0299 - val_mae: 0.0831\n",
      "Epoch 7/20\n",
      "6402/6402 [==============================] - 30s 5ms/step - loss: 0.0127 - mse: 0.0127 - mae: 0.0644 - val_loss: 0.0308 - val_mse: 0.0308 - val_mae: 0.0834\n",
      "Epoch 8/20\n",
      "6402/6402 [==============================] - 30s 5ms/step - loss: 0.0114 - mse: 0.0114 - mae: 0.0617 - val_loss: 0.0308 - val_mse: 0.0308 - val_mae: 0.0815\n",
      "Epoch 9/20\n",
      "6402/6402 [==============================] - 31s 5ms/step - loss: 0.0105 - mse: 0.0105 - mae: 0.0597 - val_loss: 0.0309 - val_mse: 0.0309 - val_mae: 0.0819\n",
      "Epoch 10/20\n",
      "6402/6402 [==============================] - 30s 5ms/step - loss: 0.0097 - mse: 0.0097 - mae: 0.0578 - val_loss: 0.0303 - val_mse: 0.0303 - val_mae: 0.0806\n",
      "Epoch 11/20\n",
      "6402/6402 [==============================] - 30s 5ms/step - loss: 0.0091 - mse: 0.0091 - mae: 0.0563 - val_loss: 0.0313 - val_mse: 0.0313 - val_mae: 0.0829\n",
      "Epoch 12/20\n",
      "6402/6402 [==============================] - 30s 5ms/step - loss: 0.0086 - mse: 0.0086 - mae: 0.0549 - val_loss: 0.0305 - val_mse: 0.0305 - val_mae: 0.0803\n",
      "Epoch 13/20\n",
      "6402/6402 [==============================] - 31s 5ms/step - loss: 0.0080 - mse: 0.0080 - mae: 0.0535 - val_loss: 0.0305 - val_mse: 0.0305 - val_mae: 0.0820\n",
      "Epoch 14/20\n",
      "6402/6402 [==============================] - 31s 5ms/step - loss: 0.0076 - mse: 0.0076 - mae: 0.0526 - val_loss: 0.0312 - val_mse: 0.0312 - val_mae: 0.0807\n",
      "Epoch 15/20\n",
      "6402/6402 [==============================] - 31s 5ms/step - loss: 0.0073 - mse: 0.0073 - mae: 0.0516 - val_loss: 0.0307 - val_mse: 0.0307 - val_mae: 0.0798\n",
      "Epoch 16/20\n",
      "6402/6402 [==============================] - 31s 5ms/step - loss: 0.0070 - mse: 0.0070 - mae: 0.0506 - val_loss: 0.0301 - val_mse: 0.0301 - val_mae: 0.0790\n",
      "Epoch 17/20\n",
      "6402/6402 [==============================] - 31s 5ms/step - loss: 0.0068 - mse: 0.0068 - mae: 0.0499 - val_loss: 0.0304 - val_mse: 0.0304 - val_mae: 0.0798\n",
      "Epoch 18/20\n",
      "6402/6402 [==============================] - 31s 5ms/step - loss: 0.0063 - mse: 0.0063 - mae: 0.0489 - val_loss: 0.0300 - val_mse: 0.0300 - val_mae: 0.0773\n",
      "Epoch 19/20\n",
      "6402/6402 [==============================] - 31s 5ms/step - loss: 0.0061 - mse: 0.0061 - mae: 0.0480 - val_loss: 0.0309 - val_mse: 0.0309 - val_mae: 0.0783\n",
      "Epoch 20/20\n",
      "6402/6402 [==============================] - 31s 5ms/step - loss: 0.0059 - mse: 0.0059 - mae: 0.0474 - val_loss: 0.0302 - val_mse: 0.0302 - val_mae: 0.0775\n"
     ]
    }
   ],
   "source": [
    "history_extended_new_data = model_extended_new_data.fit(X_train, y_train, batch_size=128, epochs=20, validation_data=(X_val, y_val))"
   ],
   "metadata": {
    "collapsed": false
   }
  },
  {
   "cell_type": "code",
   "execution_count": 33,
   "outputs": [],
   "source": [
    "def plot_training(history):\n",
    "    epochs = history.epoch\n",
    "    hist = history.history\n",
    "    train_mse = hist[\"mse\"]\n",
    "    val_mse = hist[\"val_mse\"]\n",
    "    mae = hist[\"mae\"]\n",
    "    val_mae = hist[\"val_mae\"]\n",
    "\n",
    "    fig, ax = plt.subplots(2, 1)\n",
    "    fig.tight_layout()\n",
    "    ax[0].plot(train_mse,  '-r', label=\"training loss\")\n",
    "    ax[0].plot(val_mse, '-b', label=\"validation loss\")\n",
    "    ax[1].plot(mae, '-r', label=\"training loss\")\n",
    "    ax[1].plot(val_mae, '-b', label=\"validation loss\")\n",
    "    ax[0].set_title(\"MSE loss\")\n",
    "    ax[1].set_title(\"MAE loss (0.05 ~ 1 pawn)\")\n",
    "    ax[0].legend()\n",
    "    ax[1].legend()\n",
    "    ax[0].set_xticks(epochs)\n",
    "    ax[1].set_xticks(epochs)\n",
    "    plt.show()"
   ],
   "metadata": {
    "collapsed": false
   }
  },
  {
   "cell_type": "code",
   "execution_count": 34,
   "outputs": [
    {
     "data": {
      "text/plain": "<Figure size 640x480 with 2 Axes>",
      "image/png": "[encoded data removed]"
     },
     "metadata": {},
     "output_type": "display_data"
    }
   ],
   "source": [
    "plot_training(history_extended_new_data)"
   ],
   "metadata": {
    "collapsed": false
   }
  }
 ],
 "metadata": {
  "kernelspec": {
   "display_name": "Python 3",
   "language": "python",
   "name": "python3"
  },
  "language_info": {
   "codemirror_mode": {
    "name": "ipython",
    "version": 2
   },
   "file_extension": ".py",
   "mimetype": "text/x-python",
   "name": "python",
   "nbconvert_exporter": "python",
   "pygments_lexer": "ipython2",
   "version": "2.7.6"
  }
 },
 "nbformat": 4,
 "nbformat_minor": 0
}
