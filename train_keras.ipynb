{
 "cells": [
  {
   "cell_type": "code",
   "execution_count": 1,
   "metadata": {
    "collapsed": true
   },
   "outputs": [],
   "source": [
    "import tensorflow as tf\n",
    "from tensorflow import keras\n",
    "from tensorflow.keras import layers\n",
    "import numpy as np\n",
    "from keras import metrics\n",
    "from keras import backend as K\n",
    "import matplotlib.pyplot as plt"
   ]
  },
  {
   "cell_type": "markdown",
   "source": [
    "Load and normalize data"
   ],
   "metadata": {
    "collapsed": false
   }
  },
  {
   "cell_type": "code",
   "execution_count": 2,
   "outputs": [],
   "source": [
    "transformed_data = np.fromfile(\"inputs_transformed.npy\").reshape((-1, 12, 8, 8))\n",
    "labels = np.fromfile(\"labels.npy\")"
   ],
   "metadata": {
    "collapsed": false
   }
  },
  {
   "cell_type": "code",
   "execution_count": 3,
   "outputs": [
    {
     "data": {
      "text/plain": "(-10000.0, 10000.0)"
     },
     "execution_count": 3,
     "metadata": {},
     "output_type": "execute_result"
    }
   ],
   "source": [
    "labels.min(), labels.max()"
   ],
   "metadata": {
    "collapsed": false
   }
  },
  {
   "cell_type": "markdown",
   "source": [
    "Scale labels to range <-1, 1> so we can use tanh loss"
   ],
   "metadata": {
    "collapsed": false
   }
  },
  {
   "cell_type": "code",
   "execution_count": 4,
   "outputs": [],
   "source": [
    "transformed_labels = ((labels - labels.min()) / (labels.max() - labels.min())) * 2 - 1"
   ],
   "metadata": {
    "collapsed": false
   }
  },
  {
   "cell_type": "code",
   "execution_count": 5,
   "outputs": [
    {
     "data": {
      "text/plain": "(-1.0, 1.0)"
     },
     "execution_count": 5,
     "metadata": {},
     "output_type": "execute_result"
    }
   ],
   "source": [
    "transformed_labels.min(), transformed_labels.max()"
   ],
   "metadata": {
    "collapsed": false
   }
  },
  {
   "cell_type": "markdown",
   "source": [
    "split the data"
   ],
   "metadata": {
    "collapsed": false
   }
  },
  {
   "cell_type": "code",
   "execution_count": 6,
   "outputs": [],
   "source": [
    "from sklearn.model_selection import train_test_split\n",
    "X_train, X_val, y_train, y_val = train_test_split(transformed_data, transformed_labels, test_size=0.2, random_state=42)"
   ],
   "metadata": {
    "collapsed": false
   }
  },
  {
   "cell_type": "markdown",
   "source": [
    "Define basic shallow model which we will use as a baseline"
   ],
   "metadata": {
    "collapsed": false
   }
  },
  {
   "cell_type": "code",
   "execution_count": 8,
   "outputs": [
    {
     "name": "stdout",
     "output_type": "stream",
     "text": [
      "Model: \"sequential\"\n",
      "_________________________________________________________________\n",
      " Layer (type)                Output Shape              Param #   \n",
      "=================================================================\n",
      " flatten (Flatten)           (None, 768)               0         \n",
      "                                                                 \n",
      " dense (Dense)               (None, 1)                 769       \n",
      "                                                                 \n",
      "=================================================================\n",
      "Total params: 769\n",
      "Trainable params: 769\n",
      "Non-trainable params: 0\n",
      "_________________________________________________________________\n"
     ]
    }
   ],
   "source": [
    "base_model = keras.Sequential(\n",
    "    [\n",
    "        keras.Input(shape=(12, 8, 8)),\n",
    "        layers.Flatten(),\n",
    "        layers.Dense(1, activation=\"tanh\")\n",
    "    ]\n",
    ")\n",
    "base_model.summary()"
   ],
   "metadata": {
    "collapsed": false
   }
  },
  {
   "cell_type": "markdown",
   "source": [
    "Compile the model"
   ],
   "metadata": {
    "collapsed": false
   }
  },
  {
   "cell_type": "code",
   "execution_count": 11,
   "outputs": [],
   "source": [
    "base_model.compile(\n",
    "    loss=\"mse\",\n",
    "    optimizer=\"adam\",\n",
    "    metrics=[\"mse\", \"mae\"],\n",
    ")"
   ],
   "metadata": {
    "collapsed": false
   }
  },
  {
   "cell_type": "markdown",
   "source": [
    "Train the model"
   ],
   "metadata": {
    "collapsed": false
   }
  },
  {
   "cell_type": "code",
   "execution_count": 16,
   "outputs": [
    {
     "name": "stdout",
     "output_type": "stream",
     "text": [
      "Epoch 1/10\n",
      "3201/3201 [==============================] - 15s 5ms/step - loss: 0.0207 - mse: 0.0207 - mae: 0.0402 - val_loss: 0.0204 - val_mse: 0.0204 - val_mae: 0.0399\n",
      "Epoch 2/10\n",
      "3201/3201 [==============================] - 13s 4ms/step - loss: 0.0207 - mse: 0.0207 - mae: 0.0412 - val_loss: 0.0204 - val_mse: 0.0204 - val_mae: 0.0401\n",
      "Epoch 3/10\n",
      "3201/3201 [==============================] - 13s 4ms/step - loss: 0.0207 - mse: 0.0207 - mae: 0.0413 - val_loss: 0.0206 - val_mse: 0.0206 - val_mae: 0.0421\n",
      "Epoch 4/10\n",
      "3201/3201 [==============================] - 13s 4ms/step - loss: 0.0207 - mse: 0.0207 - mae: 0.0414 - val_loss: 0.0205 - val_mse: 0.0205 - val_mae: 0.0415\n",
      "Epoch 5/10\n",
      "3201/3201 [==============================] - 13s 4ms/step - loss: 0.0207 - mse: 0.0207 - mae: 0.0414 - val_loss: 0.0205 - val_mse: 0.0205 - val_mae: 0.0406\n",
      "Epoch 6/10\n",
      "3201/3201 [==============================] - 13s 4ms/step - loss: 0.0207 - mse: 0.0207 - mae: 0.0413 - val_loss: 0.0205 - val_mse: 0.0205 - val_mae: 0.0418\n",
      "Epoch 7/10\n",
      "3201/3201 [==============================] - 13s 4ms/step - loss: 0.0207 - mse: 0.0207 - mae: 0.0414 - val_loss: 0.0205 - val_mse: 0.0205 - val_mae: 0.0406\n",
      "Epoch 8/10\n",
      "3201/3201 [==============================] - 13s 4ms/step - loss: 0.0207 - mse: 0.0207 - mae: 0.0414 - val_loss: 0.0205 - val_mse: 0.0205 - val_mae: 0.0412\n",
      "Epoch 9/10\n",
      "3201/3201 [==============================] - 13s 4ms/step - loss: 0.0207 - mse: 0.0207 - mae: 0.0414 - val_loss: 0.0204 - val_mse: 0.0204 - val_mae: 0.0406\n",
      "Epoch 10/10\n",
      "3201/3201 [==============================] - 13s 4ms/step - loss: 0.0207 - mse: 0.0207 - mae: 0.0414 - val_loss: 0.0205 - val_mse: 0.0205 - val_mae: 0.0410\n"
     ]
    }
   ],
   "source": [
    "base_model_history = base_model.fit(X_train, y_train, batch_size=256, epochs=10, validation_data=(X_val, y_val))"
   ],
   "metadata": {
    "collapsed": false
   }
  },
  {
   "cell_type": "code",
   "execution_count": 15,
   "outputs": [],
   "source": [
    "K.clear_session()"
   ],
   "metadata": {
    "collapsed": false
   }
  },
  {
   "cell_type": "code",
   "execution_count": 18,
   "outputs": [
    {
     "name": "stdout",
     "output_type": "stream",
     "text": [
      "Model: \"sequential_1\"\n",
      "_________________________________________________________________\n",
      " Layer (type)                Output Shape              Param #   \n",
      "=================================================================\n",
      " flatten_1 (Flatten)         (None, 768)               0         \n",
      "                                                                 \n",
      " dense_3 (Dense)             (None, 96)                73824     \n",
      "                                                                 \n",
      " dense_4 (Dense)             (None, 12)                1164      \n",
      "                                                                 \n",
      " dense_5 (Dense)             (None, 1)                 13        \n",
      "                                                                 \n",
      "=================================================================\n",
      "Total params: 75,001\n",
      "Trainable params: 75,001\n",
      "Non-trainable params: 0\n",
      "_________________________________________________________________\n"
     ]
    }
   ],
   "source": [
    "model_narrowing = keras.Sequential(\n",
    "    [\n",
    "        keras.Input(shape=(12, 8, 8)),\n",
    "        layers.Flatten(),\n",
    "        layers.Dense(12*8, activation=\"relu\"),\n",
    "        layers.Dense(12, activation=\"relu\"),\n",
    "        layers.Dense(1, activation=\"tanh\")\n",
    "    ]\n",
    ")\n",
    "model_narrowing.summary()"
   ],
   "metadata": {
    "collapsed": false
   }
  },
  {
   "cell_type": "code",
   "execution_count": 19,
   "outputs": [],
   "source": [
    "model_narrowing.compile(\n",
    "    loss=\"mse\",\n",
    "    optimizer=\"adam\",\n",
    "    metrics=[\"mse\", \"mae\"],\n",
    ")"
   ],
   "metadata": {
    "collapsed": false
   }
  },
  {
   "cell_type": "code",
   "execution_count": 20,
   "outputs": [
    {
     "name": "stdout",
     "output_type": "stream",
     "text": [
      "Epoch 1/10\n",
      "3201/3201 [==============================] - 17s 5ms/step - loss: 0.0209 - mse: 0.0209 - mae: 0.0443 - val_loss: 0.0203 - val_mse: 0.0203 - val_mae: 0.0413\n",
      "Epoch 2/10\n",
      "3201/3201 [==============================] - 16s 5ms/step - loss: 0.0199 - mse: 0.0199 - mae: 0.0411 - val_loss: 0.0198 - val_mse: 0.0198 - val_mae: 0.0400\n",
      "Epoch 3/10\n",
      "3201/3201 [==============================] - 16s 5ms/step - loss: 0.0189 - mse: 0.0189 - mae: 0.0402 - val_loss: 0.0196 - val_mse: 0.0196 - val_mae: 0.0402\n",
      "Epoch 4/10\n",
      "3201/3201 [==============================] - 16s 5ms/step - loss: 0.0176 - mse: 0.0176 - mae: 0.0394 - val_loss: 0.0197 - val_mse: 0.0197 - val_mae: 0.0402\n",
      "Epoch 5/10\n",
      "3201/3201 [==============================] - 16s 5ms/step - loss: 0.0165 - mse: 0.0165 - mae: 0.0384 - val_loss: 0.0199 - val_mse: 0.0199 - val_mae: 0.0402\n",
      "Epoch 6/10\n",
      "3201/3201 [==============================] - 16s 5ms/step - loss: 0.0156 - mse: 0.0156 - mae: 0.0373 - val_loss: 0.0199 - val_mse: 0.0199 - val_mae: 0.0400\n",
      "Epoch 7/10\n",
      "3201/3201 [==============================] - 16s 5ms/step - loss: 0.0150 - mse: 0.0150 - mae: 0.0364 - val_loss: 0.0203 - val_mse: 0.0203 - val_mae: 0.0412\n",
      "Epoch 8/10\n",
      "3201/3201 [==============================] - 16s 5ms/step - loss: 0.0145 - mse: 0.0145 - mae: 0.0358 - val_loss: 0.0205 - val_mse: 0.0205 - val_mae: 0.0408\n",
      "Epoch 9/10\n",
      "3201/3201 [==============================] - 16s 5ms/step - loss: 0.0140 - mse: 0.0140 - mae: 0.0352 - val_loss: 0.0209 - val_mse: 0.0209 - val_mae: 0.0413\n",
      "Epoch 10/10\n",
      "3201/3201 [==============================] - 16s 5ms/step - loss: 0.0137 - mse: 0.0137 - mae: 0.0348 - val_loss: 0.0209 - val_mse: 0.0209 - val_mae: 0.0413\n"
     ]
    },
    {
     "data": {
      "text/plain": "<keras.callbacks.History at 0x29f94f7e3d0>"
     },
     "execution_count": 20,
     "metadata": {},
     "output_type": "execute_result"
    }
   ],
   "source": [
    "model_narrowing.fit(X_train, y_train, batch_size=256, epochs=10, validation_data=(X_val, y_val))"
   ],
   "metadata": {
    "collapsed": false
   }
  },
  {
   "cell_type": "code",
   "execution_count": 7,
   "outputs": [
    {
     "name": "stdout",
     "output_type": "stream",
     "text": [
      "Model: \"sequential\"\n",
      "_________________________________________________________________\n",
      " Layer (type)                Output Shape              Param #   \n",
      "=================================================================\n",
      " flatten (Flatten)           (None, 768)               0         \n",
      "                                                                 \n",
      " batch_normalization (BatchN  (None, 768)              3072      \n",
      " ormalization)                                                   \n",
      "                                                                 \n",
      " dense (Dense)               (None, 768)               590592    \n",
      "                                                                 \n",
      " batch_normalization_1 (Batc  (None, 768)              3072      \n",
      " hNormalization)                                                 \n",
      "                                                                 \n",
      " dense_1 (Dense)             (None, 96)                73824     \n",
      "                                                                 \n",
      " batch_normalization_2 (Batc  (None, 96)               384       \n",
      " hNormalization)                                                 \n",
      "                                                                 \n",
      " dense_2 (Dense)             (None, 12)                1164      \n",
      "                                                                 \n",
      " batch_normalization_3 (Batc  (None, 12)               48        \n",
      " hNormalization)                                                 \n",
      "                                                                 \n",
      " dense_3 (Dense)             (None, 1)                 13        \n",
      "                                                                 \n",
      "=================================================================\n",
      "Total params: 672,169\n",
      "Trainable params: 668,881\n",
      "Non-trainable params: 3,288\n",
      "_________________________________________________________________\n"
     ]
    }
   ],
   "source": [
    "K.clear_session()\n",
    "model_extended = keras.Sequential(\n",
    "    [\n",
    "        keras.Input(shape=(12, 8, 8)),\n",
    "        layers.Flatten(),\n",
    "        layers.BatchNormalization(),\n",
    "        layers.Dense(12*8*8, activation=\"relu\"),\n",
    "        layers.BatchNormalization(),\n",
    "        layers.Dense(12*8, activation=\"relu\"),\n",
    "        layers.BatchNormalization(),\n",
    "        layers.Dense(12, activation=\"relu\"),\n",
    "        layers.BatchNormalization(),\n",
    "        layers.Dense(1, activation=\"tanh\")\n",
    "    ]\n",
    ")\n",
    "model_extended.summary()"
   ],
   "metadata": {
    "collapsed": false
   }
  },
  {
   "cell_type": "code",
   "execution_count": 8,
   "outputs": [],
   "source": [
    "model_extended.compile(\n",
    "    loss=\"mse\",\n",
    "    optimizer=\"adam\",\n",
    "    metrics=[\"mse\", \"mae\"],\n",
    ")"
   ],
   "metadata": {
    "collapsed": false
   }
  },
  {
   "cell_type": "code",
   "execution_count": 9,
   "outputs": [
    {
     "name": "stdout",
     "output_type": "stream",
     "text": [
      "Epoch 1/20\n",
      "6402/6402 [==============================] - 79s 12ms/step - loss: 0.0251 - mse: 0.0251 - mae: 0.0551 - val_loss: 0.0211 - val_mse: 0.0211 - val_mae: 0.0469\n",
      "Epoch 2/20\n",
      "6402/6402 [==============================] - 73s 11ms/step - loss: 0.0207 - mse: 0.0207 - mae: 0.0446 - val_loss: 0.0221 - val_mse: 0.0221 - val_mae: 0.0500\n",
      "Epoch 3/20\n",
      "6402/6402 [==============================] - 76s 12ms/step - loss: 0.0201 - mse: 0.0201 - mae: 0.0443 - val_loss: 0.0237 - val_mse: 0.0237 - val_mae: 0.0530\n",
      "Epoch 4/20\n",
      "6402/6402 [==============================] - 75s 12ms/step - loss: 0.0187 - mse: 0.0187 - mae: 0.0460 - val_loss: 0.0339 - val_mse: 0.0339 - val_mae: 0.0743\n",
      "Epoch 5/20\n",
      "6402/6402 [==============================] - 76s 12ms/step - loss: 0.0167 - mse: 0.0167 - mae: 0.0464 - val_loss: 0.0433 - val_mse: 0.0433 - val_mae: 0.0849\n",
      "Epoch 6/20\n",
      "6402/6402 [==============================] - 76s 12ms/step - loss: 0.0147 - mse: 0.0147 - mae: 0.0448 - val_loss: 0.0492 - val_mse: 0.0492 - val_mae: 0.0934\n",
      "Epoch 7/20\n",
      "6402/6402 [==============================] - 73s 11ms/step - loss: 0.0129 - mse: 0.0129 - mae: 0.0426 - val_loss: 0.0577 - val_mse: 0.0577 - val_mae: 0.1020\n",
      "Epoch 8/20\n",
      "6402/6402 [==============================] - 75s 12ms/step - loss: 0.0115 - mse: 0.0115 - mae: 0.0407 - val_loss: 0.0505 - val_mse: 0.0505 - val_mae: 0.0921\n",
      "Epoch 9/20\n",
      "6402/6402 [==============================] - 76s 12ms/step - loss: 0.0104 - mse: 0.0104 - mae: 0.0393 - val_loss: 0.0493 - val_mse: 0.0493 - val_mae: 0.0869\n",
      "Epoch 10/20\n",
      "6402/6402 [==============================] - 76s 12ms/step - loss: 0.0095 - mse: 0.0095 - mae: 0.0381 - val_loss: 0.0501 - val_mse: 0.0501 - val_mae: 0.0889\n",
      "Epoch 11/20\n",
      "6402/6402 [==============================] - 75s 12ms/step - loss: 0.0087 - mse: 0.0087 - mae: 0.0370 - val_loss: 0.0474 - val_mse: 0.0474 - val_mae: 0.0858\n",
      "Epoch 12/20\n",
      "6402/6402 [==============================] - 76s 12ms/step - loss: 0.0082 - mse: 0.0082 - mae: 0.0364 - val_loss: 0.0490 - val_mse: 0.0490 - val_mae: 0.0839\n",
      "Epoch 13/20\n",
      "6402/6402 [==============================] - 75s 12ms/step - loss: 0.0077 - mse: 0.0077 - mae: 0.0358 - val_loss: 0.0466 - val_mse: 0.0466 - val_mae: 0.0779\n",
      "Epoch 14/20\n",
      "6402/6402 [==============================] - 70s 11ms/step - loss: 0.0073 - mse: 0.0073 - mae: 0.0351 - val_loss: 0.0452 - val_mse: 0.0452 - val_mae: 0.0789\n",
      "Epoch 15/20\n",
      "6402/6402 [==============================] - 71s 11ms/step - loss: 0.0069 - mse: 0.0069 - mae: 0.0347 - val_loss: 0.0490 - val_mse: 0.0490 - val_mae: 0.0841\n",
      "Epoch 16/20\n",
      "6402/6402 [==============================] - 74s 12ms/step - loss: 0.0066 - mse: 0.0066 - mae: 0.0343 - val_loss: 0.0448 - val_mse: 0.0448 - val_mae: 0.0809\n",
      "Epoch 17/20\n",
      "6402/6402 [==============================] - 74s 12ms/step - loss: 0.0063 - mse: 0.0063 - mae: 0.0338 - val_loss: 0.0436 - val_mse: 0.0436 - val_mae: 0.0768\n",
      "Epoch 18/20\n",
      "6402/6402 [==============================] - 76s 12ms/step - loss: 0.0061 - mse: 0.0061 - mae: 0.0335 - val_loss: 0.0438 - val_mse: 0.0438 - val_mae: 0.0764\n",
      "Epoch 19/20\n",
      "6402/6402 [==============================] - 74s 12ms/step - loss: 0.0057 - mse: 0.0057 - mae: 0.0330 - val_loss: 0.0436 - val_mse: 0.0436 - val_mae: 0.0739\n",
      "Epoch 20/20\n",
      "6402/6402 [==============================] - 70s 11ms/step - loss: 0.0056 - mse: 0.0056 - mae: 0.0327 - val_loss: 0.0410 - val_mse: 0.0410 - val_mae: 0.0714\n"
     ]
    },
    {
     "data": {
      "text/plain": "<keras.callbacks.History at 0x24cbf26c760>"
     },
     "execution_count": 9,
     "metadata": {},
     "output_type": "execute_result"
    }
   ],
   "source": [
    "model_extended.fit(X_train, y_train, batch_size=128, epochs=20, validation_data=(X_val, y_val))"
   ],
   "metadata": {
    "collapsed": false
   }
  },
  {
   "cell_type": "code",
   "execution_count": 10,
   "outputs": [
    {
     "name": "stdout",
     "output_type": "stream",
     "text": [
      "Model: \"sequential\"\n",
      "_________________________________________________________________\n",
      " Layer (type)                Output Shape              Param #   \n",
      "=================================================================\n",
      " flatten (Flatten)           (None, 768)               0         \n",
      "                                                                 \n",
      " dense (Dense)               (None, 768)               590592    \n",
      "                                                                 \n",
      " dense_1 (Dense)             (None, 96)                73824     \n",
      "                                                                 \n",
      " dense_2 (Dense)             (None, 12)                1164      \n",
      "                                                                 \n",
      " dense_3 (Dense)             (None, 1)                 13        \n",
      "                                                                 \n",
      "=================================================================\n",
      "Total params: 665,593\n",
      "Trainable params: 665,593\n",
      "Non-trainable params: 0\n",
      "_________________________________________________________________\n"
     ]
    }
   ],
   "source": [
    "K.clear_session()\n",
    "model_extended_no_batch = keras.Sequential(\n",
    "    [\n",
    "        keras.Input(shape=(12, 8, 8)),\n",
    "        layers.Flatten(),\n",
    "        layers.Dense(12*8*8, activation=\"relu\"),\n",
    "        layers.Dense(12*8, activation=\"relu\"),\n",
    "        layers.Dense(12, activation=\"relu\"),\n",
    "        layers.Dense(1, activation=\"tanh\")\n",
    "    ]\n",
    ")\n",
    "model_extended_no_batch.summary()"
   ],
   "metadata": {
    "collapsed": false
   }
  },
  {
   "cell_type": "code",
   "execution_count": 11,
   "outputs": [],
   "source": [
    "model_extended_no_batch.compile(\n",
    "    loss=\"mse\",\n",
    "    optimizer=\"adam\",\n",
    "    metrics=[\"mse\", \"mae\"],\n",
    ")"
   ],
   "metadata": {
    "collapsed": false
   }
  },
  {
   "cell_type": "code",
   "execution_count": 12,
   "outputs": [
    {
     "name": "stdout",
     "output_type": "stream",
     "text": [
      "Epoch 1/20\n",
      "6402/6402 [==============================] - 35s 5ms/step - loss: 0.0207 - mse: 0.0207 - mae: 0.0423 - val_loss: 0.0202 - val_mse: 0.0202 - val_mae: 0.0397\n",
      "Epoch 2/20\n",
      "6402/6402 [==============================] - 31s 5ms/step - loss: 0.0194 - mse: 0.0194 - mae: 0.0409 - val_loss: 0.0195 - val_mse: 0.0195 - val_mae: 0.0411\n",
      "Epoch 3/20\n",
      "6402/6402 [==============================] - 31s 5ms/step - loss: 0.0165 - mse: 0.0165 - mae: 0.0411 - val_loss: 0.0196 - val_mse: 0.0196 - val_mae: 0.0433\n",
      "Epoch 4/20\n",
      "6402/6402 [==============================] - 31s 5ms/step - loss: 0.0132 - mse: 0.0132 - mae: 0.0376 - val_loss: 0.0194 - val_mse: 0.0194 - val_mae: 0.0411\n",
      "Epoch 5/20\n",
      "6402/6402 [==============================] - 30s 5ms/step - loss: 0.0106 - mse: 0.0106 - mae: 0.0331 - val_loss: 0.0202 - val_mse: 0.0202 - val_mae: 0.0417\n",
      "Epoch 6/20\n",
      "6402/6402 [==============================] - 31s 5ms/step - loss: 0.0087 - mse: 0.0087 - mae: 0.0296 - val_loss: 0.0201 - val_mse: 0.0201 - val_mae: 0.0399\n",
      "Epoch 7/20\n",
      "6402/6402 [==============================] - 31s 5ms/step - loss: 0.0075 - mse: 0.0075 - mae: 0.0273 - val_loss: 0.0216 - val_mse: 0.0216 - val_mae: 0.0414\n",
      "Epoch 8/20\n",
      "6402/6402 [==============================] - 31s 5ms/step - loss: 0.0067 - mse: 0.0067 - mae: 0.0258 - val_loss: 0.0214 - val_mse: 0.0214 - val_mae: 0.0413\n",
      "Epoch 9/20\n",
      "6402/6402 [==============================] - 31s 5ms/step - loss: 0.0060 - mse: 0.0060 - mae: 0.0243 - val_loss: 0.0206 - val_mse: 0.0206 - val_mae: 0.0384\n",
      "Epoch 10/20\n",
      "6402/6402 [==============================] - 30s 5ms/step - loss: 0.0055 - mse: 0.0055 - mae: 0.0233 - val_loss: 0.0223 - val_mse: 0.0223 - val_mae: 0.0408\n",
      "Epoch 11/20\n",
      "6402/6402 [==============================] - 31s 5ms/step - loss: 0.0051 - mse: 0.0051 - mae: 0.0226 - val_loss: 0.0215 - val_mse: 0.0215 - val_mae: 0.0390\n",
      "Epoch 12/20\n",
      "6402/6402 [==============================] - 32s 5ms/step - loss: 0.0047 - mse: 0.0047 - mae: 0.0218 - val_loss: 0.0213 - val_mse: 0.0213 - val_mae: 0.0379\n",
      "Epoch 13/20\n",
      "6402/6402 [==============================] - 31s 5ms/step - loss: 0.0044 - mse: 0.0044 - mae: 0.0211 - val_loss: 0.0214 - val_mse: 0.0214 - val_mae: 0.0388\n",
      "Epoch 14/20\n",
      "6402/6402 [==============================] - 31s 5ms/step - loss: 0.0040 - mse: 0.0040 - mae: 0.0205 - val_loss: 0.0207 - val_mse: 0.0207 - val_mae: 0.0371\n",
      "Epoch 15/20\n",
      "6402/6402 [==============================] - 31s 5ms/step - loss: 0.0038 - mse: 0.0038 - mae: 0.0202 - val_loss: 0.0211 - val_mse: 0.0211 - val_mae: 0.0374\n",
      "Epoch 16/20\n",
      "6402/6402 [==============================] - 31s 5ms/step - loss: 0.0036 - mse: 0.0036 - mae: 0.0197 - val_loss: 0.0210 - val_mse: 0.0210 - val_mae: 0.0387\n",
      "Epoch 17/20\n",
      "6402/6402 [==============================] - 31s 5ms/step - loss: 0.0034 - mse: 0.0034 - mae: 0.0192 - val_loss: 0.0212 - val_mse: 0.0212 - val_mae: 0.0376\n",
      "Epoch 18/20\n",
      "6402/6402 [==============================] - 31s 5ms/step - loss: 0.0032 - mse: 0.0032 - mae: 0.0188 - val_loss: 0.0224 - val_mse: 0.0224 - val_mae: 0.0386\n",
      "Epoch 19/20\n",
      "6402/6402 [==============================] - 30s 5ms/step - loss: 0.0031 - mse: 0.0031 - mae: 0.0185 - val_loss: 0.0210 - val_mse: 0.0210 - val_mae: 0.0369\n",
      "Epoch 20/20\n",
      "6402/6402 [==============================] - 32s 5ms/step - loss: 0.0029 - mse: 0.0029 - mae: 0.0182 - val_loss: 0.0213 - val_mse: 0.0213 - val_mae: 0.0372\n"
     ]
    }
   ],
   "source": [
    "history_extended_no_batch = model_extended_no_batch.fit(X_train, y_train, batch_size=128, epochs=20, validation_data=(X_val, y_val))"
   ],
   "metadata": {
    "collapsed": false
   }
  },
  {
   "cell_type": "markdown",
   "source": [
    "Better results so I will try to increase size"
   ],
   "metadata": {
    "collapsed": false
   }
  },
  {
   "cell_type": "code",
   "execution_count": 7,
   "outputs": [
    {
     "name": "stdout",
     "output_type": "stream",
     "text": [
      "Model: \"sequential\"\n",
      "_________________________________________________________________\n",
      " Layer (type)                Output Shape              Param #   \n",
      "=================================================================\n",
      " flatten (Flatten)           (None, 768)               0         \n",
      "                                                                 \n",
      " dense (Dense)               (None, 768)               590592    \n",
      "                                                                 \n",
      " dense_1 (Dense)             (None, 384)               295296    \n",
      "                                                                 \n",
      " dense_2 (Dense)             (None, 96)                36960     \n",
      "                                                                 \n",
      " dense_3 (Dense)             (None, 12)                1164      \n",
      "                                                                 \n",
      " dense_4 (Dense)             (None, 1)                 13        \n",
      "                                                                 \n",
      "=================================================================\n",
      "Total params: 924,025\n",
      "Trainable params: 924,025\n",
      "Non-trainable params: 0\n",
      "_________________________________________________________________\n"
     ]
    }
   ],
   "source": [
    "K.clear_session()\n",
    "model_double_extended = keras.Sequential(\n",
    "    [\n",
    "        keras.Input(shape=(12, 8, 8)),\n",
    "        layers.Flatten(),\n",
    "        layers.Dense(12*8*8, activation=\"relu\"),\n",
    "        layers.Dense(12*8*4, activation=\"relu\"),\n",
    "        layers.Dense(12*8, activation=\"relu\"),\n",
    "        layers.Dense(12, activation=\"relu\"),\n",
    "        layers.Dense(1, activation=\"tanh\")\n",
    "    ]\n",
    ")\n",
    "model_double_extended.summary()"
   ],
   "metadata": {
    "collapsed": false
   }
  },
  {
   "cell_type": "code",
   "execution_count": 8,
   "outputs": [],
   "source": [
    "model_double_extended.compile(\n",
    "    loss=\"mse\",\n",
    "    optimizer=\"adam\",\n",
    "    metrics=[\"mse\", \"mae\"],\n",
    ")"
   ],
   "metadata": {
    "collapsed": false
   }
  },
  {
   "cell_type": "code",
   "execution_count": 9,
   "outputs": [
    {
     "name": "stdout",
     "output_type": "stream",
     "text": [
      "Epoch 1/20\n",
      "6402/6402 [==============================] - 38s 6ms/step - loss: 0.0218 - mse: 0.0218 - mae: 0.0491 - val_loss: 0.0216 - val_mse: 0.0216 - val_mae: 0.0486\n",
      "Epoch 2/20\n",
      "6402/6402 [==============================] - 34s 5ms/step - loss: 0.0218 - mse: 0.0218 - mae: 0.0491 - val_loss: 0.0216 - val_mse: 0.0216 - val_mae: 0.0486\n",
      "Epoch 3/20\n",
      "6402/6402 [==============================] - 35s 5ms/step - loss: 0.0218 - mse: 0.0218 - mae: 0.0491 - val_loss: 0.0216 - val_mse: 0.0216 - val_mae: 0.0486\n",
      "Epoch 4/20\n",
      "6402/6402 [==============================] - 34s 5ms/step - loss: 0.0218 - mse: 0.0218 - mae: 0.0491 - val_loss: 0.0216 - val_mse: 0.0216 - val_mae: 0.0486\n",
      "Epoch 5/20\n",
      "6402/6402 [==============================] - 35s 5ms/step - loss: 0.0218 - mse: 0.0218 - mae: 0.0491 - val_loss: 0.0216 - val_mse: 0.0216 - val_mae: 0.0488\n",
      "Epoch 6/20\n",
      "6402/6402 [==============================] - 35s 5ms/step - loss: 0.0218 - mse: 0.0218 - mae: 0.0491 - val_loss: 0.0216 - val_mse: 0.0216 - val_mae: 0.0489\n",
      "Epoch 7/20\n",
      "6402/6402 [==============================] - 34s 5ms/step - loss: 0.0218 - mse: 0.0218 - mae: 0.0491 - val_loss: 0.0216 - val_mse: 0.0216 - val_mae: 0.0486\n",
      "Epoch 8/20\n",
      "6402/6402 [==============================] - 34s 5ms/step - loss: 0.0218 - mse: 0.0218 - mae: 0.0491 - val_loss: 0.0216 - val_mse: 0.0216 - val_mae: 0.0487\n",
      "Epoch 9/20\n",
      "3690/6402 [================>.............] - ETA: 12s - loss: 0.0218 - mse: 0.0218 - mae: 0.0492"
     ]
    },
    {
     "ename": "KeyboardInterrupt",
     "evalue": "",
     "output_type": "error",
     "traceback": [
      "\u001B[1;31m---------------------------------------------------------------------------\u001B[0m",
      "\u001B[1;31mKeyboardInterrupt\u001B[0m                         Traceback (most recent call last)",
      "Cell \u001B[1;32mIn [9], line 1\u001B[0m\n\u001B[1;32m----> 1\u001B[0m history_double_extended \u001B[38;5;241m=\u001B[39m \u001B[43mmodel_double_extended\u001B[49m\u001B[38;5;241;43m.\u001B[39;49m\u001B[43mfit\u001B[49m\u001B[43m(\u001B[49m\u001B[43mX_train\u001B[49m\u001B[43m,\u001B[49m\u001B[43m \u001B[49m\u001B[43my_train\u001B[49m\u001B[43m,\u001B[49m\u001B[43m \u001B[49m\u001B[43mbatch_size\u001B[49m\u001B[38;5;241;43m=\u001B[39;49m\u001B[38;5;241;43m128\u001B[39;49m\u001B[43m,\u001B[49m\u001B[43m \u001B[49m\u001B[43mepochs\u001B[49m\u001B[38;5;241;43m=\u001B[39;49m\u001B[38;5;241;43m20\u001B[39;49m\u001B[43m,\u001B[49m\u001B[43m \u001B[49m\u001B[43mvalidation_data\u001B[49m\u001B[38;5;241;43m=\u001B[39;49m\u001B[43m(\u001B[49m\u001B[43mX_val\u001B[49m\u001B[43m,\u001B[49m\u001B[43m \u001B[49m\u001B[43my_val\u001B[49m\u001B[43m)\u001B[49m\u001B[43m)\u001B[49m\n",
      "File \u001B[1;32m~\\anaconda3\\envs\\tf2.11\\lib\\site-packages\\keras\\utils\\traceback_utils.py:65\u001B[0m, in \u001B[0;36mfilter_traceback.<locals>.error_handler\u001B[1;34m(*args, **kwargs)\u001B[0m\n\u001B[0;32m     63\u001B[0m filtered_tb \u001B[38;5;241m=\u001B[39m \u001B[38;5;28;01mNone\u001B[39;00m\n\u001B[0;32m     64\u001B[0m \u001B[38;5;28;01mtry\u001B[39;00m:\n\u001B[1;32m---> 65\u001B[0m     \u001B[38;5;28;01mreturn\u001B[39;00m \u001B[43mfn\u001B[49m\u001B[43m(\u001B[49m\u001B[38;5;241;43m*\u001B[39;49m\u001B[43margs\u001B[49m\u001B[43m,\u001B[49m\u001B[43m \u001B[49m\u001B[38;5;241;43m*\u001B[39;49m\u001B[38;5;241;43m*\u001B[39;49m\u001B[43mkwargs\u001B[49m\u001B[43m)\u001B[49m\n\u001B[0;32m     66\u001B[0m \u001B[38;5;28;01mexcept\u001B[39;00m \u001B[38;5;167;01mException\u001B[39;00m \u001B[38;5;28;01mas\u001B[39;00m e:\n\u001B[0;32m     67\u001B[0m     filtered_tb \u001B[38;5;241m=\u001B[39m _process_traceback_frames(e\u001B[38;5;241m.\u001B[39m__traceback__)\n",
      "File \u001B[1;32m~\\anaconda3\\envs\\tf2.11\\lib\\site-packages\\keras\\engine\\training.py:1564\u001B[0m, in \u001B[0;36mModel.fit\u001B[1;34m(self, x, y, batch_size, epochs, verbose, callbacks, validation_split, validation_data, shuffle, class_weight, sample_weight, initial_epoch, steps_per_epoch, validation_steps, validation_batch_size, validation_freq, max_queue_size, workers, use_multiprocessing)\u001B[0m\n\u001B[0;32m   1556\u001B[0m \u001B[38;5;28;01mwith\u001B[39;00m tf\u001B[38;5;241m.\u001B[39mprofiler\u001B[38;5;241m.\u001B[39mexperimental\u001B[38;5;241m.\u001B[39mTrace(\n\u001B[0;32m   1557\u001B[0m     \u001B[38;5;124m\"\u001B[39m\u001B[38;5;124mtrain\u001B[39m\u001B[38;5;124m\"\u001B[39m,\n\u001B[0;32m   1558\u001B[0m     epoch_num\u001B[38;5;241m=\u001B[39mepoch,\n\u001B[1;32m   (...)\u001B[0m\n\u001B[0;32m   1561\u001B[0m     _r\u001B[38;5;241m=\u001B[39m\u001B[38;5;241m1\u001B[39m,\n\u001B[0;32m   1562\u001B[0m ):\n\u001B[0;32m   1563\u001B[0m     callbacks\u001B[38;5;241m.\u001B[39mon_train_batch_begin(step)\n\u001B[1;32m-> 1564\u001B[0m     tmp_logs \u001B[38;5;241m=\u001B[39m \u001B[38;5;28;43mself\u001B[39;49m\u001B[38;5;241;43m.\u001B[39;49m\u001B[43mtrain_function\u001B[49m\u001B[43m(\u001B[49m\u001B[43miterator\u001B[49m\u001B[43m)\u001B[49m\n\u001B[0;32m   1565\u001B[0m     \u001B[38;5;28;01mif\u001B[39;00m data_handler\u001B[38;5;241m.\u001B[39mshould_sync:\n\u001B[0;32m   1566\u001B[0m         context\u001B[38;5;241m.\u001B[39masync_wait()\n",
      "File \u001B[1;32m~\\anaconda3\\envs\\tf2.11\\lib\\site-packages\\tensorflow\\python\\util\\traceback_utils.py:150\u001B[0m, in \u001B[0;36mfilter_traceback.<locals>.error_handler\u001B[1;34m(*args, **kwargs)\u001B[0m\n\u001B[0;32m    148\u001B[0m filtered_tb \u001B[38;5;241m=\u001B[39m \u001B[38;5;28;01mNone\u001B[39;00m\n\u001B[0;32m    149\u001B[0m \u001B[38;5;28;01mtry\u001B[39;00m:\n\u001B[1;32m--> 150\u001B[0m   \u001B[38;5;28;01mreturn\u001B[39;00m \u001B[43mfn\u001B[49m\u001B[43m(\u001B[49m\u001B[38;5;241;43m*\u001B[39;49m\u001B[43margs\u001B[49m\u001B[43m,\u001B[49m\u001B[43m \u001B[49m\u001B[38;5;241;43m*\u001B[39;49m\u001B[38;5;241;43m*\u001B[39;49m\u001B[43mkwargs\u001B[49m\u001B[43m)\u001B[49m\n\u001B[0;32m    151\u001B[0m \u001B[38;5;28;01mexcept\u001B[39;00m \u001B[38;5;167;01mException\u001B[39;00m \u001B[38;5;28;01mas\u001B[39;00m e:\n\u001B[0;32m    152\u001B[0m   filtered_tb \u001B[38;5;241m=\u001B[39m _process_traceback_frames(e\u001B[38;5;241m.\u001B[39m__traceback__)\n",
      "File \u001B[1;32m~\\anaconda3\\envs\\tf2.11\\lib\\site-packages\\tensorflow\\python\\eager\\def_function.py:915\u001B[0m, in \u001B[0;36mFunction.__call__\u001B[1;34m(self, *args, **kwds)\u001B[0m\n\u001B[0;32m    912\u001B[0m compiler \u001B[38;5;241m=\u001B[39m \u001B[38;5;124m\"\u001B[39m\u001B[38;5;124mxla\u001B[39m\u001B[38;5;124m\"\u001B[39m \u001B[38;5;28;01mif\u001B[39;00m \u001B[38;5;28mself\u001B[39m\u001B[38;5;241m.\u001B[39m_jit_compile \u001B[38;5;28;01melse\u001B[39;00m \u001B[38;5;124m\"\u001B[39m\u001B[38;5;124mnonXla\u001B[39m\u001B[38;5;124m\"\u001B[39m\n\u001B[0;32m    914\u001B[0m \u001B[38;5;28;01mwith\u001B[39;00m OptionalXlaContext(\u001B[38;5;28mself\u001B[39m\u001B[38;5;241m.\u001B[39m_jit_compile):\n\u001B[1;32m--> 915\u001B[0m   result \u001B[38;5;241m=\u001B[39m \u001B[38;5;28;43mself\u001B[39;49m\u001B[38;5;241;43m.\u001B[39;49m\u001B[43m_call\u001B[49m\u001B[43m(\u001B[49m\u001B[38;5;241;43m*\u001B[39;49m\u001B[43margs\u001B[49m\u001B[43m,\u001B[49m\u001B[43m \u001B[49m\u001B[38;5;241;43m*\u001B[39;49m\u001B[38;5;241;43m*\u001B[39;49m\u001B[43mkwds\u001B[49m\u001B[43m)\u001B[49m\n\u001B[0;32m    917\u001B[0m new_tracing_count \u001B[38;5;241m=\u001B[39m \u001B[38;5;28mself\u001B[39m\u001B[38;5;241m.\u001B[39mexperimental_get_tracing_count()\n\u001B[0;32m    918\u001B[0m without_tracing \u001B[38;5;241m=\u001B[39m (tracing_count \u001B[38;5;241m==\u001B[39m new_tracing_count)\n",
      "File \u001B[1;32m~\\anaconda3\\envs\\tf2.11\\lib\\site-packages\\tensorflow\\python\\eager\\def_function.py:947\u001B[0m, in \u001B[0;36mFunction._call\u001B[1;34m(self, *args, **kwds)\u001B[0m\n\u001B[0;32m    944\u001B[0m   \u001B[38;5;28mself\u001B[39m\u001B[38;5;241m.\u001B[39m_lock\u001B[38;5;241m.\u001B[39mrelease()\n\u001B[0;32m    945\u001B[0m   \u001B[38;5;66;03m# In this case we have created variables on the first call, so we run the\u001B[39;00m\n\u001B[0;32m    946\u001B[0m   \u001B[38;5;66;03m# defunned version which is guaranteed to never create variables.\u001B[39;00m\n\u001B[1;32m--> 947\u001B[0m   \u001B[38;5;28;01mreturn\u001B[39;00m \u001B[38;5;28;43mself\u001B[39;49m\u001B[38;5;241;43m.\u001B[39;49m\u001B[43m_stateless_fn\u001B[49m\u001B[43m(\u001B[49m\u001B[38;5;241;43m*\u001B[39;49m\u001B[43margs\u001B[49m\u001B[43m,\u001B[49m\u001B[43m \u001B[49m\u001B[38;5;241;43m*\u001B[39;49m\u001B[38;5;241;43m*\u001B[39;49m\u001B[43mkwds\u001B[49m\u001B[43m)\u001B[49m  \u001B[38;5;66;03m# pylint: disable=not-callable\u001B[39;00m\n\u001B[0;32m    948\u001B[0m \u001B[38;5;28;01melif\u001B[39;00m \u001B[38;5;28mself\u001B[39m\u001B[38;5;241m.\u001B[39m_stateful_fn \u001B[38;5;129;01mis\u001B[39;00m \u001B[38;5;129;01mnot\u001B[39;00m \u001B[38;5;28;01mNone\u001B[39;00m:\n\u001B[0;32m    949\u001B[0m   \u001B[38;5;66;03m# Release the lock early so that multiple threads can perform the call\u001B[39;00m\n\u001B[0;32m    950\u001B[0m   \u001B[38;5;66;03m# in parallel.\u001B[39;00m\n\u001B[0;32m    951\u001B[0m   \u001B[38;5;28mself\u001B[39m\u001B[38;5;241m.\u001B[39m_lock\u001B[38;5;241m.\u001B[39mrelease()\n",
      "File \u001B[1;32m~\\anaconda3\\envs\\tf2.11\\lib\\site-packages\\tensorflow\\python\\eager\\function.py:2496\u001B[0m, in \u001B[0;36mFunction.__call__\u001B[1;34m(self, *args, **kwargs)\u001B[0m\n\u001B[0;32m   2493\u001B[0m \u001B[38;5;28;01mwith\u001B[39;00m \u001B[38;5;28mself\u001B[39m\u001B[38;5;241m.\u001B[39m_lock:\n\u001B[0;32m   2494\u001B[0m   (graph_function,\n\u001B[0;32m   2495\u001B[0m    filtered_flat_args) \u001B[38;5;241m=\u001B[39m \u001B[38;5;28mself\u001B[39m\u001B[38;5;241m.\u001B[39m_maybe_define_function(args, kwargs)\n\u001B[1;32m-> 2496\u001B[0m \u001B[38;5;28;01mreturn\u001B[39;00m \u001B[43mgraph_function\u001B[49m\u001B[38;5;241;43m.\u001B[39;49m\u001B[43m_call_flat\u001B[49m\u001B[43m(\u001B[49m\n\u001B[0;32m   2497\u001B[0m \u001B[43m    \u001B[49m\u001B[43mfiltered_flat_args\u001B[49m\u001B[43m,\u001B[49m\u001B[43m \u001B[49m\u001B[43mcaptured_inputs\u001B[49m\u001B[38;5;241;43m=\u001B[39;49m\u001B[43mgraph_function\u001B[49m\u001B[38;5;241;43m.\u001B[39;49m\u001B[43mcaptured_inputs\u001B[49m\u001B[43m)\u001B[49m\n",
      "File \u001B[1;32m~\\anaconda3\\envs\\tf2.11\\lib\\site-packages\\tensorflow\\python\\eager\\function.py:1862\u001B[0m, in \u001B[0;36mConcreteFunction._call_flat\u001B[1;34m(self, args, captured_inputs, cancellation_manager)\u001B[0m\n\u001B[0;32m   1858\u001B[0m possible_gradient_type \u001B[38;5;241m=\u001B[39m gradients_util\u001B[38;5;241m.\u001B[39mPossibleTapeGradientTypes(args)\n\u001B[0;32m   1859\u001B[0m \u001B[38;5;28;01mif\u001B[39;00m (possible_gradient_type \u001B[38;5;241m==\u001B[39m gradients_util\u001B[38;5;241m.\u001B[39mPOSSIBLE_GRADIENT_TYPES_NONE\n\u001B[0;32m   1860\u001B[0m     \u001B[38;5;129;01mand\u001B[39;00m executing_eagerly):\n\u001B[0;32m   1861\u001B[0m   \u001B[38;5;66;03m# No tape is watching; skip to running the function.\u001B[39;00m\n\u001B[1;32m-> 1862\u001B[0m   \u001B[38;5;28;01mreturn\u001B[39;00m \u001B[38;5;28mself\u001B[39m\u001B[38;5;241m.\u001B[39m_build_call_outputs(\u001B[38;5;28;43mself\u001B[39;49m\u001B[38;5;241;43m.\u001B[39;49m\u001B[43m_inference_function\u001B[49m\u001B[38;5;241;43m.\u001B[39;49m\u001B[43mcall\u001B[49m\u001B[43m(\u001B[49m\n\u001B[0;32m   1863\u001B[0m \u001B[43m      \u001B[49m\u001B[43mctx\u001B[49m\u001B[43m,\u001B[49m\u001B[43m \u001B[49m\u001B[43margs\u001B[49m\u001B[43m,\u001B[49m\u001B[43m \u001B[49m\u001B[43mcancellation_manager\u001B[49m\u001B[38;5;241;43m=\u001B[39;49m\u001B[43mcancellation_manager\u001B[49m\u001B[43m)\u001B[49m)\n\u001B[0;32m   1864\u001B[0m forward_backward \u001B[38;5;241m=\u001B[39m \u001B[38;5;28mself\u001B[39m\u001B[38;5;241m.\u001B[39m_select_forward_and_backward_functions(\n\u001B[0;32m   1865\u001B[0m     args,\n\u001B[0;32m   1866\u001B[0m     possible_gradient_type,\n\u001B[0;32m   1867\u001B[0m     executing_eagerly)\n\u001B[0;32m   1868\u001B[0m forward_function, args_with_tangents \u001B[38;5;241m=\u001B[39m forward_backward\u001B[38;5;241m.\u001B[39mforward()\n",
      "File \u001B[1;32m~\\anaconda3\\envs\\tf2.11\\lib\\site-packages\\tensorflow\\python\\eager\\function.py:499\u001B[0m, in \u001B[0;36m_EagerDefinedFunction.call\u001B[1;34m(self, ctx, args, cancellation_manager)\u001B[0m\n\u001B[0;32m    497\u001B[0m \u001B[38;5;28;01mwith\u001B[39;00m _InterpolateFunctionError(\u001B[38;5;28mself\u001B[39m):\n\u001B[0;32m    498\u001B[0m   \u001B[38;5;28;01mif\u001B[39;00m cancellation_manager \u001B[38;5;129;01mis\u001B[39;00m \u001B[38;5;28;01mNone\u001B[39;00m:\n\u001B[1;32m--> 499\u001B[0m     outputs \u001B[38;5;241m=\u001B[39m \u001B[43mexecute\u001B[49m\u001B[38;5;241;43m.\u001B[39;49m\u001B[43mexecute\u001B[49m\u001B[43m(\u001B[49m\n\u001B[0;32m    500\u001B[0m \u001B[43m        \u001B[49m\u001B[38;5;28;43mstr\u001B[39;49m\u001B[43m(\u001B[49m\u001B[38;5;28;43mself\u001B[39;49m\u001B[38;5;241;43m.\u001B[39;49m\u001B[43msignature\u001B[49m\u001B[38;5;241;43m.\u001B[39;49m\u001B[43mname\u001B[49m\u001B[43m)\u001B[49m\u001B[43m,\u001B[49m\n\u001B[0;32m    501\u001B[0m \u001B[43m        \u001B[49m\u001B[43mnum_outputs\u001B[49m\u001B[38;5;241;43m=\u001B[39;49m\u001B[38;5;28;43mself\u001B[39;49m\u001B[38;5;241;43m.\u001B[39;49m\u001B[43m_num_outputs\u001B[49m\u001B[43m,\u001B[49m\n\u001B[0;32m    502\u001B[0m \u001B[43m        \u001B[49m\u001B[43minputs\u001B[49m\u001B[38;5;241;43m=\u001B[39;49m\u001B[43margs\u001B[49m\u001B[43m,\u001B[49m\n\u001B[0;32m    503\u001B[0m \u001B[43m        \u001B[49m\u001B[43mattrs\u001B[49m\u001B[38;5;241;43m=\u001B[39;49m\u001B[43mattrs\u001B[49m\u001B[43m,\u001B[49m\n\u001B[0;32m    504\u001B[0m \u001B[43m        \u001B[49m\u001B[43mctx\u001B[49m\u001B[38;5;241;43m=\u001B[39;49m\u001B[43mctx\u001B[49m\u001B[43m)\u001B[49m\n\u001B[0;32m    505\u001B[0m   \u001B[38;5;28;01melse\u001B[39;00m:\n\u001B[0;32m    506\u001B[0m     outputs \u001B[38;5;241m=\u001B[39m execute\u001B[38;5;241m.\u001B[39mexecute_with_cancellation(\n\u001B[0;32m    507\u001B[0m         \u001B[38;5;28mstr\u001B[39m(\u001B[38;5;28mself\u001B[39m\u001B[38;5;241m.\u001B[39msignature\u001B[38;5;241m.\u001B[39mname),\n\u001B[0;32m    508\u001B[0m         num_outputs\u001B[38;5;241m=\u001B[39m\u001B[38;5;28mself\u001B[39m\u001B[38;5;241m.\u001B[39m_num_outputs,\n\u001B[1;32m   (...)\u001B[0m\n\u001B[0;32m    511\u001B[0m         ctx\u001B[38;5;241m=\u001B[39mctx,\n\u001B[0;32m    512\u001B[0m         cancellation_manager\u001B[38;5;241m=\u001B[39mcancellation_manager)\n",
      "File \u001B[1;32m~\\anaconda3\\envs\\tf2.11\\lib\\site-packages\\tensorflow\\python\\eager\\execute.py:54\u001B[0m, in \u001B[0;36mquick_execute\u001B[1;34m(op_name, num_outputs, inputs, attrs, ctx, name)\u001B[0m\n\u001B[0;32m     52\u001B[0m \u001B[38;5;28;01mtry\u001B[39;00m:\n\u001B[0;32m     53\u001B[0m   ctx\u001B[38;5;241m.\u001B[39mensure_initialized()\n\u001B[1;32m---> 54\u001B[0m   tensors \u001B[38;5;241m=\u001B[39m \u001B[43mpywrap_tfe\u001B[49m\u001B[38;5;241;43m.\u001B[39;49m\u001B[43mTFE_Py_Execute\u001B[49m\u001B[43m(\u001B[49m\u001B[43mctx\u001B[49m\u001B[38;5;241;43m.\u001B[39;49m\u001B[43m_handle\u001B[49m\u001B[43m,\u001B[49m\u001B[43m \u001B[49m\u001B[43mdevice_name\u001B[49m\u001B[43m,\u001B[49m\u001B[43m \u001B[49m\u001B[43mop_name\u001B[49m\u001B[43m,\u001B[49m\n\u001B[0;32m     55\u001B[0m \u001B[43m                                      \u001B[49m\u001B[43minputs\u001B[49m\u001B[43m,\u001B[49m\u001B[43m \u001B[49m\u001B[43mattrs\u001B[49m\u001B[43m,\u001B[49m\u001B[43m \u001B[49m\u001B[43mnum_outputs\u001B[49m\u001B[43m)\u001B[49m\n\u001B[0;32m     56\u001B[0m \u001B[38;5;28;01mexcept\u001B[39;00m core\u001B[38;5;241m.\u001B[39m_NotOkStatusException \u001B[38;5;28;01mas\u001B[39;00m e:\n\u001B[0;32m     57\u001B[0m   \u001B[38;5;28;01mif\u001B[39;00m name \u001B[38;5;129;01mis\u001B[39;00m \u001B[38;5;129;01mnot\u001B[39;00m \u001B[38;5;28;01mNone\u001B[39;00m:\n",
      "\u001B[1;31mKeyboardInterrupt\u001B[0m: "
     ]
    }
   ],
   "source": [
    "history_double_extended = model_double_extended.fit(X_train, y_train, batch_size=128, epochs=20, validation_data=(X_val, y_val))"
   ],
   "metadata": {
    "collapsed": false
   }
  },
  {
   "cell_type": "markdown",
   "source": [
    "Podczas wszystkich powyższych eksperymentów MAE wynosiło ~0.03 onacza to że sieć średnio w ewaluacji myliła się o 3 pionki (0.03 * 10_000 / 100) spróbujmy przeskalować trochę dane. Mianowicie zdecydowana większość ewaluacji jest w zakresie <-2000, 2000> więc wartości większe od 2000 ograniczymy do 2000 i analogicznie dla wartości mniejszych od -2000."
   ],
   "metadata": {
    "collapsed": false
   }
  },
  {
   "cell_type": "code",
   "execution_count": 6,
   "outputs": [
    {
     "data": {
      "text/plain": "(array([1.16470e+04, 4.00000e+01, 4.90000e+01, 7.50000e+01, 6.60000e+01,\n        8.60000e+01, 1.00000e+02, 1.18000e+02, 1.32000e+02, 1.83000e+02,\n        1.79000e+02, 2.05000e+02, 2.58000e+02, 2.83000e+02, 3.58000e+02,\n        3.39000e+02, 4.00000e+02, 4.31000e+02, 5.03000e+02, 5.48000e+02,\n        7.14000e+02, 7.47000e+02, 9.40000e+02, 1.02700e+03, 1.26500e+03,\n        1.34500e+03, 1.64300e+03, 1.75100e+03, 2.21800e+03, 2.56500e+03,\n        3.13100e+03, 3.73900e+03, 4.99400e+03, 7.03900e+03, 9.98900e+03,\n        1.22790e+04, 1.58540e+04, 1.72740e+04, 1.81800e+04, 1.78910e+04,\n        1.71600e+04, 1.55770e+04, 1.57240e+04, 1.62560e+04, 1.80530e+04,\n        2.08200e+04, 2.62730e+04, 3.31100e+04, 5.09220e+04, 8.80550e+04,\n        1.05488e+05, 6.69740e+04, 5.08050e+04, 3.81240e+04, 3.01470e+04,\n        2.52770e+04, 2.16490e+04, 1.85340e+04, 1.75690e+04, 1.72230e+04,\n        1.73960e+04, 1.78530e+04, 1.87350e+04, 1.83910e+04, 1.82610e+04,\n        1.67740e+04, 1.41070e+04, 1.09080e+04, 8.52800e+03, 6.18500e+03,\n        4.70700e+03, 3.77600e+03, 3.08000e+03, 2.56800e+03, 2.18600e+03,\n        1.79100e+03, 1.67900e+03, 1.47900e+03, 1.29100e+03, 1.08500e+03,\n        9.91000e+02, 8.41000e+02, 7.23000e+02, 5.68000e+02, 5.18000e+02,\n        4.91000e+02, 4.25000e+02, 4.09000e+02, 3.15000e+02, 3.31000e+02,\n        2.32000e+02, 1.87000e+02, 1.85000e+02, 1.85000e+02, 1.64000e+02,\n        1.13000e+02, 1.10000e+02, 9.20000e+01, 7.80000e+01, 1.22540e+04]),\n array([-1.  , -0.98, -0.96, -0.94, -0.92, -0.9 , -0.88, -0.86, -0.84,\n        -0.82, -0.8 , -0.78, -0.76, -0.74, -0.72, -0.7 , -0.68, -0.66,\n        -0.64, -0.62, -0.6 , -0.58, -0.56, -0.54, -0.52, -0.5 , -0.48,\n        -0.46, -0.44, -0.42, -0.4 , -0.38, -0.36, -0.34, -0.32, -0.3 ,\n        -0.28, -0.26, -0.24, -0.22, -0.2 , -0.18, -0.16, -0.14, -0.12,\n        -0.1 , -0.08, -0.06, -0.04, -0.02,  0.  ,  0.02,  0.04,  0.06,\n         0.08,  0.1 ,  0.12,  0.14,  0.16,  0.18,  0.2 ,  0.22,  0.24,\n         0.26,  0.28,  0.3 ,  0.32,  0.34,  0.36,  0.38,  0.4 ,  0.42,\n         0.44,  0.46,  0.48,  0.5 ,  0.52,  0.54,  0.56,  0.58,  0.6 ,\n         0.62,  0.64,  0.66,  0.68,  0.7 ,  0.72,  0.74,  0.76,  0.78,\n         0.8 ,  0.82,  0.84,  0.86,  0.88,  0.9 ,  0.92,  0.94,  0.96,\n         0.98,  1.  ]),\n <BarContainer object of 100 artists>)"
     },
     "execution_count": 6,
     "metadata": {},
     "output_type": "execute_result"
    },
    {
     "data": {
      "text/plain": "<Figure size 640x480 with 1 Axes>",
      "image/png": "[encoded data removed]"
     },
     "metadata": {},
     "output_type": "display_data"
    }
   ],
   "source": [
    "clipped_labels = np.clip(labels, -2000, 2000)\n",
    "transformed_clipped_labels = ((clipped_labels - clipped_labels.min()) / (clipped_labels.max() - clipped_labels.min())) * 2 - 1\n",
    "plt.hist(transformed_clipped_labels, bins=100)"
   ],
   "metadata": {
    "collapsed": false
   }
  },
  {
   "cell_type": "code",
   "execution_count": 6,
   "outputs": [],
   "source": [
    "from sklearn.model_selection import train_test_split\n",
    "X_train, X_val, y_train, y_val = train_test_split(transformed_data, transformed_clipped_labels, test_size=0.2, random_state=42)"
   ],
   "metadata": {
    "collapsed": false
   }
  },
  {
   "cell_type": "markdown",
   "source": [
    "Weźmy najlepszą architekturę i przetrenujmy na nowych danych"
   ],
   "metadata": {
    "collapsed": false
   }
  },
  {
   "cell_type": "code",
   "execution_count": 7,
   "outputs": [
    {
     "name": "stdout",
     "output_type": "stream",
     "text": [
      "Model: \"sequential\"\n",
      "_________________________________________________________________\n",
      " Layer (type)                Output Shape              Param #   \n",
      "=================================================================\n",
      " flatten (Flatten)           (None, 768)               0         \n",
      "                                                                 \n",
      " dense (Dense)               (None, 768)               590592    \n",
      "                                                                 \n",
      " dense_1 (Dense)             (None, 96)                73824     \n",
      "                                                                 \n",
      " dense_2 (Dense)             (None, 12)                1164      \n",
      "                                                                 \n",
      " dense_3 (Dense)             (None, 1)                 13        \n",
      "                                                                 \n",
      "=================================================================\n",
      "Total params: 665,593\n",
      "Trainable params: 665,593\n",
      "Non-trainable params: 0\n",
      "_________________________________________________________________\n"
     ]
    }
   ],
   "source": [
    "K.clear_session()\n",
    "model_extended_new_data = keras.Sequential(\n",
    "    [\n",
    "        keras.Input(shape=(12, 8, 8)),\n",
    "        layers.Flatten(),\n",
    "        layers.Dense(12*8*8, activation=\"relu\"),\n",
    "        layers.Dense(12*8, activation=\"relu\"),\n",
    "        layers.Dense(12, activation=\"relu\"),\n",
    "        layers.Dense(1, activation=\"tanh\")\n",
    "    ]\n",
    ")\n",
    "model_extended_new_data.summary()"
   ],
   "metadata": {
    "collapsed": false
   }
  },
  {
   "cell_type": "code",
   "execution_count": 8,
   "outputs": [],
   "source": [
    "model_extended_new_data.compile(\n",
    "    loss=\"mse\",\n",
    "    optimizer=\"adam\",\n",
    "    metrics=[\"mse\", \"mae\"],\n",
    ")"
   ],
   "metadata": {
    "collapsed": false
   }
  },
  {
   "cell_type": "code",
   "execution_count": 9,
   "outputs": [
    {
     "name": "stdout",
     "output_type": "stream",
     "text": [
      "Epoch 1/20\n",
      "6402/6402 [==============================] - 34s 5ms/step - loss: 0.0335 - mse: 0.0335 - mae: 0.0966 - val_loss: 0.0309 - val_mse: 0.0309 - val_mae: 0.0892\n",
      "Epoch 2/20\n",
      "6402/6402 [==============================] - 30s 5ms/step - loss: 0.0286 - mse: 0.0286 - mae: 0.0849 - val_loss: 0.0291 - val_mse: 0.0291 - val_mae: 0.0843\n",
      "Epoch 3/20\n",
      "6402/6402 [==============================] - 30s 5ms/step - loss: 0.0247 - mse: 0.0247 - mae: 0.0799 - val_loss: 0.0288 - val_mse: 0.0288 - val_mae: 0.0858\n",
      "Epoch 4/20\n",
      "6402/6402 [==============================] - 30s 5ms/step - loss: 0.0208 - mse: 0.0208 - mae: 0.0760 - val_loss: 0.0291 - val_mse: 0.0291 - val_mae: 0.0839\n",
      "Epoch 5/20\n",
      "6402/6402 [==============================] - 31s 5ms/step - loss: 0.0172 - mse: 0.0172 - mae: 0.0718 - val_loss: 0.0295 - val_mse: 0.0295 - val_mae: 0.0841\n",
      "Epoch 6/20\n",
      "6402/6402 [==============================] - 30s 5ms/step - loss: 0.0146 - mse: 0.0146 - mae: 0.0676 - val_loss: 0.0299 - val_mse: 0.0299 - val_mae: 0.0831\n",
      "Epoch 7/20\n",
      "6402/6402 [==============================] - 30s 5ms/step - loss: 0.0127 - mse: 0.0127 - mae: 0.0644 - val_loss: 0.0308 - val_mse: 0.0308 - val_mae: 0.0834\n",
      "Epoch 8/20\n",
      "6402/6402 [==============================] - 30s 5ms/step - loss: 0.0114 - mse: 0.0114 - mae: 0.0617 - val_loss: 0.0308 - val_mse: 0.0308 - val_mae: 0.0815\n",
      "Epoch 9/20\n",
      "6402/6402 [==============================] - 31s 5ms/step - loss: 0.0105 - mse: 0.0105 - mae: 0.0597 - val_loss: 0.0309 - val_mse: 0.0309 - val_mae: 0.0819\n",
      "Epoch 10/20\n",
      "6402/6402 [==============================] - 30s 5ms/step - loss: 0.0097 - mse: 0.0097 - mae: 0.0578 - val_loss: 0.0303 - val_mse: 0.0303 - val_mae: 0.0806\n",
      "Epoch 11/20\n",
      "6402/6402 [==============================] - 30s 5ms/step - loss: 0.0091 - mse: 0.0091 - mae: 0.0563 - val_loss: 0.0313 - val_mse: 0.0313 - val_mae: 0.0829\n",
      "Epoch 12/20\n",
      "6402/6402 [==============================] - 30s 5ms/step - loss: 0.0086 - mse: 0.0086 - mae: 0.0549 - val_loss: 0.0305 - val_mse: 0.0305 - val_mae: 0.0803\n",
      "Epoch 13/20\n",
      "6402/6402 [==============================] - 31s 5ms/step - loss: 0.0080 - mse: 0.0080 - mae: 0.0535 - val_loss: 0.0305 - val_mse: 0.0305 - val_mae: 0.0820\n",
      "Epoch 14/20\n",
      "6402/6402 [==============================] - 31s 5ms/step - loss: 0.0076 - mse: 0.0076 - mae: 0.0526 - val_loss: 0.0312 - val_mse: 0.0312 - val_mae: 0.0807\n",
      "Epoch 15/20\n",
      "6402/6402 [==============================] - 31s 5ms/step - loss: 0.0073 - mse: 0.0073 - mae: 0.0516 - val_loss: 0.0307 - val_mse: 0.0307 - val_mae: 0.0798\n",
      "Epoch 16/20\n",
      "6402/6402 [==============================] - 31s 5ms/step - loss: 0.0070 - mse: 0.0070 - mae: 0.0506 - val_loss: 0.0301 - val_mse: 0.0301 - val_mae: 0.0790\n",
      "Epoch 17/20\n",
      "6402/6402 [==============================] - 31s 5ms/step - loss: 0.0068 - mse: 0.0068 - mae: 0.0499 - val_loss: 0.0304 - val_mse: 0.0304 - val_mae: 0.0798\n",
      "Epoch 18/20\n",
      "6402/6402 [==============================] - 31s 5ms/step - loss: 0.0063 - mse: 0.0063 - mae: 0.0489 - val_loss: 0.0300 - val_mse: 0.0300 - val_mae: 0.0773\n",
      "Epoch 19/20\n",
      "6402/6402 [==============================] - 31s 5ms/step - loss: 0.0061 - mse: 0.0061 - mae: 0.0480 - val_loss: 0.0309 - val_mse: 0.0309 - val_mae: 0.0783\n",
      "Epoch 20/20\n",
      "6402/6402 [==============================] - 31s 5ms/step - loss: 0.0059 - mse: 0.0059 - mae: 0.0474 - val_loss: 0.0302 - val_mse: 0.0302 - val_mae: 0.0775\n"
     ]
    }
   ],
   "source": [
    "history_extended_new_data = model_extended_new_data.fit(X_train, y_train, batch_size=128, epochs=20, validation_data=(X_val, y_val))"
   ],
   "metadata": {
    "collapsed": false
   }
  },
  {
   "cell_type": "code",
   "execution_count": 5,
   "outputs": [],
   "source": [
    "def plot_training(history):\n",
    "    epochs = history.epoch\n",
    "    hist = history.history\n",
    "    train_mse = hist[\"mse\"]\n",
    "    val_mse = hist[\"val_mse\"]\n",
    "    mae = hist[\"mae\"]\n",
    "    val_mae = hist[\"val_mae\"]\n",
    "\n",
    "    fig, ax = plt.subplots(2, 1)\n",
    "    fig.tight_layout()\n",
    "    ax[0].plot(train_mse,  '-r', label=\"training loss\")\n",
    "    ax[0].plot(val_mse, '-b', label=\"validation loss\")\n",
    "    ax[1].plot(mae, '-r', label=\"training loss\")\n",
    "    ax[1].plot(val_mae, '-b', label=\"validation loss\")\n",
    "    ax[0].set_title(\"MSE loss\")\n",
    "    ax[1].set_title(\"MAE loss (0.05 ~ 1 pawn)\")\n",
    "    ax[0].legend()\n",
    "    ax[1].legend()\n",
    "    ax[0].set_xticks(epochs)\n",
    "    ax[1].set_xticks(epochs)\n",
    "    plt.show()"
   ],
   "metadata": {
    "collapsed": false
   }
  },
  {
   "cell_type": "code",
   "execution_count": 34,
   "outputs": [
    {
     "data": {
      "text/plain": "<Figure size 640x480 with 2 Axes>",
      "image/png": "[encoded data removed]"
     },
     "metadata": {},
     "output_type": "display_data"
    }
   ],
   "source": [
    "plot_training(history_extended_new_data)"
   ],
   "metadata": {
    "collapsed": false
   }
  },
  {
   "cell_type": "markdown",
   "source": [
    "Biorąc pod uwagę MAE i zakres danych (-2000, 2000) można obliczyć o ile pionków model mylił się w powyższej strategi. MAE na danych walidacyjnych myliło się w ostatnich epokach o około 0.075 * 2000 / 100  = 1.5 pionka co daje nam o wiele lepszy wynik niż poprzednie eksperymenty. Ponadto widać na wykresach że występuje overfitting, więc spróbujemy zwiększyć trochę ilośc warstw w modelu."
   ],
   "metadata": {
    "collapsed": false
   }
  },
  {
   "cell_type": "markdown",
   "source": [
    "### Przeskalowanie danych do zakresu oznaczającego strate najbardziej wartościowej figury -> hetmana\n",
    "Dama ma wartość 9, wiec nasze dane o wartości powyżej 9 * 100 (centipawn = 100) ustawimy na 900 (opercja clap)"
   ],
   "metadata": {
    "collapsed": false
   }
  },
  {
   "cell_type": "code",
   "execution_count": 3,
   "outputs": [
    {
     "data": {
      "text/plain": "(array([25396.,   890.,  1047.,  1011.,  1077.,  1393.,  1258.,  1622.,\n         1563.,  1828.,  2108.,  2341.,  2885.,  3170.,  3762.,  4316.,\n         4818.,  5660.,  6108.,  6674.,  7507.,  7474.,  8018.,  8031.,\n         8156.,  8233.,  7945.,  7934.,  7558.,  7430.,  7346.,  7145.,\n         7261.,  6961.,  7584.,  6831.,  7627.,  7954.,  8361.,  8947.,\n        10472.,  9919., 11794., 13472., 15262., 17875., 23262., 26371.,\n        35583., 45295., 56107., 41097., 33681., 29575., 26348., 22639.,\n        21132., 16569., 15719., 14419., 12886., 12078., 11007., 10100.,\n         9478.,  9023.,  8614.,  8216.,  8425.,  7925.,  7109.,  7918.,\n         7864.,  7645.,  7914.,  8075.,  8219.,  8655.,  8109.,  8224.,\n         8604.,  8573.,  8396.,  7527.,  7230.,  7159.,  6305.,  6010.,\n         5209.,  4432.,  4237.,  3484.,  3115.,  2802.,  2477.,  2033.,\n         1844.,  1713.,  1714., 34148.]),\n array([-1.  , -0.98, -0.96, -0.94, -0.92, -0.9 , -0.88, -0.86, -0.84,\n        -0.82, -0.8 , -0.78, -0.76, -0.74, -0.72, -0.7 , -0.68, -0.66,\n        -0.64, -0.62, -0.6 , -0.58, -0.56, -0.54, -0.52, -0.5 , -0.48,\n        -0.46, -0.44, -0.42, -0.4 , -0.38, -0.36, -0.34, -0.32, -0.3 ,\n        -0.28, -0.26, -0.24, -0.22, -0.2 , -0.18, -0.16, -0.14, -0.12,\n        -0.1 , -0.08, -0.06, -0.04, -0.02,  0.  ,  0.02,  0.04,  0.06,\n         0.08,  0.1 ,  0.12,  0.14,  0.16,  0.18,  0.2 ,  0.22,  0.24,\n         0.26,  0.28,  0.3 ,  0.32,  0.34,  0.36,  0.38,  0.4 ,  0.42,\n         0.44,  0.46,  0.48,  0.5 ,  0.52,  0.54,  0.56,  0.58,  0.6 ,\n         0.62,  0.64,  0.66,  0.68,  0.7 ,  0.72,  0.74,  0.76,  0.78,\n         0.8 ,  0.82,  0.84,  0.86,  0.88,  0.9 ,  0.92,  0.94,  0.96,\n         0.98,  1.  ]),\n <BarContainer object of 100 artists>)"
     },
     "execution_count": 3,
     "metadata": {},
     "output_type": "execute_result"
    },
    {
     "data": {
      "text/plain": "<Figure size 640x480 with 1 Axes>",
      "image/png": "[encoded data removed]"
     },
     "metadata": {},
     "output_type": "display_data"
    }
   ],
   "source": [
    "QUEEN_VALUE = 900\n",
    "clipped_labels_queen = np.clip(labels, -QUEEN_VALUE, QUEEN_VALUE)\n",
    "transformed_clipped_labels_queen = ((clipped_labels_queen - clipped_labels_queen.min()) / (clipped_labels_queen.max() - clipped_labels_queen.min())) * 2 - 1\n",
    "plt.hist(transformed_clipped_labels_queen, bins=100)"
   ],
   "metadata": {
    "collapsed": false
   }
  },
  {
   "cell_type": "code",
   "execution_count": 4,
   "outputs": [],
   "source": [
    "from sklearn.model_selection import train_test_split\n",
    "X_train, X_val, y_train, y_val = train_test_split(transformed_data, transformed_clipped_labels_queen, test_size=0.2, random_state=42)"
   ],
   "metadata": {
    "collapsed": false
   }
  },
  {
   "cell_type": "markdown",
   "source": [
    "### Nowa większa architektura\n",
    "Jako że mamy bardzo dużo danych (~1mln) to możemy poeksperymentować z większą architekturą"
   ],
   "metadata": {
    "collapsed": false
   }
  },
  {
   "cell_type": "code",
   "execution_count": 8,
   "outputs": [
    {
     "name": "stdout",
     "output_type": "stream",
     "text": [
      "Model: \"sequential\"\n",
      "_________________________________________________________________\n",
      " Layer (type)                Output Shape              Param #   \n",
      "=================================================================\n",
      " flatten (Flatten)           (None, 768)               0         \n",
      "                                                                 \n",
      " dense (Dense)               (None, 768)               590592    \n",
      "                                                                 \n",
      " dense_1 (Dense)             (None, 768)               590592    \n",
      "                                                                 \n",
      " dense_2 (Dense)             (None, 768)               590592    \n",
      "                                                                 \n",
      " dense_3 (Dense)             (None, 96)                73824     \n",
      "                                                                 \n",
      " dense_4 (Dense)             (None, 12)                1164      \n",
      "                                                                 \n",
      " dense_5 (Dense)             (None, 1)                 13        \n",
      "                                                                 \n",
      "=================================================================\n",
      "Total params: 1,846,777\n",
      "Trainable params: 1,846,777\n",
      "Non-trainable params: 0\n",
      "_________________________________________________________________\n"
     ]
    }
   ],
   "source": [
    "K.clear_session()\n",
    "gigant = keras.Sequential(\n",
    "    [\n",
    "        keras.Input(shape=(12, 8, 8)),\n",
    "        layers.Flatten(),\n",
    "        layers.Dense(12*8*8, activation=\"relu\"),\n",
    "        layers.Dense(12*8*8, activation=\"relu\"),\n",
    "        layers.Dense(12*8*8, activation=\"relu\"),\n",
    "        layers.Dense(12*8, activation=\"relu\"),\n",
    "        layers.Dense(12, activation=\"relu\"),\n",
    "        layers.Dense(1, activation=\"tanh\")\n",
    "    ]\n",
    ")\n",
    "gigant.summary()"
   ],
   "metadata": {
    "collapsed": false
   }
  },
  {
   "cell_type": "markdown",
   "source": [
    "### Funkcja straty\n",
    "Jako że większość sytuacji na szachownicy zazwyczaj daje w miare równe szanse obu graczom to bardziej zależy nam na dobrej ewaluacji sytuacjii w których wartość jest bliska zeru. MSE niestety te wartości marginalizuje w stosunku do danych o większych wartościach dlatego spróbujemy zastosować MAE jako metryke lossu"
   ],
   "metadata": {
    "collapsed": false
   }
  },
  {
   "cell_type": "code",
   "execution_count": 13,
   "outputs": [],
   "source": [
    "gigant.compile(\n",
    "    loss=\"mae\",\n",
    "    optimizer=\"adam\",\n",
    "    metrics=[\"mse\", \"mae\"],\n",
    ")"
   ],
   "metadata": {
    "collapsed": false
   }
  },
  {
   "cell_type": "code",
   "execution_count": 15,
   "outputs": [
    {
     "name": "stdout",
     "output_type": "stream",
     "text": [
      "Epoch 1/30\n",
      "6402/6402 [==============================] - 43s 6ms/step - loss: 0.1612 - mse: 0.0730 - mae: 0.1612 - val_loss: 0.1389 - val_mse: 0.0614 - val_mae: 0.1389\n",
      "Epoch 2/30\n",
      "6402/6402 [==============================] - 39s 6ms/step - loss: 0.1302 - mse: 0.0584 - mae: 0.1302 - val_loss: 0.1276 - val_mse: 0.0569 - val_mae: 0.1276\n",
      "Epoch 3/30\n",
      "6402/6402 [==============================] - 39s 6ms/step - loss: 0.1195 - mse: 0.0538 - mae: 0.1195 - val_loss: 0.1235 - val_mse: 0.0555 - val_mae: 0.1235\n",
      "Epoch 4/30\n",
      "6402/6402 [==============================] - 40s 6ms/step - loss: 0.1125 - mse: 0.0507 - mae: 0.1125 - val_loss: 0.1202 - val_mse: 0.0542 - val_mae: 0.1202\n",
      "Epoch 5/30\n",
      "6402/6402 [==============================] - 40s 6ms/step - loss: 0.1072 - mse: 0.0482 - mae: 0.1072 - val_loss: 0.1179 - val_mse: 0.0535 - val_mae: 0.1179\n",
      "Epoch 6/30\n",
      "6402/6402 [==============================] - 40s 6ms/step - loss: 0.1028 - mse: 0.0462 - mae: 0.1028 - val_loss: 0.1164 - val_mse: 0.0529 - val_mae: 0.1164\n",
      "Epoch 7/30\n",
      "6402/6402 [==============================] - 39s 6ms/step - loss: 0.0992 - mse: 0.0444 - mae: 0.0992 - val_loss: 0.1171 - val_mse: 0.0525 - val_mae: 0.1171\n",
      "Epoch 8/30\n",
      "6402/6402 [==============================] - 39s 6ms/step - loss: 0.0962 - mse: 0.0427 - mae: 0.0962 - val_loss: 0.1150 - val_mse: 0.0521 - val_mae: 0.1150\n",
      "Epoch 9/30\n",
      "6402/6402 [==============================] - 40s 6ms/step - loss: 0.0934 - mse: 0.0412 - mae: 0.0934 - val_loss: 0.1168 - val_mse: 0.0523 - val_mae: 0.1168\n",
      "Epoch 10/30\n",
      "6402/6402 [==============================] - 40s 6ms/step - loss: 0.0908 - mse: 0.0399 - mae: 0.0908 - val_loss: 0.1146 - val_mse: 0.0521 - val_mae: 0.1146\n",
      "Epoch 11/30\n",
      "6402/6402 [==============================] - 39s 6ms/step - loss: 0.0885 - mse: 0.0386 - mae: 0.0885 - val_loss: 0.1152 - val_mse: 0.0518 - val_mae: 0.1152\n",
      "Epoch 12/30\n",
      "6402/6402 [==============================] - 40s 6ms/step - loss: 0.0865 - mse: 0.0374 - mae: 0.0865 - val_loss: 0.1148 - val_mse: 0.0528 - val_mae: 0.1148\n",
      "Epoch 13/30\n",
      "6402/6402 [==============================] - 40s 6ms/step - loss: 0.0847 - mse: 0.0364 - mae: 0.0847 - val_loss: 0.1136 - val_mse: 0.0521 - val_mae: 0.1136\n",
      "Epoch 14/30\n",
      "6402/6402 [==============================] - 41s 6ms/step - loss: 0.0829 - mse: 0.0353 - mae: 0.0829 - val_loss: 0.1145 - val_mse: 0.0524 - val_mae: 0.1145\n",
      "Epoch 15/30\n",
      "6402/6402 [==============================] - 40s 6ms/step - loss: 0.0811 - mse: 0.0344 - mae: 0.0811 - val_loss: 0.1150 - val_mse: 0.0532 - val_mae: 0.1150\n",
      "Epoch 16/30\n",
      "6402/6402 [==============================] - 40s 6ms/step - loss: 0.0796 - mse: 0.0336 - mae: 0.0796 - val_loss: 0.1137 - val_mse: 0.0519 - val_mae: 0.1137\n",
      "Epoch 17/30\n",
      "6402/6402 [==============================] - 40s 6ms/step - loss: 0.0783 - mse: 0.0328 - mae: 0.0783 - val_loss: 0.1142 - val_mse: 0.0529 - val_mae: 0.1142\n",
      "Epoch 18/30\n",
      "6402/6402 [==============================] - 39s 6ms/step - loss: 0.0768 - mse: 0.0321 - mae: 0.0768 - val_loss: 0.1141 - val_mse: 0.0518 - val_mae: 0.1141\n",
      "Epoch 19/30\n",
      "6402/6402 [==============================] - 41s 6ms/step - loss: 0.0756 - mse: 0.0315 - mae: 0.0756 - val_loss: 0.1141 - val_mse: 0.0524 - val_mae: 0.1141\n",
      "Epoch 20/30\n",
      "6402/6402 [==============================] - 41s 6ms/step - loss: 0.0744 - mse: 0.0307 - mae: 0.0744 - val_loss: 0.1136 - val_mse: 0.0522 - val_mae: 0.1136\n",
      "Epoch 21/30\n",
      "6402/6402 [==============================] - 40s 6ms/step - loss: 0.0731 - mse: 0.0301 - mae: 0.0731 - val_loss: 0.1148 - val_mse: 0.0529 - val_mae: 0.1148\n",
      "Epoch 22/30\n",
      "6402/6402 [==============================] - 40s 6ms/step - loss: 0.0722 - mse: 0.0296 - mae: 0.0722 - val_loss: 0.1146 - val_mse: 0.0536 - val_mae: 0.1146\n",
      "Epoch 23/30\n",
      "6402/6402 [==============================] - 40s 6ms/step - loss: 0.0712 - mse: 0.0291 - mae: 0.0712 - val_loss: 0.1148 - val_mse: 0.0530 - val_mae: 0.1148\n",
      "Epoch 24/30\n",
      "6402/6402 [==============================] - 40s 6ms/step - loss: 0.0703 - mse: 0.0287 - mae: 0.0703 - val_loss: 0.1150 - val_mse: 0.0525 - val_mae: 0.1150\n",
      "Epoch 25/30\n",
      "6402/6402 [==============================] - 40s 6ms/step - loss: 0.0693 - mse: 0.0282 - mae: 0.0693 - val_loss: 0.1144 - val_mse: 0.0532 - val_mae: 0.1144\n",
      "Epoch 26/30\n",
      "6402/6402 [==============================] - 40s 6ms/step - loss: 0.0685 - mse: 0.0277 - mae: 0.0685 - val_loss: 0.1143 - val_mse: 0.0535 - val_mae: 0.1143\n",
      "Epoch 27/30\n",
      "6402/6402 [==============================] - 40s 6ms/step - loss: 0.0677 - mse: 0.0274 - mae: 0.0677 - val_loss: 0.1143 - val_mse: 0.0529 - val_mae: 0.1143\n",
      "Epoch 28/30\n",
      "6402/6402 [==============================] - 41s 6ms/step - loss: 0.0670 - mse: 0.0270 - mae: 0.0670 - val_loss: 0.1147 - val_mse: 0.0536 - val_mae: 0.1147\n",
      "Epoch 29/30\n",
      "6402/6402 [==============================] - 40s 6ms/step - loss: 0.0661 - mse: 0.0267 - mae: 0.0661 - val_loss: 0.1149 - val_mse: 0.0537 - val_mae: 0.1149\n",
      "Epoch 30/30\n",
      "6402/6402 [==============================] - 40s 6ms/step - loss: 0.0652 - mse: 0.0262 - mae: 0.0652 - val_loss: 0.1148 - val_mse: 0.0532 - val_mae: 0.1148\n"
     ]
    }
   ],
   "source": [
    "history_gigant = gigant.fit(X_train, y_train, batch_size=128, epochs=30, validation_data=(X_val, y_val))"
   ],
   "metadata": {
    "collapsed": false
   }
  },
  {
   "cell_type": "code",
   "execution_count": 18,
   "outputs": [
    {
     "data": {
      "text/plain": "<Figure size 640x480 with 2 Axes>",
      "image/png": "[encoded data removed]"
     },
     "metadata": {},
     "output_type": "display_data"
    }
   ],
   "source": [
    "plot_training(history_gigant)"
   ],
   "metadata": {
    "collapsed": false
   }
  },
  {
   "cell_type": "markdown",
   "source": [
    "Minimalnym MAE osiągniętym na zbiorze walidacyjnym było 11.36 co daje w przeliczeniu mniej więcej jeden pionek błedu. (0.11 * 900 = 100)"
   ],
   "metadata": {
    "collapsed": false
   }
  },
  {
   "cell_type": "markdown",
   "source": [
    "### Mniejszy model"
   ],
   "metadata": {
    "collapsed": false
   }
  },
  {
   "cell_type": "code",
   "execution_count": 5,
   "outputs": [
    {
     "name": "stdout",
     "output_type": "stream",
     "text": [
      "Model: \"sequential\"\n",
      "_________________________________________________________________\n",
      " Layer (type)                Output Shape              Param #   \n",
      "=================================================================\n",
      " flatten (Flatten)           (None, 768)               0         \n",
      "                                                                 \n",
      " dense (Dense)               (None, 96)                73824     \n",
      "                                                                 \n",
      " dense_1 (Dense)             (None, 12)                1164      \n",
      "                                                                 \n",
      " dense_2 (Dense)             (None, 1)                 13        \n",
      "                                                                 \n",
      "=================================================================\n",
      "Total params: 75,001\n",
      "Trainable params: 75,001\n",
      "Non-trainable params: 0\n",
      "_________________________________________________________________\n"
     ]
    }
   ],
   "source": [
    "K.clear_session()\n",
    "maluszek = keras.Sequential(\n",
    "    [\n",
    "        keras.Input(shape=(12, 8, 8)),\n",
    "        layers.Flatten(),\n",
    "        layers.Dense(12*8, activation=\"relu\"),\n",
    "        layers.Dense(12, activation=\"relu\"),\n",
    "        layers.Dense(1, activation=\"tanh\")\n",
    "    ]\n",
    ")\n",
    "maluszek.summary()"
   ],
   "metadata": {
    "collapsed": false
   }
  },
  {
   "cell_type": "code",
   "execution_count": 6,
   "outputs": [],
   "source": [
    "maluszek.compile(\n",
    "    loss=\"mae\",\n",
    "    optimizer=\"adam\",\n",
    "    metrics=[\"mse\", \"mae\"],\n",
    ")"
   ],
   "metadata": {
    "collapsed": false
   }
  },
  {
   "cell_type": "code",
   "execution_count": 7,
   "outputs": [
    {
     "name": "stdout",
     "output_type": "stream",
     "text": [
      "Epoch 1/30\n",
      "6402/6402 [==============================] - 34s 5ms/step - loss: 0.1696 - mse: 0.0761 - mae: 0.1696 - val_loss: 0.1490 - val_mse: 0.0655 - val_mae: 0.1490\n",
      "Epoch 2/30\n",
      "6402/6402 [==============================] - 31s 5ms/step - loss: 0.1442 - mse: 0.0633 - mae: 0.1442 - val_loss: 0.1414 - val_mse: 0.0610 - val_mae: 0.1414\n",
      "Epoch 3/30\n",
      "6402/6402 [==============================] - 31s 5ms/step - loss: 0.1369 - mse: 0.0603 - mae: 0.1369 - val_loss: 0.1369 - val_mse: 0.0597 - val_mae: 0.1369\n",
      "Epoch 4/30\n",
      "6402/6402 [==============================] - 31s 5ms/step - loss: 0.1321 - mse: 0.0583 - mae: 0.1321 - val_loss: 0.1347 - val_mse: 0.0593 - val_mae: 0.1347\n",
      "Epoch 5/30\n",
      "6402/6402 [==============================] - 31s 5ms/step - loss: 0.1288 - mse: 0.0570 - mae: 0.1288 - val_loss: 0.1331 - val_mse: 0.0590 - val_mae: 0.1331\n",
      "Epoch 6/30\n",
      "6402/6402 [==============================] - 31s 5ms/step - loss: 0.1266 - mse: 0.0561 - mae: 0.1266 - val_loss: 0.1313 - val_mse: 0.0582 - val_mae: 0.1313\n",
      "Epoch 7/30\n",
      "6402/6402 [==============================] - 31s 5ms/step - loss: 0.1248 - mse: 0.0554 - mae: 0.1248 - val_loss: 0.1313 - val_mse: 0.0581 - val_mae: 0.1313\n",
      "Epoch 8/30\n",
      "6402/6402 [==============================] - 31s 5ms/step - loss: 0.1233 - mse: 0.0548 - mae: 0.1233 - val_loss: 0.1300 - val_mse: 0.0578 - val_mae: 0.1300\n",
      "Epoch 9/30\n",
      "6402/6402 [==============================] - 31s 5ms/step - loss: 0.1221 - mse: 0.0543 - mae: 0.1221 - val_loss: 0.1304 - val_mse: 0.0577 - val_mae: 0.1304\n",
      "Epoch 10/30\n",
      "6402/6402 [==============================] - 31s 5ms/step - loss: 0.1211 - mse: 0.0539 - mae: 0.1211 - val_loss: 0.1286 - val_mse: 0.0568 - val_mae: 0.1286\n",
      "Epoch 11/30\n",
      "6402/6402 [==============================] - 32s 5ms/step - loss: 0.1202 - mse: 0.0535 - mae: 0.1202 - val_loss: 0.1277 - val_mse: 0.0562 - val_mae: 0.1277\n",
      "Epoch 12/30\n",
      "6402/6402 [==============================] - 31s 5ms/step - loss: 0.1195 - mse: 0.0532 - mae: 0.1195 - val_loss: 0.1280 - val_mse: 0.0570 - val_mae: 0.1280\n",
      "Epoch 13/30\n",
      "6402/6402 [==============================] - 30s 5ms/step - loss: 0.1187 - mse: 0.0529 - mae: 0.1187 - val_loss: 0.1281 - val_mse: 0.0566 - val_mae: 0.1281\n",
      "Epoch 14/30\n",
      "6402/6402 [==============================] - 31s 5ms/step - loss: 0.1181 - mse: 0.0527 - mae: 0.1181 - val_loss: 0.1271 - val_mse: 0.0564 - val_mae: 0.1271\n",
      "Epoch 15/30\n",
      "6402/6402 [==============================] - 32s 5ms/step - loss: 0.1175 - mse: 0.0525 - mae: 0.1175 - val_loss: 0.1275 - val_mse: 0.0565 - val_mae: 0.1275\n",
      "Epoch 16/30\n",
      "6402/6402 [==============================] - 33s 5ms/step - loss: 0.1171 - mse: 0.0523 - mae: 0.1171 - val_loss: 0.1272 - val_mse: 0.0567 - val_mae: 0.1272\n",
      "Epoch 17/30\n",
      "6402/6402 [==============================] - 32s 5ms/step - loss: 0.1165 - mse: 0.0521 - mae: 0.1165 - val_loss: 0.1269 - val_mse: 0.0559 - val_mae: 0.1269\n",
      "Epoch 18/30\n",
      "6402/6402 [==============================] - 33s 5ms/step - loss: 0.1161 - mse: 0.0519 - mae: 0.1161 - val_loss: 0.1262 - val_mse: 0.0559 - val_mae: 0.1262\n",
      "Epoch 19/30\n",
      "6402/6402 [==============================] - 31s 5ms/step - loss: 0.1157 - mse: 0.0517 - mae: 0.1157 - val_loss: 0.1262 - val_mse: 0.0563 - val_mae: 0.1262\n",
      "Epoch 20/30\n",
      "6402/6402 [==============================] - 33s 5ms/step - loss: 0.1154 - mse: 0.0516 - mae: 0.1154 - val_loss: 0.1263 - val_mse: 0.0563 - val_mae: 0.1263\n",
      "Epoch 21/30\n",
      "6402/6402 [==============================] - 33s 5ms/step - loss: 0.1150 - mse: 0.0514 - mae: 0.1150 - val_loss: 0.1262 - val_mse: 0.0564 - val_mae: 0.1262\n",
      "Epoch 22/30\n",
      "6402/6402 [==============================] - 33s 5ms/step - loss: 0.1148 - mse: 0.0513 - mae: 0.1148 - val_loss: 0.1260 - val_mse: 0.0560 - val_mae: 0.1260\n",
      "Epoch 23/30\n",
      "6402/6402 [==============================] - 33s 5ms/step - loss: 0.1144 - mse: 0.0512 - mae: 0.1144 - val_loss: 0.1266 - val_mse: 0.0564 - val_mae: 0.1266\n",
      "Epoch 24/30\n",
      "6402/6402 [==============================] - 33s 5ms/step - loss: 0.1142 - mse: 0.0511 - mae: 0.1142 - val_loss: 0.1262 - val_mse: 0.0558 - val_mae: 0.1262\n",
      "Epoch 25/30\n",
      "6402/6402 [==============================] - 33s 5ms/step - loss: 0.1139 - mse: 0.0510 - mae: 0.1139 - val_loss: 0.1258 - val_mse: 0.0560 - val_mae: 0.1258\n",
      "Epoch 26/30\n",
      "6402/6402 [==============================] - 33s 5ms/step - loss: 0.1136 - mse: 0.0509 - mae: 0.1136 - val_loss: 0.1262 - val_mse: 0.0563 - val_mae: 0.1262\n",
      "Epoch 27/30\n",
      "6402/6402 [==============================] - 32s 5ms/step - loss: 0.1135 - mse: 0.0508 - mae: 0.1135 - val_loss: 0.1255 - val_mse: 0.0559 - val_mae: 0.1255\n",
      "Epoch 28/30\n",
      "6402/6402 [==============================] - 33s 5ms/step - loss: 0.1132 - mse: 0.0507 - mae: 0.1132 - val_loss: 0.1262 - val_mse: 0.0558 - val_mae: 0.1262\n",
      "Epoch 29/30\n",
      "6402/6402 [==============================] - 33s 5ms/step - loss: 0.1130 - mse: 0.0506 - mae: 0.1130 - val_loss: 0.1270 - val_mse: 0.0570 - val_mae: 0.1270\n",
      "Epoch 30/30\n",
      "6402/6402 [==============================] - 33s 5ms/step - loss: 0.1128 - mse: 0.0505 - mae: 0.1128 - val_loss: 0.1256 - val_mse: 0.0558 - val_mae: 0.1256\n"
     ]
    }
   ],
   "source": [
    "history_maluszek = maluszek.fit(X_train, y_train, batch_size=128, epochs=30, validation_data=(X_val, y_val))"
   ],
   "metadata": {
    "collapsed": false
   }
  },
  {
   "cell_type": "markdown",
   "source": [],
   "metadata": {
    "collapsed": false
   }
  },
  {
   "cell_type": "code",
   "execution_count": 10,
   "outputs": [
    {
     "data": {
      "text/plain": "<Figure size 640x480 with 2 Axes>",
      "image/png": "[encoded data removed]"
     },
     "metadata": {},
     "output_type": "display_data"
    }
   ],
   "source": [
    "plot_training(history_maluszek)"
   ],
   "metadata": {
    "collapsed": false
   }
  },
  {
   "cell_type": "markdown",
   "source": [
    "Wartości walidacyjne rozjeżdzają się lekko mniej lecz kosztem większego błedu, spróbójmy kolejną architekture"
   ],
   "metadata": {
    "collapsed": false
   }
  },
  {
   "cell_type": "markdown",
   "source": [
    "### Średni model"
   ],
   "metadata": {
    "collapsed": false
   }
  },
  {
   "cell_type": "code",
   "execution_count": 11,
   "outputs": [
    {
     "name": "stdout",
     "output_type": "stream",
     "text": [
      "Model: \"sequential\"\n",
      "_________________________________________________________________\n",
      " Layer (type)                Output Shape              Param #   \n",
      "=================================================================\n",
      " flatten (Flatten)           (None, 768)               0         \n",
      "                                                                 \n",
      " dense (Dense)               (None, 768)               590592    \n",
      "                                                                 \n",
      " dense_1 (Dense)             (None, 768)               590592    \n",
      "                                                                 \n",
      " dense_2 (Dense)             (None, 96)                73824     \n",
      "                                                                 \n",
      " dense_3 (Dense)             (None, 12)                1164      \n",
      "                                                                 \n",
      " dense_4 (Dense)             (None, 1)                 13        \n",
      "                                                                 \n",
      "=================================================================\n",
      "Total params: 1,256,185\n",
      "Trainable params: 1,256,185\n",
      "Non-trainable params: 0\n",
      "_________________________________________________________________\n"
     ]
    }
   ],
   "source": [
    "K.clear_session()\n",
    "sredniak = keras.Sequential(\n",
    "    [\n",
    "        keras.Input(shape=(12, 8, 8)),\n",
    "        layers.Flatten(),\n",
    "        layers.Dense(12*8*8, activation=\"relu\"),\n",
    "        layers.Dense(12*8*8, activation=\"relu\"),\n",
    "        layers.Dense(12*8, activation=\"relu\"),\n",
    "        layers.Dense(12, activation=\"relu\"),\n",
    "        layers.Dense(1, activation=\"tanh\")\n",
    "    ]\n",
    ")\n",
    "sredniak.summary()"
   ],
   "metadata": {
    "collapsed": false
   }
  },
  {
   "cell_type": "code",
   "execution_count": 13,
   "outputs": [],
   "source": [
    "sredniak.compile(\n",
    "    loss=\"mae\",\n",
    "    optimizer=\"adam\",\n",
    "    metrics=[\"mse\", \"mae\"],\n",
    ")"
   ],
   "metadata": {
    "collapsed": false
   }
  },
  {
   "cell_type": "code",
   "execution_count": 14,
   "outputs": [
    {
     "name": "stdout",
     "output_type": "stream",
     "text": [
      "Epoch 1/30\n",
      "6402/6402 [==============================] - 38s 6ms/step - loss: 0.1669 - mse: 0.0765 - mae: 0.1669 - val_loss: 0.1388 - val_mse: 0.0613 - val_mae: 0.1388\n",
      "Epoch 2/30\n",
      "6402/6402 [==============================] - 38s 6ms/step - loss: 0.1301 - mse: 0.0580 - mae: 0.1301 - val_loss: 0.1371 - val_mse: 0.0596 - val_mae: 0.1371\n",
      "Epoch 3/30\n",
      "6402/6402 [==============================] - 37s 6ms/step - loss: 0.1194 - mse: 0.0535 - mae: 0.1194 - val_loss: 0.1236 - val_mse: 0.0552 - val_mae: 0.1236\n",
      "Epoch 4/30\n",
      "6402/6402 [==============================] - 36s 6ms/step - loss: 0.1122 - mse: 0.0503 - mae: 0.1122 - val_loss: 0.1206 - val_mse: 0.0537 - val_mae: 0.1206\n",
      "Epoch 5/30\n",
      "6402/6402 [==============================] - 37s 6ms/step - loss: 0.1068 - mse: 0.0479 - mae: 0.1068 - val_loss: 0.1185 - val_mse: 0.0535 - val_mae: 0.1185\n",
      "Epoch 6/30\n",
      "6402/6402 [==============================] - 36s 6ms/step - loss: 0.1025 - mse: 0.0458 - mae: 0.1025 - val_loss: 0.1162 - val_mse: 0.0524 - val_mae: 0.1162\n",
      "Epoch 7/30\n",
      "6402/6402 [==============================] - 38s 6ms/step - loss: 0.0989 - mse: 0.0440 - mae: 0.0989 - val_loss: 0.1165 - val_mse: 0.0523 - val_mae: 0.1165\n",
      "Epoch 8/30\n",
      "6402/6402 [==============================] - 36s 6ms/step - loss: 0.0957 - mse: 0.0424 - mae: 0.0957 - val_loss: 0.1160 - val_mse: 0.0523 - val_mae: 0.1160\n",
      "Epoch 9/30\n",
      "6402/6402 [==============================] - 36s 6ms/step - loss: 0.0929 - mse: 0.0409 - mae: 0.0929 - val_loss: 0.1154 - val_mse: 0.0522 - val_mae: 0.1154\n",
      "Epoch 10/30\n",
      "6402/6402 [==============================] - 36s 6ms/step - loss: 0.0904 - mse: 0.0395 - mae: 0.0904 - val_loss: 0.1155 - val_mse: 0.0518 - val_mae: 0.1155\n",
      "Epoch 11/30\n",
      "6402/6402 [==============================] - 36s 6ms/step - loss: 0.0882 - mse: 0.0382 - mae: 0.0882 - val_loss: 0.1145 - val_mse: 0.0520 - val_mae: 0.1145\n",
      "Epoch 12/30\n",
      "6402/6402 [==============================] - 37s 6ms/step - loss: 0.0860 - mse: 0.0369 - mae: 0.0860 - val_loss: 0.1147 - val_mse: 0.0525 - val_mae: 0.1147\n",
      "Epoch 13/30\n",
      "6402/6402 [==============================] - 37s 6ms/step - loss: 0.0842 - mse: 0.0359 - mae: 0.0842 - val_loss: 0.1149 - val_mse: 0.0527 - val_mae: 0.1149\n",
      "Epoch 14/30\n",
      "6402/6402 [==============================] - 36s 6ms/step - loss: 0.0825 - mse: 0.0349 - mae: 0.0825 - val_loss: 0.1146 - val_mse: 0.0523 - val_mae: 0.1146\n",
      "Epoch 15/30\n",
      "6402/6402 [==============================] - 36s 6ms/step - loss: 0.0808 - mse: 0.0340 - mae: 0.0808 - val_loss: 0.1143 - val_mse: 0.0525 - val_mae: 0.1143\n",
      "Epoch 16/30\n",
      "6402/6402 [==============================] - 37s 6ms/step - loss: 0.0794 - mse: 0.0332 - mae: 0.0794 - val_loss: 0.1147 - val_mse: 0.0529 - val_mae: 0.1147\n",
      "Epoch 17/30\n",
      "6402/6402 [==============================] - 36s 6ms/step - loss: 0.0780 - mse: 0.0325 - mae: 0.0780 - val_loss: 0.1139 - val_mse: 0.0523 - val_mae: 0.1139\n",
      "Epoch 18/30\n",
      "6402/6402 [==============================] - 36s 6ms/step - loss: 0.0766 - mse: 0.0317 - mae: 0.0766 - val_loss: 0.1143 - val_mse: 0.0523 - val_mae: 0.1143\n",
      "Epoch 19/30\n",
      "6402/6402 [==============================] - 36s 6ms/step - loss: 0.0753 - mse: 0.0310 - mae: 0.0753 - val_loss: 0.1143 - val_mse: 0.0528 - val_mae: 0.1143\n",
      "Epoch 20/30\n",
      "6402/6402 [==============================] - 37s 6ms/step - loss: 0.0743 - mse: 0.0304 - mae: 0.0743 - val_loss: 0.1149 - val_mse: 0.0527 - val_mae: 0.1149\n",
      "Epoch 21/30\n",
      "6402/6402 [==============================] - 36s 6ms/step - loss: 0.0732 - mse: 0.0298 - mae: 0.0732 - val_loss: 0.1145 - val_mse: 0.0530 - val_mae: 0.1145\n",
      "Epoch 22/30\n",
      "6402/6402 [==============================] - 36s 6ms/step - loss: 0.0721 - mse: 0.0293 - mae: 0.0721 - val_loss: 0.1155 - val_mse: 0.0529 - val_mae: 0.1155\n",
      "Epoch 23/30\n",
      "6402/6402 [==============================] - 36s 6ms/step - loss: 0.0712 - mse: 0.0289 - mae: 0.0712 - val_loss: 0.1148 - val_mse: 0.0533 - val_mae: 0.1148\n",
      "Epoch 24/30\n",
      "6402/6402 [==============================] - 36s 6ms/step - loss: 0.0701 - mse: 0.0283 - mae: 0.0701 - val_loss: 0.1142 - val_mse: 0.0525 - val_mae: 0.1142\n",
      "Epoch 25/30\n",
      "6402/6402 [==============================] - 36s 6ms/step - loss: 0.0693 - mse: 0.0278 - mae: 0.0693 - val_loss: 0.1152 - val_mse: 0.0534 - val_mae: 0.1152\n",
      "Epoch 26/30\n",
      "6402/6402 [==============================] - 37s 6ms/step - loss: 0.0686 - mse: 0.0275 - mae: 0.0686 - val_loss: 0.1146 - val_mse: 0.0527 - val_mae: 0.1146\n",
      "Epoch 27/30\n",
      "6402/6402 [==============================] - 37s 6ms/step - loss: 0.0676 - mse: 0.0270 - mae: 0.0676 - val_loss: 0.1158 - val_mse: 0.0537 - val_mae: 0.1158\n",
      "Epoch 28/30\n",
      "6402/6402 [==============================] - 36s 6ms/step - loss: 0.0670 - mse: 0.0266 - mae: 0.0670 - val_loss: 0.1152 - val_mse: 0.0535 - val_mae: 0.1152\n",
      "Epoch 29/30\n",
      "6402/6402 [==============================] - 36s 6ms/step - loss: 0.0661 - mse: 0.0261 - mae: 0.0661 - val_loss: 0.1160 - val_mse: 0.0535 - val_mae: 0.1160\n",
      "Epoch 30/30\n",
      "6402/6402 [==============================] - 36s 6ms/step - loss: 0.0654 - mse: 0.0258 - mae: 0.0654 - val_loss: 0.1148 - val_mse: 0.0530 - val_mae: 0.1148\n"
     ]
    }
   ],
   "source": [
    "history_sredniak = sredniak.fit(X_train, y_train, batch_size=128, epochs=30, validation_data=(X_val, y_val))"
   ],
   "metadata": {
    "collapsed": false
   }
  },
  {
   "cell_type": "code",
   "execution_count": 15,
   "outputs": [
    {
     "data": {
      "text/plain": "<Figure size 640x480 with 2 Axes>",
      "image/png": "[encoded data removed]"
     },
     "metadata": {},
     "output_type": "display_data"
    }
   ],
   "source": [
    "plot_training(history_sredniak)"
   ],
   "metadata": {
    "collapsed": false
   }
  },
  {
   "cell_type": "code",
   "execution_count": 6,
   "outputs": [
    {
     "name": "stdout",
     "output_type": "stream",
     "text": [
      "Model: \"sequential\"\n",
      "_________________________________________________________________\n",
      " Layer (type)                Output Shape              Param #   \n",
      "=================================================================\n",
      " flatten (Flatten)           (None, 768)               0         \n",
      "                                                                 \n",
      " dense (Dense)               (None, 768)               590592    \n",
      "                                                                 \n",
      " dense_1 (Dense)             (None, 96)                73824     \n",
      "                                                                 \n",
      " dense_2 (Dense)             (None, 12)                1164      \n",
      "                                                                 \n",
      " dense_3 (Dense)             (None, 1)                 13        \n",
      "                                                                 \n",
      "=================================================================\n",
      "Total params: 665,593\n",
      "Trainable params: 665,593\n",
      "Non-trainable params: 0\n",
      "_________________________________________________________________\n"
     ]
    }
   ],
   "source": [
    "K.clear_session()\n",
    "mniejszy_sredniak = keras.Sequential(\n",
    "    [\n",
    "        keras.Input(shape=(12, 8, 8)),\n",
    "        layers.Flatten(),\n",
    "        layers.Dense(12*8*8, activation=\"relu\"),\n",
    "        layers.Dense(12*8, activation=\"relu\"),\n",
    "        layers.Dense(12, activation=\"relu\"),\n",
    "        layers.Dense(1, activation=\"tanh\")\n",
    "    ]\n",
    ")\n",
    "mniejszy_sredniak.summary()"
   ],
   "metadata": {
    "collapsed": false
   }
  },
  {
   "cell_type": "code",
   "execution_count": 9,
   "outputs": [],
   "source": [
    "mniejszy_sredniak.compile(\n",
    "    loss=\"mae\",\n",
    "    optimizer=\"adam\",\n",
    "    metrics=[\"mse\", \"mae\"],\n",
    ")"
   ],
   "metadata": {
    "collapsed": false
   }
  },
  {
   "cell_type": "code",
   "execution_count": 10,
   "outputs": [
    {
     "name": "stdout",
     "output_type": "stream",
     "text": [
      "Epoch 1/30\n",
      "6402/6402 [==============================] - 38s 5ms/step - loss: 0.1620 - mse: 0.0727 - mae: 0.1620 - val_loss: 0.1390 - val_mse: 0.0612 - val_mae: 0.1390\n",
      "Epoch 2/30\n",
      "6402/6402 [==============================] - 34s 5ms/step - loss: 0.1315 - mse: 0.0584 - mae: 0.1315 - val_loss: 0.1300 - val_mse: 0.0575 - val_mae: 0.1300\n",
      "Epoch 3/30\n",
      "6402/6402 [==============================] - 34s 5ms/step - loss: 0.1208 - mse: 0.0539 - mae: 0.1208 - val_loss: 0.1250 - val_mse: 0.0552 - val_mae: 0.1250\n",
      "Epoch 4/30\n",
      "6402/6402 [==============================] - 34s 5ms/step - loss: 0.1140 - mse: 0.0509 - mae: 0.1140 - val_loss: 0.1213 - val_mse: 0.0545 - val_mae: 0.1213\n",
      "Epoch 5/30\n",
      "6402/6402 [==============================] - 34s 5ms/step - loss: 0.1087 - mse: 0.0485 - mae: 0.1087 - val_loss: 0.1191 - val_mse: 0.0534 - val_mae: 0.1191\n",
      "Epoch 6/30\n",
      "6402/6402 [==============================] - 35s 5ms/step - loss: 0.1046 - mse: 0.0466 - mae: 0.1046 - val_loss: 0.1181 - val_mse: 0.0526 - val_mae: 0.1181\n",
      "Epoch 7/30\n",
      "6402/6402 [==============================] - 35s 5ms/step - loss: 0.1011 - mse: 0.0449 - mae: 0.1011 - val_loss: 0.1172 - val_mse: 0.0527 - val_mae: 0.1172\n",
      "Epoch 8/30\n",
      "6402/6402 [==============================] - 33s 5ms/step - loss: 0.0980 - mse: 0.0434 - mae: 0.0980 - val_loss: 0.1171 - val_mse: 0.0527 - val_mae: 0.1171\n",
      "Epoch 9/30\n",
      "6402/6402 [==============================] - 33s 5ms/step - loss: 0.0955 - mse: 0.0421 - mae: 0.0955 - val_loss: 0.1178 - val_mse: 0.0526 - val_mae: 0.1178\n",
      "Epoch 10/30\n",
      "6402/6402 [==============================] - 33s 5ms/step - loss: 0.0932 - mse: 0.0408 - mae: 0.0932 - val_loss: 0.1163 - val_mse: 0.0524 - val_mae: 0.1163\n",
      "Epoch 11/30\n",
      "6402/6402 [==============================] - 33s 5ms/step - loss: 0.0911 - mse: 0.0395 - mae: 0.0911 - val_loss: 0.1168 - val_mse: 0.0524 - val_mae: 0.1168\n",
      "Epoch 12/30\n",
      "6402/6402 [==============================] - 33s 5ms/step - loss: 0.0892 - mse: 0.0383 - mae: 0.0892 - val_loss: 0.1160 - val_mse: 0.0520 - val_mae: 0.1160\n",
      "Epoch 13/30\n",
      "6402/6402 [==============================] - 33s 5ms/step - loss: 0.0872 - mse: 0.0371 - mae: 0.0872 - val_loss: 0.1164 - val_mse: 0.0525 - val_mae: 0.1164\n",
      "Epoch 14/30\n",
      "6402/6402 [==============================] - 33s 5ms/step - loss: 0.0856 - mse: 0.0361 - mae: 0.0856 - val_loss: 0.1175 - val_mse: 0.0528 - val_mae: 0.1175\n",
      "Epoch 15/30\n",
      "6402/6402 [==============================] - 33s 5ms/step - loss: 0.0841 - mse: 0.0352 - mae: 0.0841 - val_loss: 0.1168 - val_mse: 0.0525 - val_mae: 0.1168\n",
      "Epoch 16/30\n",
      "6402/6402 [==============================] - 34s 5ms/step - loss: 0.0827 - mse: 0.0344 - mae: 0.0827 - val_loss: 0.1154 - val_mse: 0.0519 - val_mae: 0.1154\n",
      "Epoch 17/30\n",
      "6402/6402 [==============================] - 33s 5ms/step - loss: 0.0814 - mse: 0.0337 - mae: 0.0814 - val_loss: 0.1157 - val_mse: 0.0521 - val_mae: 0.1157\n",
      "Epoch 18/30\n",
      "6402/6402 [==============================] - 33s 5ms/step - loss: 0.0803 - mse: 0.0331 - mae: 0.0803 - val_loss: 0.1168 - val_mse: 0.0530 - val_mae: 0.1168\n",
      "Epoch 19/30\n",
      "6402/6402 [==============================] - 33s 5ms/step - loss: 0.0791 - mse: 0.0325 - mae: 0.0791 - val_loss: 0.1162 - val_mse: 0.0520 - val_mae: 0.1162\n",
      "Epoch 20/30\n",
      "6402/6402 [==============================] - 34s 5ms/step - loss: 0.0781 - mse: 0.0319 - mae: 0.0781 - val_loss: 0.1158 - val_mse: 0.0525 - val_mae: 0.1158\n",
      "Epoch 21/30\n",
      "6402/6402 [==============================] - 33s 5ms/step - loss: 0.0772 - mse: 0.0315 - mae: 0.0772 - val_loss: 0.1159 - val_mse: 0.0526 - val_mae: 0.1159\n",
      "Epoch 22/30\n",
      "6402/6402 [==============================] - 32s 5ms/step - loss: 0.0761 - mse: 0.0309 - mae: 0.0761 - val_loss: 0.1163 - val_mse: 0.0526 - val_mae: 0.1163\n",
      "Epoch 23/30\n",
      "6402/6402 [==============================] - 34s 5ms/step - loss: 0.0753 - mse: 0.0304 - mae: 0.0753 - val_loss: 0.1168 - val_mse: 0.0530 - val_mae: 0.1168\n",
      "Epoch 24/30\n",
      "6402/6402 [==============================] - 33s 5ms/step - loss: 0.0744 - mse: 0.0300 - mae: 0.0744 - val_loss: 0.1166 - val_mse: 0.0525 - val_mae: 0.1166\n",
      "Epoch 25/30\n",
      "6402/6402 [==============================] - 34s 5ms/step - loss: 0.0736 - mse: 0.0296 - mae: 0.0736 - val_loss: 0.1165 - val_mse: 0.0523 - val_mae: 0.1165\n",
      "Epoch 26/30\n",
      "6402/6402 [==============================] - 34s 5ms/step - loss: 0.0730 - mse: 0.0293 - mae: 0.0730 - val_loss: 0.1164 - val_mse: 0.0527 - val_mae: 0.1164\n",
      "Epoch 27/30\n",
      "6402/6402 [==============================] - 35s 5ms/step - loss: 0.0722 - mse: 0.0289 - mae: 0.0722 - val_loss: 0.1164 - val_mse: 0.0526 - val_mae: 0.1164\n",
      "Epoch 28/30\n",
      "6402/6402 [==============================] - 34s 5ms/step - loss: 0.0716 - mse: 0.0286 - mae: 0.0716 - val_loss: 0.1167 - val_mse: 0.0525 - val_mae: 0.1167\n",
      "Epoch 29/30\n",
      "6402/6402 [==============================] - 34s 5ms/step - loss: 0.0709 - mse: 0.0283 - mae: 0.0709 - val_loss: 0.1167 - val_mse: 0.0525 - val_mae: 0.1167\n",
      "Epoch 30/30\n",
      "6402/6402 [==============================] - 34s 5ms/step - loss: 0.0703 - mse: 0.0280 - mae: 0.0703 - val_loss: 0.1166 - val_mse: 0.0530 - val_mae: 0.1166\n"
     ]
    }
   ],
   "source": [
    "history_mniejszy_sredniak = mniejszy_sredniak.fit(X_train, y_train, batch_size=128, epochs=30, validation_data=(X_val, y_val))"
   ],
   "metadata": {
    "collapsed": false
   }
  },
  {
   "cell_type": "markdown",
   "source": [
    "### Zmiana funkcji aktywacyjnej\n",
    "Na najlepszej architekturze (najwiekszej mimo duzego overfitu), sprobujemy innej aktywacji. Wydaje mi się że funkcja aktywacji która osiąga wartośći poniżej zera"
   ],
   "metadata": {
    "collapsed": false
   }
  },
  {
   "cell_type": "code",
   "execution_count": 5,
   "outputs": [
    {
     "name": "stdout",
     "output_type": "stream",
     "text": [
      "Model: \"sequential\"\n",
      "_________________________________________________________________\n",
      " Layer (type)                Output Shape              Param #   \n",
      "=================================================================\n",
      " flatten (Flatten)           (None, 768)               0         \n",
      "                                                                 \n",
      " dense (Dense)               (None, 768)               590592    \n",
      "                                                                 \n",
      " dense_1 (Dense)             (None, 768)               590592    \n",
      "                                                                 \n",
      " dense_2 (Dense)             (None, 768)               590592    \n",
      "                                                                 \n",
      " dense_3 (Dense)             (None, 96)                73824     \n",
      "                                                                 \n",
      " dense_4 (Dense)             (None, 12)                1164      \n",
      "                                                                 \n",
      " dense_5 (Dense)             (None, 1)                 13        \n",
      "                                                                 \n",
      "=================================================================\n",
      "Total params: 1,846,777\n",
      "Trainable params: 1,846,777\n",
      "Non-trainable params: 0\n",
      "_________________________________________________________________\n"
     ]
    }
   ],
   "source": [
    "K.clear_session()\n",
    "gigant_negatywne = keras.Sequential(\n",
    "    [\n",
    "        keras.Input(shape=(12, 8, 8)),\n",
    "        layers.Flatten(),\n",
    "        layers.Dense(12*8*8, activation=\"tanh\"),\n",
    "        layers.Dense(12*8*8, activation=\"tanh\"),\n",
    "        layers.Dense(12*8*8, activation=\"tanh\"),\n",
    "        layers.Dense(12*8, activation=\"tanh\"),\n",
    "        layers.Dense(12, activation=\"tanh\"),\n",
    "        layers.Dense(1, activation=\"tanh\")\n",
    "    ]\n",
    ")\n",
    "gigant_negatywne.summary()"
   ],
   "metadata": {
    "collapsed": false
   }
  },
  {
   "cell_type": "code",
   "execution_count": 6,
   "outputs": [],
   "source": [
    "gigant_negatywne.compile(\n",
    "    loss=\"mae\",\n",
    "    optimizer=\"adam\",\n",
    "    metrics=[\"mse\", \"mae\"],\n",
    ")"
   ],
   "metadata": {
    "collapsed": false
   }
  },
  {
   "cell_type": "code",
   "execution_count": 7,
   "outputs": [
    {
     "name": "stdout",
     "output_type": "stream",
     "text": [
      "Epoch 1/120\n",
      "6402/6402 [==============================] - 43s 6ms/step - loss: 0.1826 - mse: 0.0843 - mae: 0.1826 - val_loss: 0.1652 - val_mse: 0.0732 - val_mae: 0.1652\n",
      "Epoch 2/120\n",
      "6402/6402 [==============================] - 39s 6ms/step - loss: 0.1588 - mse: 0.0714 - mae: 0.1588 - val_loss: 0.1595 - val_mse: 0.0701 - val_mae: 0.1595\n",
      "Epoch 3/120\n",
      "6402/6402 [==============================] - 39s 6ms/step - loss: 0.1484 - mse: 0.0670 - mae: 0.1484 - val_loss: 0.1442 - val_mse: 0.0648 - val_mae: 0.1442\n",
      "Epoch 4/120\n",
      "6402/6402 [==============================] - 39s 6ms/step - loss: 0.1419 - mse: 0.0642 - mae: 0.1419 - val_loss: 0.1407 - val_mse: 0.0621 - val_mae: 0.1407\n",
      "Epoch 5/120\n",
      "6402/6402 [==============================] - 40s 6ms/step - loss: 0.1373 - mse: 0.0622 - mae: 0.1373 - val_loss: 0.1368 - val_mse: 0.0609 - val_mae: 0.1368\n",
      "Epoch 6/120\n",
      "6402/6402 [==============================] - 40s 6ms/step - loss: 0.1342 - mse: 0.0608 - mae: 0.1342 - val_loss: 0.1334 - val_mse: 0.0602 - val_mae: 0.1334\n",
      "Epoch 7/120\n",
      "6402/6402 [==============================] - 40s 6ms/step - loss: 0.1321 - mse: 0.0598 - mae: 0.1321 - val_loss: 0.1365 - val_mse: 0.0606 - val_mae: 0.1365\n",
      "Epoch 8/120\n",
      "6402/6402 [==============================] - 40s 6ms/step - loss: 0.1298 - mse: 0.0589 - mae: 0.1298 - val_loss: 0.1315 - val_mse: 0.0602 - val_mae: 0.1315\n",
      "Epoch 9/120\n",
      "6402/6402 [==============================] - 39s 6ms/step - loss: 0.1284 - mse: 0.0582 - mae: 0.1284 - val_loss: 0.1305 - val_mse: 0.0585 - val_mae: 0.1305\n",
      "Epoch 10/120\n",
      "6402/6402 [==============================] - 40s 6ms/step - loss: 0.1270 - mse: 0.0575 - mae: 0.1270 - val_loss: 0.1311 - val_mse: 0.0591 - val_mae: 0.1311\n",
      "Epoch 11/120\n",
      "6402/6402 [==============================] - 39s 6ms/step - loss: 0.1258 - mse: 0.0571 - mae: 0.1258 - val_loss: 0.1296 - val_mse: 0.0577 - val_mae: 0.1296\n",
      "Epoch 12/120\n",
      "6402/6402 [==============================] - 40s 6ms/step - loss: 0.1248 - mse: 0.0566 - mae: 0.1248 - val_loss: 0.1286 - val_mse: 0.0577 - val_mae: 0.1286\n",
      "Epoch 13/120\n",
      "6402/6402 [==============================] - 40s 6ms/step - loss: 0.1238 - mse: 0.0562 - mae: 0.1238 - val_loss: 0.1277 - val_mse: 0.0577 - val_mae: 0.1277\n",
      "Epoch 14/120\n",
      "6402/6402 [==============================] - 40s 6ms/step - loss: 0.1229 - mse: 0.0557 - mae: 0.1229 - val_loss: 0.1269 - val_mse: 0.0570 - val_mae: 0.1269\n",
      "Epoch 15/120\n",
      "6402/6402 [==============================] - 40s 6ms/step - loss: 0.1219 - mse: 0.0553 - mae: 0.1219 - val_loss: 0.1259 - val_mse: 0.0571 - val_mae: 0.1259\n",
      "Epoch 16/120\n",
      "6402/6402 [==============================] - 40s 6ms/step - loss: 0.1212 - mse: 0.0550 - mae: 0.1212 - val_loss: 0.1269 - val_mse: 0.0572 - val_mae: 0.1269\n",
      "Epoch 17/120\n",
      "6402/6402 [==============================] - 40s 6ms/step - loss: 0.1207 - mse: 0.0547 - mae: 0.1207 - val_loss: 0.1273 - val_mse: 0.0566 - val_mae: 0.1273\n",
      "Epoch 18/120\n",
      "6402/6402 [==============================] - 39s 6ms/step - loss: 0.1200 - mse: 0.0544 - mae: 0.1200 - val_loss: 0.1261 - val_mse: 0.0569 - val_mae: 0.1261\n",
      "Epoch 19/120\n",
      "6402/6402 [==============================] - 39s 6ms/step - loss: 0.1194 - mse: 0.0540 - mae: 0.1194 - val_loss: 0.1269 - val_mse: 0.0574 - val_mae: 0.1269\n",
      "Epoch 20/120\n",
      "6402/6402 [==============================] - 40s 6ms/step - loss: 0.1188 - mse: 0.0537 - mae: 0.1188 - val_loss: 0.1262 - val_mse: 0.0568 - val_mae: 0.1262\n",
      "Epoch 21/120\n",
      "6402/6402 [==============================] - 40s 6ms/step - loss: 0.1182 - mse: 0.0535 - mae: 0.1182 - val_loss: 0.1258 - val_mse: 0.0567 - val_mae: 0.1258\n",
      "Epoch 22/120\n",
      "6402/6402 [==============================] - 39s 6ms/step - loss: 0.1176 - mse: 0.0532 - mae: 0.1176 - val_loss: 0.1247 - val_mse: 0.0566 - val_mae: 0.1247\n",
      "Epoch 23/120\n",
      "6402/6402 [==============================] - 40s 6ms/step - loss: 0.1170 - mse: 0.0529 - mae: 0.1170 - val_loss: 0.1265 - val_mse: 0.0570 - val_mae: 0.1265\n",
      "Epoch 24/120\n",
      "6402/6402 [==============================] - 40s 6ms/step - loss: 0.1166 - mse: 0.0527 - mae: 0.1166 - val_loss: 0.1250 - val_mse: 0.0558 - val_mae: 0.1250\n",
      "Epoch 25/120\n",
      "6402/6402 [==============================] - 40s 6ms/step - loss: 0.1159 - mse: 0.0524 - mae: 0.1159 - val_loss: 0.1248 - val_mse: 0.0562 - val_mae: 0.1248\n",
      "Epoch 26/120\n",
      "6402/6402 [==============================] - 39s 6ms/step - loss: 0.1156 - mse: 0.0523 - mae: 0.1156 - val_loss: 0.1243 - val_mse: 0.0564 - val_mae: 0.1243\n",
      "Epoch 27/120\n",
      "6402/6402 [==============================] - 40s 6ms/step - loss: 0.1152 - mse: 0.0520 - mae: 0.1152 - val_loss: 0.1255 - val_mse: 0.0567 - val_mae: 0.1255\n",
      "Epoch 28/120\n",
      "6402/6402 [==============================] - 40s 6ms/step - loss: 0.1147 - mse: 0.0518 - mae: 0.1147 - val_loss: 0.1242 - val_mse: 0.0558 - val_mae: 0.1242\n",
      "Epoch 29/120\n",
      "6402/6402 [==============================] - 40s 6ms/step - loss: 0.1140 - mse: 0.0514 - mae: 0.1140 - val_loss: 0.1244 - val_mse: 0.0558 - val_mae: 0.1244\n",
      "Epoch 30/120\n",
      "6402/6402 [==============================] - 39s 6ms/step - loss: 0.1137 - mse: 0.0512 - mae: 0.1137 - val_loss: 0.1237 - val_mse: 0.0554 - val_mae: 0.1237\n",
      "Epoch 31/120\n",
      "6402/6402 [==============================] - 40s 6ms/step - loss: 0.1134 - mse: 0.0511 - mae: 0.1134 - val_loss: 0.1240 - val_mse: 0.0557 - val_mae: 0.1240\n",
      "Epoch 32/120\n",
      "6402/6402 [==============================] - 39s 6ms/step - loss: 0.1129 - mse: 0.0508 - mae: 0.1129 - val_loss: 0.1239 - val_mse: 0.0561 - val_mae: 0.1239\n",
      "Epoch 33/120\n",
      "6402/6402 [==============================] - 39s 6ms/step - loss: 0.1126 - mse: 0.0507 - mae: 0.1126 - val_loss: 0.1243 - val_mse: 0.0557 - val_mae: 0.1243\n",
      "Epoch 34/120\n",
      "6402/6402 [==============================] - 38s 6ms/step - loss: 0.1122 - mse: 0.0505 - mae: 0.1122 - val_loss: 0.1234 - val_mse: 0.0557 - val_mae: 0.1234\n",
      "Epoch 35/120\n",
      "6402/6402 [==============================] - 39s 6ms/step - loss: 0.1119 - mse: 0.0504 - mae: 0.1119 - val_loss: 0.1239 - val_mse: 0.0559 - val_mae: 0.1239\n",
      "Epoch 36/120\n",
      "6402/6402 [==============================] - 39s 6ms/step - loss: 0.1115 - mse: 0.0502 - mae: 0.1115 - val_loss: 0.1244 - val_mse: 0.0558 - val_mae: 0.1244\n",
      "Epoch 37/120\n",
      "6402/6402 [==============================] - 40s 6ms/step - loss: 0.1113 - mse: 0.0501 - mae: 0.1113 - val_loss: 0.1232 - val_mse: 0.0556 - val_mae: 0.1232\n",
      "Epoch 38/120\n",
      "6402/6402 [==============================] - 39s 6ms/step - loss: 0.1109 - mse: 0.0499 - mae: 0.1109 - val_loss: 0.1241 - val_mse: 0.0558 - val_mae: 0.1241\n",
      "Epoch 39/120\n",
      "6402/6402 [==============================] - 39s 6ms/step - loss: 0.1108 - mse: 0.0498 - mae: 0.1108 - val_loss: 0.1241 - val_mse: 0.0560 - val_mae: 0.1241\n",
      "Epoch 40/120\n",
      "6402/6402 [==============================] - 40s 6ms/step - loss: 0.1104 - mse: 0.0496 - mae: 0.1104 - val_loss: 0.1236 - val_mse: 0.0551 - val_mae: 0.1236\n",
      "Epoch 41/120\n",
      "6402/6402 [==============================] - 39s 6ms/step - loss: 0.1100 - mse: 0.0494 - mae: 0.1100 - val_loss: 0.1240 - val_mse: 0.0553 - val_mae: 0.1240\n",
      "Epoch 42/120\n",
      "6402/6402 [==============================] - 39s 6ms/step - loss: 0.1099 - mse: 0.0493 - mae: 0.1099 - val_loss: 0.1235 - val_mse: 0.0558 - val_mae: 0.1235\n",
      "Epoch 43/120\n",
      "6402/6402 [==============================] - 39s 6ms/step - loss: 0.1097 - mse: 0.0492 - mae: 0.1097 - val_loss: 0.1238 - val_mse: 0.0554 - val_mae: 0.1238\n",
      "Epoch 44/120\n",
      "6402/6402 [==============================] - 40s 6ms/step - loss: 0.1093 - mse: 0.0490 - mae: 0.1093 - val_loss: 0.1239 - val_mse: 0.0553 - val_mae: 0.1239\n",
      "Epoch 45/120\n",
      "6402/6402 [==============================] - 39s 6ms/step - loss: 0.1091 - mse: 0.0489 - mae: 0.1091 - val_loss: 0.1232 - val_mse: 0.0554 - val_mae: 0.1232\n",
      "Epoch 46/120\n",
      "6402/6402 [==============================] - 39s 6ms/step - loss: 0.1086 - mse: 0.0487 - mae: 0.1086 - val_loss: 0.1247 - val_mse: 0.0560 - val_mae: 0.1247\n",
      "Epoch 47/120\n",
      "6402/6402 [==============================] - 39s 6ms/step - loss: 0.1084 - mse: 0.0486 - mae: 0.1084 - val_loss: 0.1234 - val_mse: 0.0554 - val_mae: 0.1234\n",
      "Epoch 48/120\n",
      "6402/6402 [==============================] - 40s 6ms/step - loss: 0.1081 - mse: 0.0485 - mae: 0.1081 - val_loss: 0.1234 - val_mse: 0.0557 - val_mae: 0.1234\n",
      "Epoch 49/120\n",
      "6402/6402 [==============================] - 40s 6ms/step - loss: 0.1078 - mse: 0.0483 - mae: 0.1078 - val_loss: 0.1237 - val_mse: 0.0554 - val_mae: 0.1237\n",
      "Epoch 50/120\n",
      "6402/6402 [==============================] - 39s 6ms/step - loss: 0.1074 - mse: 0.0481 - mae: 0.1074 - val_loss: 0.1227 - val_mse: 0.0555 - val_mae: 0.1227\n",
      "Epoch 51/120\n",
      "6402/6402 [==============================] - 40s 6ms/step - loss: 0.1073 - mse: 0.0480 - mae: 0.1073 - val_loss: 0.1233 - val_mse: 0.0555 - val_mae: 0.1233\n",
      "Epoch 52/120\n",
      "6402/6402 [==============================] - 40s 6ms/step - loss: 0.1073 - mse: 0.0480 - mae: 0.1073 - val_loss: 0.1238 - val_mse: 0.0559 - val_mae: 0.1238\n",
      "Epoch 53/120\n",
      "6402/6402 [==============================] - 40s 6ms/step - loss: 0.1070 - mse: 0.0478 - mae: 0.1070 - val_loss: 0.1246 - val_mse: 0.0558 - val_mae: 0.1246\n",
      "Epoch 54/120\n",
      "6402/6402 [==============================] - 40s 6ms/step - loss: 0.1070 - mse: 0.0478 - mae: 0.1070 - val_loss: 0.1234 - val_mse: 0.0555 - val_mae: 0.1234\n",
      "Epoch 55/120\n",
      "6402/6402 [==============================] - 41s 6ms/step - loss: 0.1068 - mse: 0.0477 - mae: 0.1068 - val_loss: 0.1238 - val_mse: 0.0557 - val_mae: 0.1238\n",
      "Epoch 56/120\n",
      "6402/6402 [==============================] - 40s 6ms/step - loss: 0.1066 - mse: 0.0476 - mae: 0.1066 - val_loss: 0.1241 - val_mse: 0.0563 - val_mae: 0.1241\n",
      "Epoch 57/120\n",
      "6402/6402 [==============================] - 40s 6ms/step - loss: 0.1064 - mse: 0.0476 - mae: 0.1064 - val_loss: 0.1245 - val_mse: 0.0559 - val_mae: 0.1245\n",
      "Epoch 58/120\n",
      "6402/6402 [==============================] - 41s 6ms/step - loss: 0.1063 - mse: 0.0474 - mae: 0.1063 - val_loss: 0.1234 - val_mse: 0.0557 - val_mae: 0.1234\n",
      "Epoch 59/120\n",
      "6402/6402 [==============================] - 41s 6ms/step - loss: 0.1063 - mse: 0.0474 - mae: 0.1063 - val_loss: 0.1246 - val_mse: 0.0560 - val_mae: 0.1246\n",
      "Epoch 60/120\n",
      "6402/6402 [==============================] - 41s 6ms/step - loss: 0.1061 - mse: 0.0473 - mae: 0.1061 - val_loss: 0.1239 - val_mse: 0.0556 - val_mae: 0.1239\n",
      "Epoch 61/120\n",
      "6402/6402 [==============================] - 40s 6ms/step - loss: 0.1058 - mse: 0.0472 - mae: 0.1058 - val_loss: 0.1244 - val_mse: 0.0562 - val_mae: 0.1244\n",
      "Epoch 62/120\n",
      "6402/6402 [==============================] - 41s 6ms/step - loss: 0.1057 - mse: 0.0471 - mae: 0.1057 - val_loss: 0.1234 - val_mse: 0.0557 - val_mae: 0.1234\n",
      "Epoch 63/120\n",
      "6402/6402 [==============================] - 40s 6ms/step - loss: 0.1055 - mse: 0.0470 - mae: 0.1055 - val_loss: 0.1234 - val_mse: 0.0555 - val_mae: 0.1234\n",
      "Epoch 64/120\n",
      "6402/6402 [==============================] - 41s 6ms/step - loss: 0.1053 - mse: 0.0469 - mae: 0.1053 - val_loss: 0.1234 - val_mse: 0.0552 - val_mae: 0.1234\n",
      "Epoch 65/120\n",
      "6402/6402 [==============================] - 40s 6ms/step - loss: 0.1053 - mse: 0.0469 - mae: 0.1053 - val_loss: 0.1244 - val_mse: 0.0555 - val_mae: 0.1244\n",
      "Epoch 66/120\n",
      "6402/6402 [==============================] - 40s 6ms/step - loss: 0.1050 - mse: 0.0467 - mae: 0.1050 - val_loss: 0.1241 - val_mse: 0.0558 - val_mae: 0.1241\n",
      "Epoch 67/120\n",
      "6402/6402 [==============================] - 40s 6ms/step - loss: 0.1052 - mse: 0.0467 - mae: 0.1052 - val_loss: 0.1234 - val_mse: 0.0553 - val_mae: 0.1234\n",
      "Epoch 68/120\n",
      "6402/6402 [==============================] - 39s 6ms/step - loss: 0.1052 - mse: 0.0468 - mae: 0.1052 - val_loss: 0.1235 - val_mse: 0.0561 - val_mae: 0.1235\n",
      "Epoch 69/120\n",
      "6402/6402 [==============================] - 40s 6ms/step - loss: 0.1049 - mse: 0.0466 - mae: 0.1049 - val_loss: 0.1235 - val_mse: 0.0553 - val_mae: 0.1235\n",
      "Epoch 70/120\n",
      "6402/6402 [==============================] - 40s 6ms/step - loss: 0.1048 - mse: 0.0466 - mae: 0.1048 - val_loss: 0.1237 - val_mse: 0.0558 - val_mae: 0.1237\n",
      "Epoch 71/120\n",
      "6402/6402 [==============================] - 40s 6ms/step - loss: 0.1049 - mse: 0.0465 - mae: 0.1049 - val_loss: 0.1240 - val_mse: 0.0558 - val_mae: 0.1240\n",
      "Epoch 72/120\n",
      "6402/6402 [==============================] - 41s 6ms/step - loss: 0.1046 - mse: 0.0464 - mae: 0.1046 - val_loss: 0.1247 - val_mse: 0.0561 - val_mae: 0.1247\n",
      "Epoch 73/120\n",
      "6402/6402 [==============================] - 40s 6ms/step - loss: 0.1044 - mse: 0.0464 - mae: 0.1044 - val_loss: 0.1245 - val_mse: 0.0562 - val_mae: 0.1245\n",
      "Epoch 74/120\n",
      "6402/6402 [==============================] - 41s 6ms/step - loss: 0.1043 - mse: 0.0463 - mae: 0.1043 - val_loss: 0.1237 - val_mse: 0.0555 - val_mae: 0.1237\n",
      "Epoch 75/120\n",
      "6402/6402 [==============================] - 41s 6ms/step - loss: 0.1042 - mse: 0.0461 - mae: 0.1042 - val_loss: 0.1241 - val_mse: 0.0560 - val_mae: 0.1241\n",
      "Epoch 76/120\n",
      "6402/6402 [==============================] - 41s 6ms/step - loss: 0.1041 - mse: 0.0461 - mae: 0.1041 - val_loss: 0.1242 - val_mse: 0.0558 - val_mae: 0.1242\n",
      "Epoch 77/120\n",
      "6402/6402 [==============================] - 41s 6ms/step - loss: 0.1038 - mse: 0.0460 - mae: 0.1038 - val_loss: 0.1245 - val_mse: 0.0562 - val_mae: 0.1245\n",
      "Epoch 78/120\n",
      "6402/6402 [==============================] - 40s 6ms/step - loss: 0.1037 - mse: 0.0460 - mae: 0.1037 - val_loss: 0.1250 - val_mse: 0.0557 - val_mae: 0.1250\n",
      "Epoch 79/120\n",
      "6402/6402 [==============================] - 40s 6ms/step - loss: 0.1037 - mse: 0.0459 - mae: 0.1037 - val_loss: 0.1238 - val_mse: 0.0560 - val_mae: 0.1238\n",
      "Epoch 80/120\n",
      "6402/6402 [==============================] - 39s 6ms/step - loss: 0.1035 - mse: 0.0459 - mae: 0.1035 - val_loss: 0.1243 - val_mse: 0.0560 - val_mae: 0.1243\n",
      "Epoch 81/120\n",
      "6402/6402 [==============================] - 40s 6ms/step - loss: 0.1036 - mse: 0.0458 - mae: 0.1036 - val_loss: 0.1236 - val_mse: 0.0557 - val_mae: 0.1236\n",
      "Epoch 82/120\n",
      "6402/6402 [==============================] - 40s 6ms/step - loss: 0.1036 - mse: 0.0459 - mae: 0.1036 - val_loss: 0.1241 - val_mse: 0.0562 - val_mae: 0.1241\n",
      "Epoch 83/120\n",
      "6402/6402 [==============================] - 40s 6ms/step - loss: 0.1034 - mse: 0.0457 - mae: 0.1034 - val_loss: 0.1252 - val_mse: 0.0558 - val_mae: 0.1252\n",
      "Epoch 84/120\n",
      "6402/6402 [==============================] - 40s 6ms/step - loss: 0.1031 - mse: 0.0456 - mae: 0.1031 - val_loss: 0.1248 - val_mse: 0.0562 - val_mae: 0.1248\n",
      "Epoch 85/120\n",
      "6402/6402 [==============================] - 40s 6ms/step - loss: 0.1030 - mse: 0.0456 - mae: 0.1030 - val_loss: 0.1246 - val_mse: 0.0557 - val_mae: 0.1246\n",
      "Epoch 86/120\n",
      "6402/6402 [==============================] - 40s 6ms/step - loss: 0.1029 - mse: 0.0455 - mae: 0.1029 - val_loss: 0.1253 - val_mse: 0.0560 - val_mae: 0.1253\n",
      "Epoch 87/120\n",
      "6402/6402 [==============================] - 40s 6ms/step - loss: 0.1026 - mse: 0.0454 - mae: 0.1026 - val_loss: 0.1246 - val_mse: 0.0559 - val_mae: 0.1246\n",
      "Epoch 88/120\n",
      "6402/6402 [==============================] - 40s 6ms/step - loss: 0.1027 - mse: 0.0454 - mae: 0.1027 - val_loss: 0.1252 - val_mse: 0.0561 - val_mae: 0.1252\n",
      "Epoch 89/120\n",
      "6402/6402 [==============================] - 40s 6ms/step - loss: 0.1025 - mse: 0.0453 - mae: 0.1025 - val_loss: 0.1246 - val_mse: 0.0561 - val_mae: 0.1246\n",
      "Epoch 90/120\n",
      "6402/6402 [==============================] - 40s 6ms/step - loss: 0.1025 - mse: 0.0453 - mae: 0.1025 - val_loss: 0.1246 - val_mse: 0.0563 - val_mae: 0.1246\n",
      "Epoch 91/120\n",
      "6402/6402 [==============================] - 40s 6ms/step - loss: 0.1021 - mse: 0.0451 - mae: 0.1021 - val_loss: 0.1239 - val_mse: 0.0553 - val_mae: 0.1239\n",
      "Epoch 92/120\n",
      "6402/6402 [==============================] - 40s 6ms/step - loss: 0.1020 - mse: 0.0450 - mae: 0.1020 - val_loss: 0.1255 - val_mse: 0.0560 - val_mae: 0.1255\n",
      "Epoch 93/120\n",
      "6402/6402 [==============================] - 40s 6ms/step - loss: 0.1020 - mse: 0.0450 - mae: 0.1020 - val_loss: 0.1244 - val_mse: 0.0557 - val_mae: 0.1244\n",
      "Epoch 94/120\n",
      "6402/6402 [==============================] - 40s 6ms/step - loss: 0.1019 - mse: 0.0450 - mae: 0.1019 - val_loss: 0.1245 - val_mse: 0.0563 - val_mae: 0.1245\n",
      "Epoch 95/120\n",
      "6402/6402 [==============================] - 39s 6ms/step - loss: 0.1019 - mse: 0.0450 - mae: 0.1019 - val_loss: 0.1245 - val_mse: 0.0558 - val_mae: 0.1245\n",
      "Epoch 96/120\n",
      "6402/6402 [==============================] - 39s 6ms/step - loss: 0.1016 - mse: 0.0449 - mae: 0.1016 - val_loss: 0.1244 - val_mse: 0.0560 - val_mae: 0.1244\n",
      "Epoch 97/120\n",
      "6402/6402 [==============================] - 41s 6ms/step - loss: 0.1018 - mse: 0.0449 - mae: 0.1018 - val_loss: 0.1243 - val_mse: 0.0557 - val_mae: 0.1243\n",
      "Epoch 98/120\n",
      "6402/6402 [==============================] - 40s 6ms/step - loss: 0.1015 - mse: 0.0448 - mae: 0.1015 - val_loss: 0.1249 - val_mse: 0.0560 - val_mae: 0.1249\n",
      "Epoch 99/120\n",
      "6402/6402 [==============================] - 40s 6ms/step - loss: 0.1016 - mse: 0.0448 - mae: 0.1016 - val_loss: 0.1243 - val_mse: 0.0560 - val_mae: 0.1243\n",
      "Epoch 100/120\n",
      "6402/6402 [==============================] - 40s 6ms/step - loss: 0.1016 - mse: 0.0447 - mae: 0.1016 - val_loss: 0.1252 - val_mse: 0.0563 - val_mae: 0.1252\n",
      "Epoch 101/120\n",
      "6402/6402 [==============================] - 40s 6ms/step - loss: 0.1012 - mse: 0.0446 - mae: 0.1012 - val_loss: 0.1249 - val_mse: 0.0560 - val_mae: 0.1249\n",
      "Epoch 102/120\n",
      "6402/6402 [==============================] - 40s 6ms/step - loss: 0.1015 - mse: 0.0447 - mae: 0.1015 - val_loss: 0.1249 - val_mse: 0.0561 - val_mae: 0.1249\n",
      "Epoch 103/120\n",
      "6402/6402 [==============================] - 39s 6ms/step - loss: 0.1014 - mse: 0.0446 - mae: 0.1014 - val_loss: 0.1254 - val_mse: 0.0563 - val_mae: 0.1254\n",
      "Epoch 104/120\n",
      "6402/6402 [==============================] - 39s 6ms/step - loss: 0.1014 - mse: 0.0446 - mae: 0.1014 - val_loss: 0.1253 - val_mse: 0.0565 - val_mae: 0.1253\n",
      "Epoch 105/120\n",
      "6402/6402 [==============================] - 40s 6ms/step - loss: 0.1015 - mse: 0.0446 - mae: 0.1015 - val_loss: 0.1243 - val_mse: 0.0559 - val_mae: 0.1243\n",
      "Epoch 106/120\n",
      "6402/6402 [==============================] - 39s 6ms/step - loss: 0.1013 - mse: 0.0445 - mae: 0.1013 - val_loss: 0.1250 - val_mse: 0.0561 - val_mae: 0.1250\n",
      "Epoch 107/120\n",
      "6402/6402 [==============================] - 40s 6ms/step - loss: 0.1012 - mse: 0.0445 - mae: 0.1012 - val_loss: 0.1253 - val_mse: 0.0561 - val_mae: 0.1253\n",
      "Epoch 108/120\n",
      "6402/6402 [==============================] - 40s 6ms/step - loss: 0.1014 - mse: 0.0445 - mae: 0.1014 - val_loss: 0.1248 - val_mse: 0.0557 - val_mae: 0.1248\n",
      "Epoch 109/120\n",
      "6402/6402 [==============================] - 40s 6ms/step - loss: 0.1012 - mse: 0.0444 - mae: 0.1012 - val_loss: 0.1255 - val_mse: 0.0562 - val_mae: 0.1255\n",
      "Epoch 110/120\n",
      "6402/6402 [==============================] - 40s 6ms/step - loss: 0.1011 - mse: 0.0444 - mae: 0.1011 - val_loss: 0.1260 - val_mse: 0.0565 - val_mae: 0.1260\n",
      "Epoch 111/120\n",
      "6402/6402 [==============================] - 39s 6ms/step - loss: 0.1010 - mse: 0.0443 - mae: 0.1010 - val_loss: 0.1253 - val_mse: 0.0563 - val_mae: 0.1253\n",
      "Epoch 112/120\n",
      "6402/6402 [==============================] - 39s 6ms/step - loss: 0.1010 - mse: 0.0443 - mae: 0.1010 - val_loss: 0.1258 - val_mse: 0.0565 - val_mae: 0.1258\n",
      "Epoch 113/120\n",
      "6402/6402 [==============================] - 39s 6ms/step - loss: 0.1010 - mse: 0.0443 - mae: 0.1010 - val_loss: 0.1255 - val_mse: 0.0566 - val_mae: 0.1255\n",
      "Epoch 114/120\n",
      "6402/6402 [==============================] - 40s 6ms/step - loss: 0.1010 - mse: 0.0443 - mae: 0.1010 - val_loss: 0.1252 - val_mse: 0.0563 - val_mae: 0.1252\n",
      "Epoch 115/120\n",
      "6402/6402 [==============================] - 40s 6ms/step - loss: 0.1009 - mse: 0.0442 - mae: 0.1009 - val_loss: 0.1256 - val_mse: 0.0566 - val_mae: 0.1256\n",
      "Epoch 116/120\n",
      "6402/6402 [==============================] - 40s 6ms/step - loss: 0.1010 - mse: 0.0442 - mae: 0.1010 - val_loss: 0.1255 - val_mse: 0.0564 - val_mae: 0.1255\n",
      "Epoch 117/120\n",
      "6402/6402 [==============================] - 40s 6ms/step - loss: 0.1009 - mse: 0.0442 - mae: 0.1009 - val_loss: 0.1254 - val_mse: 0.0561 - val_mae: 0.1254\n",
      "Epoch 118/120\n",
      "6402/6402 [==============================] - 40s 6ms/step - loss: 0.1009 - mse: 0.0443 - mae: 0.1009 - val_loss: 0.1260 - val_mse: 0.0565 - val_mae: 0.1260\n",
      "Epoch 119/120\n",
      "6402/6402 [==============================] - 40s 6ms/step - loss: 0.1009 - mse: 0.0442 - mae: 0.1009 - val_loss: 0.1255 - val_mse: 0.0560 - val_mae: 0.1255\n",
      "Epoch 120/120\n",
      "6402/6402 [==============================] - 40s 6ms/step - loss: 0.1007 - mse: 0.0441 - mae: 0.1007 - val_loss: 0.1252 - val_mse: 0.0561 - val_mae: 0.1252\n"
     ]
    }
   ],
   "source": [
    "history_gigant_negatywne = gigant_negatywne.fit(X_train, y_train, batch_size=128, epochs=120, validation_data=(X_val, y_val))"
   ],
   "metadata": {
    "collapsed": false
   }
  },
  {
   "cell_type": "markdown",
   "source": [
    "Jako że jest to aktywacja o mniejszych gradientach to potrenujemy troche dluzej"
   ],
   "metadata": {
    "collapsed": false
   }
  },
  {
   "cell_type": "code",
   "execution_count": 8,
   "outputs": [],
   "source": [
    "gigant_negatywne.save(\"biggest_negative.h5\")"
   ],
   "metadata": {
    "collapsed": false
   }
  },
  {
   "cell_type": "code",
   "execution_count": 9,
   "outputs": [
    {
     "name": "stdout",
     "output_type": "stream",
     "text": [
      "Epoch 1/120\n",
      "6402/6402 [==============================] - 49s 8ms/step - loss: 0.1005 - mse: 0.0440 - mae: 0.1005 - val_loss: 0.1259 - val_mse: 0.0565 - val_mae: 0.1259\n",
      "Epoch 2/120\n",
      "6402/6402 [==============================] - 40s 6ms/step - loss: 0.1004 - mse: 0.0440 - mae: 0.1004 - val_loss: 0.1253 - val_mse: 0.0566 - val_mae: 0.1253\n",
      "Epoch 3/120\n",
      "6402/6402 [==============================] - 41s 6ms/step - loss: 0.1006 - mse: 0.0440 - mae: 0.1006 - val_loss: 0.1257 - val_mse: 0.0565 - val_mae: 0.1257\n",
      "Epoch 4/120\n",
      "6402/6402 [==============================] - 41s 6ms/step - loss: 0.1003 - mse: 0.0439 - mae: 0.1003 - val_loss: 0.1258 - val_mse: 0.0566 - val_mae: 0.1258\n",
      "Epoch 5/120\n",
      "6402/6402 [==============================] - 41s 6ms/step - loss: 0.1004 - mse: 0.0439 - mae: 0.1004 - val_loss: 0.1259 - val_mse: 0.0566 - val_mae: 0.1259\n",
      "Epoch 6/120\n",
      "6402/6402 [==============================] - 41s 6ms/step - loss: 0.1003 - mse: 0.0438 - mae: 0.1003 - val_loss: 0.1255 - val_mse: 0.0564 - val_mae: 0.1255\n",
      "Epoch 7/120\n",
      "6402/6402 [==============================] - 39s 6ms/step - loss: 0.1003 - mse: 0.0438 - mae: 0.1003 - val_loss: 0.1258 - val_mse: 0.0562 - val_mae: 0.1258\n",
      "Epoch 8/120\n",
      "6402/6402 [==============================] - 39s 6ms/step - loss: 0.1002 - mse: 0.0438 - mae: 0.1002 - val_loss: 0.1255 - val_mse: 0.0567 - val_mae: 0.1255\n",
      "Epoch 9/120\n",
      "6402/6402 [==============================] - 41s 6ms/step - loss: 0.1000 - mse: 0.0437 - mae: 0.1000 - val_loss: 0.1260 - val_mse: 0.0564 - val_mae: 0.1260\n",
      "Epoch 10/120\n",
      "6402/6402 [==============================] - 40s 6ms/step - loss: 0.1001 - mse: 0.0437 - mae: 0.1001 - val_loss: 0.1259 - val_mse: 0.0568 - val_mae: 0.1259\n",
      "Epoch 11/120\n",
      "6402/6402 [==============================] - 39s 6ms/step - loss: 0.0997 - mse: 0.0437 - mae: 0.0997 - val_loss: 0.1257 - val_mse: 0.0565 - val_mae: 0.1257\n",
      "Epoch 12/120\n",
      "6402/6402 [==============================] - 39s 6ms/step - loss: 0.0995 - mse: 0.0435 - mae: 0.0995 - val_loss: 0.1260 - val_mse: 0.0564 - val_mae: 0.1260\n",
      "Epoch 13/120\n",
      "6402/6402 [==============================] - 43s 7ms/step - loss: 0.0995 - mse: 0.0435 - mae: 0.0995 - val_loss: 0.1253 - val_mse: 0.0567 - val_mae: 0.1253\n",
      "Epoch 14/120\n",
      "6402/6402 [==============================] - 40s 6ms/step - loss: 0.0996 - mse: 0.0435 - mae: 0.0996 - val_loss: 0.1261 - val_mse: 0.0568 - val_mae: 0.1261\n",
      "Epoch 15/120\n",
      "6402/6402 [==============================] - 40s 6ms/step - loss: 0.0993 - mse: 0.0434 - mae: 0.0993 - val_loss: 0.1260 - val_mse: 0.0564 - val_mae: 0.1260\n",
      "Epoch 16/120\n",
      "6402/6402 [==============================] - 39s 6ms/step - loss: 0.0993 - mse: 0.0433 - mae: 0.0993 - val_loss: 0.1258 - val_mse: 0.0563 - val_mae: 0.1258\n",
      "Epoch 17/120\n",
      "6402/6402 [==============================] - 40s 6ms/step - loss: 0.0995 - mse: 0.0434 - mae: 0.0995 - val_loss: 0.1256 - val_mse: 0.0563 - val_mae: 0.1256\n",
      "Epoch 18/120\n",
      "6402/6402 [==============================] - 39s 6ms/step - loss: 0.0994 - mse: 0.0434 - mae: 0.0994 - val_loss: 0.1257 - val_mse: 0.0562 - val_mae: 0.1257\n",
      "Epoch 19/120\n",
      "6402/6402 [==============================] - 39s 6ms/step - loss: 0.0994 - mse: 0.0434 - mae: 0.0994 - val_loss: 0.1260 - val_mse: 0.0566 - val_mae: 0.1260\n",
      "Epoch 20/120\n",
      "6402/6402 [==============================] - 39s 6ms/step - loss: 0.0994 - mse: 0.0433 - mae: 0.0994 - val_loss: 0.1262 - val_mse: 0.0569 - val_mae: 0.1262\n",
      "Epoch 21/120\n",
      "6402/6402 [==============================] - 39s 6ms/step - loss: 0.0994 - mse: 0.0433 - mae: 0.0994 - val_loss: 0.1257 - val_mse: 0.0562 - val_mae: 0.1257\n",
      "Epoch 22/120\n",
      "6402/6402 [==============================] - 40s 6ms/step - loss: 0.0993 - mse: 0.0432 - mae: 0.0993 - val_loss: 0.1259 - val_mse: 0.0568 - val_mae: 0.1259\n",
      "Epoch 23/120\n",
      "6402/6402 [==============================] - 40s 6ms/step - loss: 0.0993 - mse: 0.0432 - mae: 0.0993 - val_loss: 0.1258 - val_mse: 0.0565 - val_mae: 0.1258\n",
      "Epoch 24/120\n",
      "6402/6402 [==============================] - 40s 6ms/step - loss: 0.0991 - mse: 0.0432 - mae: 0.0991 - val_loss: 0.1260 - val_mse: 0.0566 - val_mae: 0.1260\n",
      "Epoch 25/120\n",
      "6402/6402 [==============================] - 40s 6ms/step - loss: 0.0991 - mse: 0.0432 - mae: 0.0991 - val_loss: 0.1263 - val_mse: 0.0569 - val_mae: 0.1263\n",
      "Epoch 26/120\n",
      "6402/6402 [==============================] - 39s 6ms/step - loss: 0.0990 - mse: 0.0431 - mae: 0.0990 - val_loss: 0.1264 - val_mse: 0.0569 - val_mae: 0.1264\n",
      "Epoch 27/120\n",
      "6402/6402 [==============================] - 39s 6ms/step - loss: 0.0990 - mse: 0.0431 - mae: 0.0990 - val_loss: 0.1273 - val_mse: 0.0568 - val_mae: 0.1273\n",
      "Epoch 28/120\n",
      "6402/6402 [==============================] - 39s 6ms/step - loss: 0.0991 - mse: 0.0431 - mae: 0.0991 - val_loss: 0.1263 - val_mse: 0.0563 - val_mae: 0.1263\n",
      "Epoch 29/120\n",
      "6402/6402 [==============================] - 39s 6ms/step - loss: 0.0991 - mse: 0.0431 - mae: 0.0991 - val_loss: 0.1259 - val_mse: 0.0566 - val_mae: 0.1259\n",
      "Epoch 30/120\n",
      "6402/6402 [==============================] - 39s 6ms/step - loss: 0.0991 - mse: 0.0431 - mae: 0.0991 - val_loss: 0.1261 - val_mse: 0.0567 - val_mae: 0.1261\n",
      "Epoch 31/120\n",
      "6402/6402 [==============================] - 39s 6ms/step - loss: 0.0991 - mse: 0.0430 - mae: 0.0991 - val_loss: 0.1262 - val_mse: 0.0564 - val_mae: 0.1262\n",
      "Epoch 32/120\n",
      "6402/6402 [==============================] - 39s 6ms/step - loss: 0.0992 - mse: 0.0431 - mae: 0.0992 - val_loss: 0.1259 - val_mse: 0.0567 - val_mae: 0.1259\n",
      "Epoch 33/120\n",
      "6402/6402 [==============================] - 39s 6ms/step - loss: 0.0992 - mse: 0.0431 - mae: 0.0992 - val_loss: 0.1256 - val_mse: 0.0563 - val_mae: 0.1256\n",
      "Epoch 34/120\n",
      "6402/6402 [==============================] - 39s 6ms/step - loss: 0.0988 - mse: 0.0430 - mae: 0.0988 - val_loss: 0.1265 - val_mse: 0.0569 - val_mae: 0.1265\n",
      "Epoch 35/120\n",
      "6402/6402 [==============================] - 39s 6ms/step - loss: 0.0989 - mse: 0.0430 - mae: 0.0989 - val_loss: 0.1260 - val_mse: 0.0564 - val_mae: 0.1260\n",
      "Epoch 36/120\n",
      "6402/6402 [==============================] - 39s 6ms/step - loss: 0.0991 - mse: 0.0430 - mae: 0.0991 - val_loss: 0.1274 - val_mse: 0.0567 - val_mae: 0.1274\n",
      "Epoch 37/120\n",
      "6402/6402 [==============================] - 39s 6ms/step - loss: 0.0990 - mse: 0.0429 - mae: 0.0990 - val_loss: 0.1266 - val_mse: 0.0571 - val_mae: 0.1266\n",
      "Epoch 38/120\n",
      "6402/6402 [==============================] - 39s 6ms/step - loss: 0.0990 - mse: 0.0430 - mae: 0.0990 - val_loss: 0.1267 - val_mse: 0.0571 - val_mae: 0.1267\n",
      "Epoch 39/120\n",
      "6402/6402 [==============================] - 39s 6ms/step - loss: 0.0989 - mse: 0.0429 - mae: 0.0989 - val_loss: 0.1261 - val_mse: 0.0564 - val_mae: 0.1261\n",
      "Epoch 40/120\n",
      "6402/6402 [==============================] - 40s 6ms/step - loss: 0.0988 - mse: 0.0428 - mae: 0.0988 - val_loss: 0.1261 - val_mse: 0.0564 - val_mae: 0.1261\n",
      "Epoch 41/120\n",
      "6402/6402 [==============================] - 40s 6ms/step - loss: 0.0989 - mse: 0.0429 - mae: 0.0989 - val_loss: 0.1263 - val_mse: 0.0565 - val_mae: 0.1263\n",
      "Epoch 42/120\n",
      "6402/6402 [==============================] - 41s 6ms/step - loss: 0.0985 - mse: 0.0428 - mae: 0.0985 - val_loss: 0.1261 - val_mse: 0.0565 - val_mae: 0.1261\n",
      "Epoch 43/120\n",
      "6402/6402 [==============================] - 41s 6ms/step - loss: 0.0986 - mse: 0.0428 - mae: 0.0986 - val_loss: 0.1262 - val_mse: 0.0567 - val_mae: 0.1262\n",
      "Epoch 44/120\n",
      "6402/6402 [==============================] - 38s 6ms/step - loss: 0.0985 - mse: 0.0427 - mae: 0.0985 - val_loss: 0.1284 - val_mse: 0.0569 - val_mae: 0.1284\n",
      "Epoch 45/120\n",
      "6402/6402 [==============================] - 40s 6ms/step - loss: 0.0986 - mse: 0.0427 - mae: 0.0986 - val_loss: 0.1264 - val_mse: 0.0566 - val_mae: 0.1264\n",
      "Epoch 46/120\n",
      "6402/6402 [==============================] - 40s 6ms/step - loss: 0.0986 - mse: 0.0427 - mae: 0.0986 - val_loss: 0.1268 - val_mse: 0.0573 - val_mae: 0.1268\n",
      "Epoch 47/120\n",
      "6402/6402 [==============================] - 41s 6ms/step - loss: 0.0987 - mse: 0.0428 - mae: 0.0987 - val_loss: 0.1261 - val_mse: 0.0566 - val_mae: 0.1261\n",
      "Epoch 48/120\n",
      "6402/6402 [==============================] - 42s 7ms/step - loss: 0.0986 - mse: 0.0427 - mae: 0.0986 - val_loss: 0.1265 - val_mse: 0.0564 - val_mae: 0.1265\n",
      "Epoch 49/120\n",
      "6402/6402 [==============================] - 43s 7ms/step - loss: 0.0988 - mse: 0.0427 - mae: 0.0988 - val_loss: 0.1265 - val_mse: 0.0565 - val_mae: 0.1265\n",
      "Epoch 50/120\n",
      "6402/6402 [==============================] - 47s 7ms/step - loss: 0.0987 - mse: 0.0427 - mae: 0.0987 - val_loss: 0.1276 - val_mse: 0.0570 - val_mae: 0.1276\n",
      "Epoch 51/120\n",
      "6402/6402 [==============================] - 41s 6ms/step - loss: 0.0990 - mse: 0.0428 - mae: 0.0990 - val_loss: 0.1272 - val_mse: 0.0570 - val_mae: 0.1272\n",
      "Epoch 52/120\n",
      "6402/6402 [==============================] - 41s 6ms/step - loss: 0.0989 - mse: 0.0428 - mae: 0.0989 - val_loss: 0.1265 - val_mse: 0.0566 - val_mae: 0.1265\n",
      "Epoch 53/120\n",
      "6402/6402 [==============================] - 41s 6ms/step - loss: 0.0986 - mse: 0.0427 - mae: 0.0986 - val_loss: 0.1272 - val_mse: 0.0568 - val_mae: 0.1272\n",
      "Epoch 54/120\n",
      "6402/6402 [==============================] - 40s 6ms/step - loss: 0.0988 - mse: 0.0427 - mae: 0.0988 - val_loss: 0.1263 - val_mse: 0.0563 - val_mae: 0.1263\n",
      "Epoch 55/120\n",
      "6402/6402 [==============================] - 42s 7ms/step - loss: 0.0987 - mse: 0.0427 - mae: 0.0987 - val_loss: 0.1266 - val_mse: 0.0566 - val_mae: 0.1266\n",
      "Epoch 56/120\n",
      "6402/6402 [==============================] - 42s 7ms/step - loss: 0.0987 - mse: 0.0427 - mae: 0.0987 - val_loss: 0.1260 - val_mse: 0.0567 - val_mae: 0.1260\n",
      "Epoch 57/120\n",
      "6402/6402 [==============================] - 41s 6ms/step - loss: 0.0986 - mse: 0.0427 - mae: 0.0986 - val_loss: 0.1273 - val_mse: 0.0565 - val_mae: 0.1273\n",
      "Epoch 58/120\n",
      "6402/6402 [==============================] - 39s 6ms/step - loss: 0.0985 - mse: 0.0426 - mae: 0.0985 - val_loss: 0.1264 - val_mse: 0.0566 - val_mae: 0.1264\n",
      "Epoch 59/120\n",
      "6402/6402 [==============================] - 39s 6ms/step - loss: 0.0985 - mse: 0.0426 - mae: 0.0985 - val_loss: 0.1280 - val_mse: 0.0572 - val_mae: 0.1280\n",
      "Epoch 60/120\n",
      "6402/6402 [==============================] - 39s 6ms/step - loss: 0.0988 - mse: 0.0427 - mae: 0.0988 - val_loss: 0.1275 - val_mse: 0.0573 - val_mae: 0.1275\n",
      "Epoch 61/120\n",
      "6402/6402 [==============================] - 39s 6ms/step - loss: 0.0987 - mse: 0.0427 - mae: 0.0987 - val_loss: 0.1269 - val_mse: 0.0567 - val_mae: 0.1269\n",
      "Epoch 62/120\n",
      "6402/6402 [==============================] - 39s 6ms/step - loss: 0.0987 - mse: 0.0426 - mae: 0.0987 - val_loss: 0.1270 - val_mse: 0.0569 - val_mae: 0.1270\n",
      "Epoch 63/120\n",
      "6402/6402 [==============================] - 39s 6ms/step - loss: 0.0986 - mse: 0.0426 - mae: 0.0986 - val_loss: 0.1264 - val_mse: 0.0564 - val_mae: 0.1264\n",
      "Epoch 64/120\n",
      "6402/6402 [==============================] - 39s 6ms/step - loss: 0.0987 - mse: 0.0426 - mae: 0.0987 - val_loss: 0.1264 - val_mse: 0.0566 - val_mae: 0.1264\n",
      "Epoch 65/120\n",
      "6402/6402 [==============================] - 39s 6ms/step - loss: 0.0986 - mse: 0.0426 - mae: 0.0986 - val_loss: 0.1265 - val_mse: 0.0565 - val_mae: 0.1265\n",
      "Epoch 66/120\n",
      "6402/6402 [==============================] - 38s 6ms/step - loss: 0.0986 - mse: 0.0426 - mae: 0.0986 - val_loss: 0.1275 - val_mse: 0.0571 - val_mae: 0.1275\n",
      "Epoch 67/120\n",
      "6402/6402 [==============================] - 39s 6ms/step - loss: 0.0986 - mse: 0.0426 - mae: 0.0986 - val_loss: 0.1268 - val_mse: 0.0569 - val_mae: 0.1268\n",
      "Epoch 68/120\n",
      "6402/6402 [==============================] - 41s 6ms/step - loss: 0.0984 - mse: 0.0425 - mae: 0.0984 - val_loss: 0.1274 - val_mse: 0.0573 - val_mae: 0.1274\n",
      "Epoch 69/120\n",
      "6402/6402 [==============================] - 40s 6ms/step - loss: 0.0982 - mse: 0.0424 - mae: 0.0982 - val_loss: 0.1269 - val_mse: 0.0570 - val_mae: 0.1269\n",
      "Epoch 70/120\n",
      "6402/6402 [==============================] - 40s 6ms/step - loss: 0.0982 - mse: 0.0424 - mae: 0.0982 - val_loss: 0.1279 - val_mse: 0.0575 - val_mae: 0.1279\n",
      "Epoch 71/120\n",
      "6402/6402 [==============================] - 39s 6ms/step - loss: 0.0983 - mse: 0.0424 - mae: 0.0983 - val_loss: 0.1271 - val_mse: 0.0566 - val_mae: 0.1271\n",
      "Epoch 72/120\n",
      "6402/6402 [==============================] - 39s 6ms/step - loss: 0.0984 - mse: 0.0424 - mae: 0.0984 - val_loss: 0.1274 - val_mse: 0.0570 - val_mae: 0.1274\n",
      "Epoch 73/120\n",
      "6402/6402 [==============================] - 39s 6ms/step - loss: 0.0982 - mse: 0.0424 - mae: 0.0982 - val_loss: 0.1266 - val_mse: 0.0566 - val_mae: 0.1266\n",
      "Epoch 74/120\n",
      "6402/6402 [==============================] - 39s 6ms/step - loss: 0.0983 - mse: 0.0424 - mae: 0.0983 - val_loss: 0.1282 - val_mse: 0.0572 - val_mae: 0.1282\n",
      "Epoch 75/120\n",
      "6402/6402 [==============================] - 39s 6ms/step - loss: 0.0985 - mse: 0.0424 - mae: 0.0985 - val_loss: 0.1271 - val_mse: 0.0570 - val_mae: 0.1271\n",
      "Epoch 76/120\n",
      "6402/6402 [==============================] - 39s 6ms/step - loss: 0.0985 - mse: 0.0424 - mae: 0.0985 - val_loss: 0.1271 - val_mse: 0.0572 - val_mae: 0.1271\n",
      "Epoch 77/120\n",
      "6402/6402 [==============================] - 39s 6ms/step - loss: 0.0982 - mse: 0.0424 - mae: 0.0982 - val_loss: 0.1271 - val_mse: 0.0570 - val_mae: 0.1271\n",
      "Epoch 78/120\n",
      "6402/6402 [==============================] - 39s 6ms/step - loss: 0.0985 - mse: 0.0424 - mae: 0.0985 - val_loss: 0.1270 - val_mse: 0.0568 - val_mae: 0.1270\n",
      "Epoch 79/120\n",
      "6402/6402 [==============================] - 40s 6ms/step - loss: 0.0986 - mse: 0.0424 - mae: 0.0986 - val_loss: 0.1273 - val_mse: 0.0571 - val_mae: 0.1273\n",
      "Epoch 80/120\n",
      "6402/6402 [==============================] - 39s 6ms/step - loss: 0.0986 - mse: 0.0425 - mae: 0.0986 - val_loss: 0.1275 - val_mse: 0.0573 - val_mae: 0.1275\n",
      "Epoch 81/120\n",
      "6402/6402 [==============================] - 40s 6ms/step - loss: 0.0986 - mse: 0.0424 - mae: 0.0986 - val_loss: 0.1288 - val_mse: 0.0578 - val_mae: 0.1288\n",
      "Epoch 82/120\n",
      "6402/6402 [==============================] - 39s 6ms/step - loss: 0.0987 - mse: 0.0425 - mae: 0.0987 - val_loss: 0.1271 - val_mse: 0.0566 - val_mae: 0.1271\n",
      "Epoch 83/120\n",
      "6402/6402 [==============================] - 39s 6ms/step - loss: 0.0984 - mse: 0.0423 - mae: 0.0984 - val_loss: 0.1284 - val_mse: 0.0576 - val_mae: 0.1284\n",
      "Epoch 84/120\n",
      "6402/6402 [==============================] - 39s 6ms/step - loss: 0.0984 - mse: 0.0424 - mae: 0.0984 - val_loss: 0.1277 - val_mse: 0.0568 - val_mae: 0.1277\n",
      "Epoch 85/120\n",
      "6402/6402 [==============================] - 39s 6ms/step - loss: 0.0985 - mse: 0.0424 - mae: 0.0985 - val_loss: 0.1275 - val_mse: 0.0568 - val_mae: 0.1275\n",
      "Epoch 86/120\n",
      "6402/6402 [==============================] - 38s 6ms/step - loss: 0.0983 - mse: 0.0423 - mae: 0.0983 - val_loss: 0.1275 - val_mse: 0.0569 - val_mae: 0.1275\n",
      "Epoch 87/120\n",
      "6402/6402 [==============================] - 39s 6ms/step - loss: 0.0985 - mse: 0.0424 - mae: 0.0985 - val_loss: 0.1286 - val_mse: 0.0579 - val_mae: 0.1286\n",
      "Epoch 88/120\n",
      "6402/6402 [==============================] - 39s 6ms/step - loss: 0.0984 - mse: 0.0423 - mae: 0.0984 - val_loss: 0.1271 - val_mse: 0.0570 - val_mae: 0.1271\n",
      "Epoch 89/120\n",
      "6402/6402 [==============================] - 39s 6ms/step - loss: 0.0985 - mse: 0.0423 - mae: 0.0985 - val_loss: 0.1279 - val_mse: 0.0571 - val_mae: 0.1279\n",
      "Epoch 90/120\n",
      "6402/6402 [==============================] - 39s 6ms/step - loss: 0.0987 - mse: 0.0424 - mae: 0.0987 - val_loss: 0.1271 - val_mse: 0.0571 - val_mae: 0.1271\n",
      "Epoch 91/120\n",
      "6402/6402 [==============================] - 39s 6ms/step - loss: 0.0982 - mse: 0.0423 - mae: 0.0982 - val_loss: 0.1292 - val_mse: 0.0577 - val_mae: 0.1292\n",
      "Epoch 92/120\n",
      "6402/6402 [==============================] - 39s 6ms/step - loss: 0.0981 - mse: 0.0422 - mae: 0.0981 - val_loss: 0.1276 - val_mse: 0.0569 - val_mae: 0.1276\n",
      "Epoch 93/120\n",
      "6402/6402 [==============================] - 39s 6ms/step - loss: 0.0980 - mse: 0.0422 - mae: 0.0980 - val_loss: 0.1270 - val_mse: 0.0568 - val_mae: 0.1270\n",
      "Epoch 94/120\n",
      "6402/6402 [==============================] - 39s 6ms/step - loss: 0.0983 - mse: 0.0423 - mae: 0.0983 - val_loss: 0.1277 - val_mse: 0.0574 - val_mae: 0.1277\n",
      "Epoch 95/120\n",
      "6402/6402 [==============================] - 38s 6ms/step - loss: 0.0982 - mse: 0.0422 - mae: 0.0982 - val_loss: 0.1280 - val_mse: 0.0574 - val_mae: 0.1280\n",
      "Epoch 96/120\n",
      "6402/6402 [==============================] - 39s 6ms/step - loss: 0.0982 - mse: 0.0422 - mae: 0.0982 - val_loss: 0.1285 - val_mse: 0.0571 - val_mae: 0.1285\n",
      "Epoch 97/120\n",
      "6402/6402 [==============================] - 39s 6ms/step - loss: 0.0982 - mse: 0.0422 - mae: 0.0982 - val_loss: 0.1274 - val_mse: 0.0574 - val_mae: 0.1274\n",
      "Epoch 98/120\n",
      "6402/6402 [==============================] - 39s 6ms/step - loss: 0.0982 - mse: 0.0422 - mae: 0.0982 - val_loss: 0.1286 - val_mse: 0.0577 - val_mae: 0.1286\n",
      "Epoch 99/120\n",
      "6402/6402 [==============================] - 39s 6ms/step - loss: 0.0982 - mse: 0.0422 - mae: 0.0982 - val_loss: 0.1272 - val_mse: 0.0570 - val_mae: 0.1272\n",
      "Epoch 100/120\n",
      "6402/6402 [==============================] - 38s 6ms/step - loss: 0.0982 - mse: 0.0422 - mae: 0.0982 - val_loss: 0.1269 - val_mse: 0.0570 - val_mae: 0.1269\n",
      "Epoch 101/120\n",
      "6402/6402 [==============================] - 40s 6ms/step - loss: 0.0981 - mse: 0.0421 - mae: 0.0981 - val_loss: 0.1277 - val_mse: 0.0575 - val_mae: 0.1277\n",
      "Epoch 102/120\n",
      "6402/6402 [==============================] - 39s 6ms/step - loss: 0.0982 - mse: 0.0422 - mae: 0.0982 - val_loss: 0.1278 - val_mse: 0.0574 - val_mae: 0.1278\n",
      "Epoch 103/120\n",
      "6402/6402 [==============================] - 39s 6ms/step - loss: 0.0981 - mse: 0.0422 - mae: 0.0981 - val_loss: 0.1273 - val_mse: 0.0573 - val_mae: 0.1273\n",
      "Epoch 104/120\n",
      "6402/6402 [==============================] - 38s 6ms/step - loss: 0.0982 - mse: 0.0422 - mae: 0.0982 - val_loss: 0.1281 - val_mse: 0.0576 - val_mae: 0.1281\n",
      "Epoch 105/120\n",
      "6402/6402 [==============================] - 39s 6ms/step - loss: 0.0979 - mse: 0.0421 - mae: 0.0979 - val_loss: 0.1275 - val_mse: 0.0571 - val_mae: 0.1275\n",
      "Epoch 106/120\n",
      "6402/6402 [==============================] - 106s 17ms/step - loss: 0.0983 - mse: 0.0422 - mae: 0.0983 - val_loss: 0.1283 - val_mse: 0.0578 - val_mae: 0.1283\n",
      "Epoch 107/120\n",
      "6402/6402 [==============================] - 40s 6ms/step - loss: 0.0983 - mse: 0.0422 - mae: 0.0983 - val_loss: 0.1288 - val_mse: 0.0575 - val_mae: 0.1288\n",
      "Epoch 108/120\n",
      "6402/6402 [==============================] - 88s 14ms/step - loss: 0.0981 - mse: 0.0422 - mae: 0.0981 - val_loss: 0.1275 - val_mse: 0.0571 - val_mae: 0.1275\n",
      "Epoch 109/120\n",
      "6402/6402 [==============================] - 63s 10ms/step - loss: 0.0984 - mse: 0.0422 - mae: 0.0984 - val_loss: 0.1279 - val_mse: 0.0575 - val_mae: 0.1279\n",
      "Epoch 110/120\n",
      "6402/6402 [==============================] - 39s 6ms/step - loss: 0.0982 - mse: 0.0421 - mae: 0.0982 - val_loss: 0.1276 - val_mse: 0.0576 - val_mae: 0.1276\n",
      "Epoch 111/120\n",
      "6402/6402 [==============================] - 39s 6ms/step - loss: 0.0983 - mse: 0.0422 - mae: 0.0983 - val_loss: 0.1279 - val_mse: 0.0573 - val_mae: 0.1279\n",
      "Epoch 112/120\n",
      "6402/6402 [==============================] - 39s 6ms/step - loss: 0.0981 - mse: 0.0422 - mae: 0.0981 - val_loss: 0.1283 - val_mse: 0.0576 - val_mae: 0.1283\n",
      "Epoch 113/120\n",
      "6402/6402 [==============================] - 54s 8ms/step - loss: 0.0981 - mse: 0.0421 - mae: 0.0981 - val_loss: 0.1278 - val_mse: 0.0572 - val_mae: 0.1278\n",
      "Epoch 114/120\n",
      "6402/6402 [==============================] - 44s 7ms/step - loss: 0.0982 - mse: 0.0421 - mae: 0.0982 - val_loss: 0.1276 - val_mse: 0.0574 - val_mae: 0.1276\n",
      "Epoch 115/120\n",
      "6402/6402 [==============================] - 39s 6ms/step - loss: 0.0981 - mse: 0.0420 - mae: 0.0981 - val_loss: 0.1281 - val_mse: 0.0574 - val_mae: 0.1281\n",
      "Epoch 116/120\n",
      "6402/6402 [==============================] - 63s 10ms/step - loss: 0.0982 - mse: 0.0420 - mae: 0.0982 - val_loss: 0.1280 - val_mse: 0.0574 - val_mae: 0.1280\n",
      "Epoch 117/120\n",
      "6402/6402 [==============================] - 41s 6ms/step - loss: 0.0984 - mse: 0.0421 - mae: 0.0984 - val_loss: 0.1281 - val_mse: 0.0571 - val_mae: 0.1281\n",
      "Epoch 118/120\n",
      "6402/6402 [==============================] - 39s 6ms/step - loss: 0.0984 - mse: 0.0422 - mae: 0.0984 - val_loss: 0.1278 - val_mse: 0.0572 - val_mae: 0.1278\n",
      "Epoch 119/120\n",
      "6402/6402 [==============================] - 39s 6ms/step - loss: 0.0981 - mse: 0.0420 - mae: 0.0981 - val_loss: 0.1282 - val_mse: 0.0574 - val_mae: 0.1282\n",
      "Epoch 120/120\n",
      "6402/6402 [==============================] - 110s 17ms/step - loss: 0.0980 - mse: 0.0420 - mae: 0.0980 - val_loss: 0.1281 - val_mse: 0.0572 - val_mae: 0.1281\n"
     ]
    }
   ],
   "source": [
    "history_gigant_negatywne_2 = gigant_negatywne.fit(X_train, y_train, batch_size=128, epochs=120, validation_data=(X_val, y_val))"
   ],
   "metadata": {
    "collapsed": false
   }
  },
  {
   "cell_type": "code",
   "execution_count": 10,
   "outputs": [],
   "source": [
    "gigant_negatywne.save(\"biggest_negative.h5\")"
   ],
   "metadata": {
    "collapsed": false
   }
  },
  {
   "cell_type": "code",
   "execution_count": null,
   "outputs": [],
   "source": [],
   "metadata": {
    "collapsed": false
   }
  }
 ],
 "metadata": {
  "kernelspec": {
   "display_name": "Python 3",
   "language": "python",
   "name": "python3"
  },
  "language_info": {
   "codemirror_mode": {
    "name": "ipython",
    "version": 2
   },
   "file_extension": ".py",
   "mimetype": "text/x-python",
   "name": "python",
   "nbconvert_exporter": "python",
   "pygments_lexer": "ipython2",
   "version": "2.7.6"
  }
 },
 "nbformat": 4,
 "nbformat_minor": 0
}
