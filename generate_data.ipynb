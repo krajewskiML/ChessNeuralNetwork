{
 "cells": [
  {
   "cell_type": "code",
   "execution_count": 19,
   "metadata": {
    "collapsed": true
   },
   "outputs": [],
   "source": [
    "import numpy as np\n",
    "import pandas as pd\n",
    "from chess import Board\n",
    "from stockfish import Stockfish\n",
    "from tqdm import tqdm"
   ]
  },
  {
   "cell_type": "code",
   "execution_count": 2,
   "outputs": [
    {
     "data": {
      "text/plain": "         id  rated    created_at  last_move_at  turns victory_status winner  \\\n0  TZJHLljE  False  1.504210e+12  1.504210e+12     13      outoftime  white   \n1  l1NXvwaE   True  1.504130e+12  1.504130e+12     16         resign  black   \n2  mIICvQHh   True  1.504130e+12  1.504130e+12     61           mate  white   \n3  kWKvrqYL   True  1.504110e+12  1.504110e+12     61           mate  white   \n4  9tXo1AUZ   True  1.504030e+12  1.504030e+12     95           mate  white   \n\n  increment_code       white_id  white_rating      black_id  black_rating  \\\n0           15+2       bourgris          1500          a-00          1191   \n1           5+10           a-00          1322     skinnerua          1261   \n2           5+10         ischia          1496          a-00          1500   \n3           20+0  daniamurashov          1439  adivanov2009          1454   \n4           30+3      nik221107          1523  adivanov2009          1469   \n\n                                               moves opening_eco  \\\n0  d4 d5 c4 c6 cxd5 e6 dxe6 fxe6 Nf3 Bb4+ Nc3 Ba5...         D10   \n1  d4 Nc6 e4 e5 f4 f6 dxe5 fxe5 fxe5 Nxe5 Qd4 Nc6...         B00   \n2  e4 e5 d3 d6 Be3 c6 Be2 b5 Nd2 a5 a4 c5 axb5 Nc...         C20   \n3  d4 d5 Nf3 Bf5 Nc3 Nf6 Bf4 Ng4 e3 Nc6 Be2 Qd7 O...         D02   \n4  e4 e5 Nf3 d6 d4 Nc6 d5 Nb4 a3 Na6 Nc3 Be7 b4 N...         C41   \n\n                             opening_name  opening_ply  \n0        Slav Defense: Exchange Variation            5  \n1  Nimzowitsch Defense: Kennedy Variation            4  \n2   King's Pawn Game: Leonardis Variation            3  \n3  Queen's Pawn Game: Zukertort Variation            3  \n4                        Philidor Defense            5  ",
      "text/html": "<div>\n<style scoped>\n    .dataframe tbody tr th:only-of-type {\n        vertical-align: middle;\n    }\n\n    .dataframe tbody tr th {\n        vertical-align: top;\n    }\n\n    .dataframe thead th {\n        text-align: right;\n    }\n</style>\n<table border=\"1\" class=\"dataframe\">\n  <thead>\n    <tr style=\"text-align: right;\">\n      <th></th>\n      <th>id</th>\n      <th>rated</th>\n      <th>created_at</th>\n      <th>last_move_at</th>\n      <th>turns</th>\n      <th>victory_status</th>\n      <th>winner</th>\n      <th>increment_code</th>\n      <th>white_id</th>\n      <th>white_rating</th>\n      <th>black_id</th>\n      <th>black_rating</th>\n      <th>moves</th>\n      <th>opening_eco</th>\n      <th>opening_name</th>\n      <th>opening_ply</th>\n    </tr>\n  </thead>\n  <tbody>\n    <tr>\n      <th>0</th>\n      <td>TZJHLljE</td>\n      <td>False</td>\n      <td>1.504210e+12</td>\n      <td>1.504210e+12</td>\n      <td>13</td>\n      <td>outoftime</td>\n      <td>white</td>\n      <td>15+2</td>\n      <td>bourgris</td>\n      <td>1500</td>\n      <td>a-00</td>\n      <td>1191</td>\n      <td>d4 d5 c4 c6 cxd5 e6 dxe6 fxe6 Nf3 Bb4+ Nc3 Ba5...</td>\n      <td>D10</td>\n      <td>Slav Defense: Exchange Variation</td>\n      <td>5</td>\n    </tr>\n    <tr>\n      <th>1</th>\n      <td>l1NXvwaE</td>\n      <td>True</td>\n      <td>1.504130e+12</td>\n      <td>1.504130e+12</td>\n      <td>16</td>\n      <td>resign</td>\n      <td>black</td>\n      <td>5+10</td>\n      <td>a-00</td>\n      <td>1322</td>\n      <td>skinnerua</td>\n      <td>1261</td>\n      <td>d4 Nc6 e4 e5 f4 f6 dxe5 fxe5 fxe5 Nxe5 Qd4 Nc6...</td>\n      <td>B00</td>\n      <td>Nimzowitsch Defense: Kennedy Variation</td>\n      <td>4</td>\n    </tr>\n    <tr>\n      <th>2</th>\n      <td>mIICvQHh</td>\n      <td>True</td>\n      <td>1.504130e+12</td>\n      <td>1.504130e+12</td>\n      <td>61</td>\n      <td>mate</td>\n      <td>white</td>\n      <td>5+10</td>\n      <td>ischia</td>\n      <td>1496</td>\n      <td>a-00</td>\n      <td>1500</td>\n      <td>e4 e5 d3 d6 Be3 c6 Be2 b5 Nd2 a5 a4 c5 axb5 Nc...</td>\n      <td>C20</td>\n      <td>King's Pawn Game: Leonardis Variation</td>\n      <td>3</td>\n    </tr>\n    <tr>\n      <th>3</th>\n      <td>kWKvrqYL</td>\n      <td>True</td>\n      <td>1.504110e+12</td>\n      <td>1.504110e+12</td>\n      <td>61</td>\n      <td>mate</td>\n      <td>white</td>\n      <td>20+0</td>\n      <td>daniamurashov</td>\n      <td>1439</td>\n      <td>adivanov2009</td>\n      <td>1454</td>\n      <td>d4 d5 Nf3 Bf5 Nc3 Nf6 Bf4 Ng4 e3 Nc6 Be2 Qd7 O...</td>\n      <td>D02</td>\n      <td>Queen's Pawn Game: Zukertort Variation</td>\n      <td>3</td>\n    </tr>\n    <tr>\n      <th>4</th>\n      <td>9tXo1AUZ</td>\n      <td>True</td>\n      <td>1.504030e+12</td>\n      <td>1.504030e+12</td>\n      <td>95</td>\n      <td>mate</td>\n      <td>white</td>\n      <td>30+3</td>\n      <td>nik221107</td>\n      <td>1523</td>\n      <td>adivanov2009</td>\n      <td>1469</td>\n      <td>e4 e5 Nf3 d6 d4 Nc6 d5 Nb4 a3 Na6 Nc3 Be7 b4 N...</td>\n      <td>C41</td>\n      <td>Philidor Defense</td>\n      <td>5</td>\n    </tr>\n  </tbody>\n</table>\n</div>"
     },
     "execution_count": 2,
     "metadata": {},
     "output_type": "execute_result"
    }
   ],
   "source": [
    "games_df = pd.read_csv(\"data/games.csv\")\n",
    "games_df.head()"
   ],
   "metadata": {
    "collapsed": false
   }
  },
  {
   "cell_type": "code",
   "execution_count": 3,
   "outputs": [
    {
     "data": {
      "text/plain": "<AxesSubplot: >"
     },
     "execution_count": 3,
     "metadata": {},
     "output_type": "execute_result"
    },
    {
     "data": {
      "text/plain": "<Figure size 640x480 with 1 Axes>",
      "image/png": "[encoded data removed]"
     },
     "metadata": {},
     "output_type": "display_data"
    }
   ],
   "source": [
    "games_df.white_rating.hist(bins=100)"
   ],
   "metadata": {
    "collapsed": false
   }
  },
  {
   "cell_type": "code",
   "execution_count": 4,
   "outputs": [
    {
     "data": {
      "text/plain": "<AxesSubplot: >"
     },
     "execution_count": 4,
     "metadata": {},
     "output_type": "execute_result"
    },
    {
     "data": {
      "text/plain": "<Figure size 640x480 with 1 Axes>",
      "image/png": "[encoded data removed]"
     },
     "metadata": {},
     "output_type": "display_data"
    }
   ],
   "source": [
    "games_df.black_rating.hist(bins=100)"
   ],
   "metadata": {
    "collapsed": false
   }
  },
  {
   "cell_type": "code",
   "execution_count": 5,
   "outputs": [
    {
     "data": {
      "text/plain": "1212827"
     },
     "execution_count": 5,
     "metadata": {},
     "output_type": "execute_result"
    }
   ],
   "source": [
    "all_positions = []\n",
    "for _, game in games_df.iterrows():\n",
    "    moves = game[\"moves\"].split(' ')\n",
    "    board = Board()\n",
    "    for move in moves:\n",
    "        board.push_san(move)\n",
    "        all_positions.append(board.fen())\n",
    "len(all_positions)"
   ],
   "metadata": {
    "collapsed": false
   }
  },
  {
   "cell_type": "markdown",
   "source": [
    "Remove duplicate states"
   ],
   "metadata": {
    "collapsed": false
   }
  },
  {
   "cell_type": "code",
   "execution_count": 7,
   "outputs": [
    {
     "data": {
      "text/plain": "1024317"
     },
     "execution_count": 7,
     "metadata": {},
     "output_type": "execute_result"
    }
   ],
   "source": [
    "unique_positions = list(set(all_positions))\n",
    "len(unique_positions)"
   ],
   "metadata": {
    "collapsed": false
   }
  },
  {
   "cell_type": "markdown",
   "source": [
    "Let's create our own DataFrame with only necessary data"
   ],
   "metadata": {
    "collapsed": false
   }
  },
  {
   "cell_type": "code",
   "execution_count": 10,
   "outputs": [
    {
     "data": {
      "text/plain": "                                           positions\n0  4r3/2pk3p/p2bnpnP/1p2p3/2B1P3/2P1BP2/PPKN1P2/6...\n1  r1bqk1nr/ppp2ppp/2n5/2N5/2pp4/1P6/P3PPPP/R2QKB...\n2  8/1kp2N2/pbp2pp1/4r3/4P1P1/2PR1P1P/PP4K1/8 b -...\n3  rnbq2nr/pp1pk3/3p1p1p/3Np1pQ/3PP3/7P/PP3PP1/R1...\n4        5N1k/7P/2p1K3/1p1pP3/3P4/8/2n5/8 b - - 3 80",
      "text/html": "<div>\n<style scoped>\n    .dataframe tbody tr th:only-of-type {\n        vertical-align: middle;\n    }\n\n    .dataframe tbody tr th {\n        vertical-align: top;\n    }\n\n    .dataframe thead th {\n        text-align: right;\n    }\n</style>\n<table border=\"1\" class=\"dataframe\">\n  <thead>\n    <tr style=\"text-align: right;\">\n      <th></th>\n      <th>positions</th>\n    </tr>\n  </thead>\n  <tbody>\n    <tr>\n      <th>0</th>\n      <td>4r3/2pk3p/p2bnpnP/1p2p3/2B1P3/2P1BP2/PPKN1P2/6...</td>\n    </tr>\n    <tr>\n      <th>1</th>\n      <td>r1bqk1nr/ppp2ppp/2n5/2N5/2pp4/1P6/P3PPPP/R2QKB...</td>\n    </tr>\n    <tr>\n      <th>2</th>\n      <td>8/1kp2N2/pbp2pp1/4r3/4P1P1/2PR1P1P/PP4K1/8 b -...</td>\n    </tr>\n    <tr>\n      <th>3</th>\n      <td>rnbq2nr/pp1pk3/3p1p1p/3Np1pQ/3PP3/7P/PP3PP1/R1...</td>\n    </tr>\n    <tr>\n      <th>4</th>\n      <td>5N1k/7P/2p1K3/1p1pP3/3P4/8/2n5/8 b - - 3 80</td>\n    </tr>\n  </tbody>\n</table>\n</div>"
     },
     "execution_count": 10,
     "metadata": {},
     "output_type": "execute_result"
    }
   ],
   "source": [
    "df = pd.DataFrame({\"positions\": unique_positions})\n",
    "df.head()"
   ],
   "metadata": {
    "collapsed": false
   }
  },
  {
   "cell_type": "markdown",
   "source": [
    "Let's extract which side is to move from the board representation"
   ],
   "metadata": {
    "collapsed": false
   }
  },
  {
   "cell_type": "code",
   "execution_count": 13,
   "outputs": [
    {
     "data": {
      "text/plain": "                                           positions  to_move\n0  4r3/2pk3p/p2bnpnP/1p2p3/2B1P3/2P1BP2/PPKN1P2/6...        0\n1  r1bqk1nr/ppp2ppp/2n5/2N5/2pp4/1P6/P3PPPP/R2QKB...        0\n2  8/1kp2N2/pbp2pp1/4r3/4P1P1/2PR1P1P/PP4K1/8 b -...        1\n3  rnbq2nr/pp1pk3/3p1p1p/3Np1pQ/3PP3/7P/PP3PP1/R1...        1\n4        5N1k/7P/2p1K3/1p1pP3/3P4/8/2n5/8 b - - 3 80        1",
      "text/html": "<div>\n<style scoped>\n    .dataframe tbody tr th:only-of-type {\n        vertical-align: middle;\n    }\n\n    .dataframe tbody tr th {\n        vertical-align: top;\n    }\n\n    .dataframe thead th {\n        text-align: right;\n    }\n</style>\n<table border=\"1\" class=\"dataframe\">\n  <thead>\n    <tr style=\"text-align: right;\">\n      <th></th>\n      <th>positions</th>\n      <th>to_move</th>\n    </tr>\n  </thead>\n  <tbody>\n    <tr>\n      <th>0</th>\n      <td>4r3/2pk3p/p2bnpnP/1p2p3/2B1P3/2P1BP2/PPKN1P2/6...</td>\n      <td>0</td>\n    </tr>\n    <tr>\n      <th>1</th>\n      <td>r1bqk1nr/ppp2ppp/2n5/2N5/2pp4/1P6/P3PPPP/R2QKB...</td>\n      <td>0</td>\n    </tr>\n    <tr>\n      <th>2</th>\n      <td>8/1kp2N2/pbp2pp1/4r3/4P1P1/2PR1P1P/PP4K1/8 b -...</td>\n      <td>1</td>\n    </tr>\n    <tr>\n      <th>3</th>\n      <td>rnbq2nr/pp1pk3/3p1p1p/3Np1pQ/3PP3/7P/PP3PP1/R1...</td>\n      <td>1</td>\n    </tr>\n    <tr>\n      <th>4</th>\n      <td>5N1k/7P/2p1K3/1p1pP3/3P4/8/2n5/8 b - - 3 80</td>\n      <td>1</td>\n    </tr>\n  </tbody>\n</table>\n</div>"
     },
     "execution_count": 13,
     "metadata": {},
     "output_type": "execute_result"
    }
   ],
   "source": [
    "def extract_side(row):\n",
    "    state = row[\"positions\"]\n",
    "    color = state.split(\" \")[1]\n",
    "    return 1 if color == \"b\" else 0\n",
    "\n",
    "df[\"to_move\"] = df.apply(extract_side, axis=1)\n",
    "df.head()"
   ],
   "metadata": {
    "collapsed": false
   }
  },
  {
   "cell_type": "markdown",
   "source": [
    "Let's load the stockfish engine"
   ],
   "metadata": {
    "collapsed": false
   }
  },
  {
   "cell_type": "code",
   "execution_count": 14,
   "outputs": [],
   "source": [
    "stockfish_engine = Stockfish('C:/Users/Maciej/PycharmProjects/reinforcement_learning_chess/stockfish_15.1_win_x64_avx2/stockfish_15.1_win_x64_avx2/stockfish-windows-2022-x86-64-avx2.exe', depth=4)"
   ],
   "metadata": {
    "collapsed": false
   }
  },
  {
   "cell_type": "markdown",
   "source": [
    "Let's evaluate the board states"
   ],
   "metadata": {
    "collapsed": false
   }
  },
  {
   "cell_type": "code",
   "execution_count": 21,
   "outputs": [
    {
     "name": "stderr",
     "output_type": "stream",
     "text": [
      "1024317it [39:39, 430.47it/s]\n"
     ]
    }
   ],
   "source": [
    "evaluations = []\n",
    "for idx, row in tqdm(df.iterrows()):\n",
    "    stockfish_engine.set_fen_position(row[\"positions\"])\n",
    "    evaluations.append(stockfish_engine.get_evaluation())"
   ],
   "metadata": {
    "collapsed": false
   }
  },
  {
   "cell_type": "markdown",
   "source": [
    "Let's add the data to dataframe"
   ],
   "metadata": {
    "collapsed": false
   }
  },
  {
   "cell_type": "code",
   "execution_count": 23,
   "outputs": [],
   "source": [
    "df[\"centipawns\"] = None\n",
    "df[\"mate\"] = None\n",
    "for idx, evaluation in enumerate(evaluations):\n",
    "    if evaluation[\"type\"] == \"mate\":\n",
    "        df.at[idx, \"mate\"] = 1\n",
    "    else:\n",
    "        df.at[idx, \"centipawns\"] = evaluation[\"value\"]"
   ],
   "metadata": {
    "collapsed": false
   }
  },
  {
   "cell_type": "markdown",
   "source": [
    "Let's plot centipawns so we can figure out what value to user for mate"
   ],
   "metadata": {
    "collapsed": false
   }
  },
  {
   "cell_type": "code",
   "execution_count": 25,
   "outputs": [
    {
     "data": {
      "text/plain": "<AxesSubplot: >"
     },
     "execution_count": 25,
     "metadata": {},
     "output_type": "execute_result"
    },
    {
     "data": {
      "text/plain": "<Figure size 640x480 with 1 Axes>",
      "image/png": "[encoded data removed]"
     },
     "metadata": {},
     "output_type": "display_data"
    }
   ],
   "source": [
    "df[\"centipawns\"].hist(bins=100)"
   ],
   "metadata": {
    "collapsed": false
   }
  },
  {
   "cell_type": "code",
   "execution_count": 26,
   "outputs": [
    {
     "data": {
      "text/plain": "(-5893, 7166)"
     },
     "execution_count": 26,
     "metadata": {},
     "output_type": "execute_result"
    }
   ],
   "source": [
    "df[\"centipawns\"].min(), df[\"centipawns\"].max()"
   ],
   "metadata": {
    "collapsed": false
   }
  },
  {
   "cell_type": "markdown",
   "source": [
    "As 100 centipawns mean that we have an advantage of 1 pawn I pick the value for mate to be 10000 (althoughit might be changed later) Let's calculate the final score"
   ],
   "metadata": {
    "collapsed": false
   }
  },
  {
   "cell_type": "code",
   "execution_count": 30,
   "outputs": [],
   "source": [
    "def calculate_score(row):\n",
    "    return 10_000 if row[\"mate\"] is not None else row[\"centipawns\"]\n",
    "df[\"final_score\"] = df.apply(calculate_score, axis=1)"
   ],
   "metadata": {
    "collapsed": false
   }
  },
  {
   "cell_type": "code",
   "execution_count": 31,
   "outputs": [
    {
     "data": {
      "text/plain": "                                           positions  to_move centipawns  \\\n0  4r3/2pk3p/p2bnpnP/1p2p3/2B1P3/2P1BP2/PPKN1P2/6...        0        478   \n1  r1bqk1nr/ppp2ppp/2n5/2N5/2pp4/1P6/P3PPPP/R2QKB...        0       -180   \n2  8/1kp2N2/pbp2pp1/4r3/4P1P1/2PR1P1P/PP4K1/8 b -...        1        339   \n3  rnbq2nr/pp1pk3/3p1p1p/3Np1pQ/3PP3/7P/PP3PP1/R1...        1        635   \n4        5N1k/7P/2p1K3/1p1pP3/3P4/8/2n5/8 b - - 3 80        1         66   \n\n   mate  final_score  \n0  None          478  \n1  None         -180  \n2  None          339  \n3  None          635  \n4  None           66  ",
      "text/html": "<div>\n<style scoped>\n    .dataframe tbody tr th:only-of-type {\n        vertical-align: middle;\n    }\n\n    .dataframe tbody tr th {\n        vertical-align: top;\n    }\n\n    .dataframe thead th {\n        text-align: right;\n    }\n</style>\n<table border=\"1\" class=\"dataframe\">\n  <thead>\n    <tr style=\"text-align: right;\">\n      <th></th>\n      <th>positions</th>\n      <th>to_move</th>\n      <th>centipawns</th>\n      <th>mate</th>\n      <th>final_score</th>\n    </tr>\n  </thead>\n  <tbody>\n    <tr>\n      <th>0</th>\n      <td>4r3/2pk3p/p2bnpnP/1p2p3/2B1P3/2P1BP2/PPKN1P2/6...</td>\n      <td>0</td>\n      <td>478</td>\n      <td>None</td>\n      <td>478</td>\n    </tr>\n    <tr>\n      <th>1</th>\n      <td>r1bqk1nr/ppp2ppp/2n5/2N5/2pp4/1P6/P3PPPP/R2QKB...</td>\n      <td>0</td>\n      <td>-180</td>\n      <td>None</td>\n      <td>-180</td>\n    </tr>\n    <tr>\n      <th>2</th>\n      <td>8/1kp2N2/pbp2pp1/4r3/4P1P1/2PR1P1P/PP4K1/8 b -...</td>\n      <td>1</td>\n      <td>339</td>\n      <td>None</td>\n      <td>339</td>\n    </tr>\n    <tr>\n      <th>3</th>\n      <td>rnbq2nr/pp1pk3/3p1p1p/3Np1pQ/3PP3/7P/PP3PP1/R1...</td>\n      <td>1</td>\n      <td>635</td>\n      <td>None</td>\n      <td>635</td>\n    </tr>\n    <tr>\n      <th>4</th>\n      <td>5N1k/7P/2p1K3/1p1pP3/3P4/8/2n5/8 b - - 3 80</td>\n      <td>1</td>\n      <td>66</td>\n      <td>None</td>\n      <td>66</td>\n    </tr>\n  </tbody>\n</table>\n</div>"
     },
     "execution_count": 31,
     "metadata": {},
     "output_type": "execute_result"
    }
   ],
   "source": [
    "df.head()"
   ],
   "metadata": {
    "collapsed": false
   }
  },
  {
   "cell_type": "code",
   "execution_count": 32,
   "outputs": [],
   "source": [
    "df.to_csv(\"data_backup.csv\", index=False)"
   ],
   "metadata": {
    "collapsed": false
   }
  },
  {
   "cell_type": "markdown",
   "source": [
    "## Creating data and labels in tensor format\n",
    "### Input format\n",
    "The idea behind the input format is to represent each board as a 8x8x12 tensor (8x8 as it is a board size and 12 as we have 6 type od pieces for each player)\n",
    "so the idea is that FEN board representation stores information whose move is now.\n",
    "In our game simulation the course of a turn will look like this. We get all possible future states of the boards and evaluate their value, the better the position the higher the score. But as we generate the possible boards the color of player to move changes. So if the to move color is black that means that we currently evaluate the position for white pieces and vice versa. We want the neural network to kind of \"look\" from the perspective of the player that picks the best possible state that his opponent need to face. In order to obtain that we will always place the figures of the player that is NOT to move on the upper 6 2d arrays part of the tensor and the opponents pieces on the bottom bart of tensor. What we will also do in case of black player is that we will mirror his pieces in one axis so that it resembles positions white pieces when white player is playing.\n",
    "\n",
    "### Labels format\n",
    "As we are switching the sides of the chess piecs to simulate viewing the board we also need to switch the input accordingly. So the metric that we currently use is centipawns, it says how good the white player's position is. Positive value indicates that the position is advantageous for white and negative value means that black is in favor. As we know from the input section when the to move value is indicating that white is to move that means we are currently evaluating white's positions and vice versa. So when to move is black (so we are evaluating white's move) we do not reverse the centipawns as they are evaluating white positions, but when white is to move we need to reverse the centipaws (multiply by -1)"
   ],
   "metadata": {
    "collapsed": false
   }
  },
  {
   "cell_type": "code",
   "execution_count": 43,
   "outputs": [],
   "source": [
    "def board_to_tensor(board_instance):\n",
    "    tensor = np.zeros((12, 8, 8))\n",
    "    to_move = board_instance.turn # true -> white, false -> black\n",
    "    for i in range(8): # rows\n",
    "        for j in range(8): # columns\n",
    "            piece = board_instance.piece_at(i * 8 + j)\n",
    "            if piece is not None:\n",
    "                if to_move: # white -> we do not invert anything\n",
    "                    if piece.color:\n",
    "                        tensor[piece.piece_type - 1][i][j] = 1\n",
    "                    else:\n",
    "                        tensor[piece.piece_type + 5][i][j] = 1\n",
    "                else:  # black -> we do not invert anything\n",
    "                    if not piece.color: # upside down\n",
    "                        tensor[piece.piece_type - 1][7 - i][j] = 1\n",
    "                    else:\n",
    "                        tensor[piece.piece_type + 5][7 - i][j] = 1\n",
    "    return tensor"
   ],
   "metadata": {
    "collapsed": false
   }
  },
  {
   "cell_type": "code",
   "execution_count": 44,
   "outputs": [],
   "source": [
    "def create_input_and_output(row):\n",
    "    chess_board = Board()\n",
    "    chess_board.set_fen(row[\"positions\"])\n",
    "    to_move = chess_board.turn # true -> white, false -> black\n",
    "    input_repr = board_to_tensor(chess_board)\n",
    "    centipawn_score = row[\"final_score\"]\n",
    "    label = centipawn_score if to_move else centipawn_score * (-1)\n",
    "    return [input_repr, label]"
   ],
   "metadata": {
    "collapsed": false
   }
  },
  {
   "cell_type": "code",
   "execution_count": 49,
   "outputs": [],
   "source": [
    "train_data = df.apply(create_input_and_output, axis=1, result_type='expand')"
   ],
   "metadata": {
    "collapsed": false
   }
  },
  {
   "cell_type": "code",
   "execution_count": 55,
   "outputs": [],
   "source": [
    "inputs, labels = np.array(train_data[0].to_list()), np.array(train_data[1].to_list())"
   ],
   "metadata": {
    "collapsed": false
   }
  },
  {
   "cell_type": "code",
   "execution_count": 63,
   "outputs": [],
   "source": [
    "inputs.tofile(\"inputs_transformed.npy\")\n",
    "labels.astype(np.float64).tofile(\"labels.npy\")"
   ],
   "metadata": {
    "collapsed": false
   }
  }
 ],
 "metadata": {
  "kernelspec": {
   "display_name": "Python 3",
   "language": "python",
   "name": "python3"
  },
  "language_info": {
   "codemirror_mode": {
    "name": "ipython",
    "version": 2
   },
   "file_extension": ".py",
   "mimetype": "text/x-python",
   "name": "python",
   "nbconvert_exporter": "python",
   "pygments_lexer": "ipython2",
   "version": "2.7.6"
  }
 },
 "nbformat": 4,
 "nbformat_minor": 0
}
